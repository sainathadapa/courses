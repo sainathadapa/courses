{
 "cells": [
  {
   "cell_type": "markdown",
   "metadata": {
    "toc": "true"
   },
   "source": [
    "# Table of Contents\n",
    " <p>"
   ]
  },
  {
   "cell_type": "code",
   "execution_count": 1,
   "metadata": {
    "collapsed": true
   },
   "outputs": [],
   "source": [
    "%matplotlib inline\n",
    "import math,sys,os,numpy as np\n",
    "from numpy.random import random\n",
    "from matplotlib import pyplot as plt, rcParams, animation, rc\n",
    "from __future__ import print_function, division\n",
    "from ipywidgets import interact, interactive, fixed\n",
    "from ipywidgets.widgets import *\n",
    "rc('animation', html='html5')\n",
    "rcParams['figure.figsize'] = 3, 3\n",
    "%precision 4\n",
    "np.set_printoptions(precision=4, linewidth=100)"
   ]
  },
  {
   "cell_type": "code",
   "execution_count": 2,
   "metadata": {
    "collapsed": true
   },
   "outputs": [],
   "source": [
    "def lin(a,b,x): return a*x+b"
   ]
  },
  {
   "cell_type": "code",
   "execution_count": 3,
   "metadata": {
    "collapsed": true
   },
   "outputs": [],
   "source": [
    "a=3.\n",
    "b=8."
   ]
  },
  {
   "cell_type": "code",
   "execution_count": 4,
   "metadata": {
    "collapsed": true
   },
   "outputs": [],
   "source": [
    "n=30\n",
    "x = random(n)\n",
    "y = lin(a,b,x)"
   ]
  },
  {
   "cell_type": "code",
   "execution_count": 5,
   "metadata": {
    "collapsed": false
   },
   "outputs": [
    {
     "data": {
      "text/plain": [
       "array([ 0.4106,  0.1699,  0.0717,  0.6338,  0.8254,  0.5299,  0.2447,  0.5709,  0.3718,  0.6425,\n",
       "        0.7062,  0.8304,  0.3875,  0.942 ,  0.8689,  0.1602,  0.875 ,  0.7593,  0.5519,  0.8974,\n",
       "        0.3995,  0.6796,  0.141 ,  0.0799,  0.0205,  0.2655,  0.0152,  0.932 ,  0.9879,  0.1028])"
      ]
     },
     "execution_count": 5,
     "metadata": {},
     "output_type": "execute_result"
    }
   ],
   "source": [
    "x"
   ]
  },
  {
   "cell_type": "code",
   "execution_count": 6,
   "metadata": {
    "collapsed": false
   },
   "outputs": [
    {
     "data": {
      "text/plain": [
       "array([  9.2318,   8.5096,   8.2152,   9.9013,  10.4762,   9.5896,   8.7342,   9.7126,   9.1155,\n",
       "         9.9274,  10.1187,  10.4911,   9.1626,  10.8259,  10.6066,   8.4806,  10.6251,  10.2779,\n",
       "         9.6556,  10.6922,   9.1984,  10.0387,   8.423 ,   8.2396,   8.0615,   8.7964,   8.0457,\n",
       "        10.796 ,  10.9638,   8.3085])"
      ]
     },
     "execution_count": 6,
     "metadata": {},
     "output_type": "execute_result"
    }
   ],
   "source": [
    "y"
   ]
  },
  {
   "cell_type": "code",
   "execution_count": 7,
   "metadata": {
    "collapsed": false,
    "scrolled": true
   },
   "outputs": [
    {
     "data": {
      "text/plain": [
       "<matplotlib.collections.PathCollection at 0x7f81a3dd92d0>"
      ]
     },
     "execution_count": 7,
     "metadata": {},
     "output_type": "execute_result"
    },
    {
     "data": {
      "image/png": "[encoded data removed]",
      "text/plain": [
       "<matplotlib.figure.Figure at 0x7f81c8081410>"
      ]
     },
     "metadata": {},
     "output_type": "display_data"
    }
   ],
   "source": [
    "plt.scatter(x,y)"
   ]
  },
  {
   "cell_type": "code",
   "execution_count": 8,
   "metadata": {
    "collapsed": true
   },
   "outputs": [],
   "source": [
    "def sse(y,y_pred): return ((y-y_pred)**2).sum()\n",
    "def loss(y,a,b,x): return sse(y, lin(a,b,x))\n",
    "def avg_loss(y,a,b,x): return np.sqrt(loss(y,a,b,x)/n)"
   ]
  },
  {
   "cell_type": "code",
   "execution_count": 9,
   "metadata": {
    "collapsed": false
   },
   "outputs": [
    {
     "data": {
      "text/plain": [
       "9.0971"
      ]
     },
     "execution_count": 9,
     "metadata": {},
     "output_type": "execute_result"
    }
   ],
   "source": [
    "a_guess=-1.\n",
    "b_guess=1.\n",
    "avg_loss(y, a_guess, b_guess, x)"
   ]
  },
  {
   "cell_type": "code",
   "execution_count": 10,
   "metadata": {
    "collapsed": true
   },
   "outputs": [],
   "source": [
    "lr=0.01\n",
    "# d[(y-(a*x+b))**2,b] = 2 (b + a x - y)      = 2 (y_pred - y)\n",
    "# d[(y-(a*x+b))**2,a] = 2 x (b + a x - y)    = x * dy/db"
   ]
  },
  {
   "cell_type": "code",
   "execution_count": 11,
   "metadata": {
    "collapsed": false
   },
   "outputs": [],
   "source": [
    "def upd():\n",
    "    global a_guess, b_guess\n",
    "    y_pred = lin(a_guess, b_guess, x)\n",
    "    dydb = 2 * (y_pred - y)\n",
    "    dyda = x*dydb\n",
    "    a_guess -= lr*dyda.mean()\n",
    "    b_guess -= lr*dydb.mean()"
   ]
  },
  {
   "cell_type": "code",
   "execution_count": 12,
   "metadata": {
    "collapsed": false
   },
   "outputs": [
    {
     "data": {
      "text/html": [
       "<video width=\"500\" height=\"400\" controls autoplay loop>\n",
       "  <source type=\"video/mp4\" src=\"data:video/mp4;base64,AAAAHGZ0eXBNNFYgAAACAGlzb21pc28yYXZjMQAAAAhmcmVlAABP6G1kYXQAAAKuBgX//6rcRem9\n",
       "5tlIt5Ys2CDZI+7veDI2NCAtIGNvcmUgMTQ4IHIyNjQzIDVjNjU3MDQgLSBILjI2NC9NUEVHLTQg\n",
       "QVZDIGNvZGVjIC0gQ29weWxlZnQgMjAwMy0yMDE1IC0gaHR0cDovL3d3dy52aWRlb2xhbi5vcmcv\n",
       "eDI2NC5odG1sIC0gb3B0aW9uczogY2FiYWM9MSByZWY9MyBkZWJsb2NrPTE6MDowIGFuYWx5c2U9\n",
       "MHgzOjB4MTEzIG1lPWhleCBzdWJtZT03IHBzeT0xIHBzeV9yZD0xLjAwOjAuMDAgbWl4ZWRfcmVm\n",
       "PTEgbWVfcmFuZ2U9MTYgY2hyb21hX21lPTEgdHJlbGxpcz0xIDh4OGRjdD0xIGNxbT0wIGRlYWR6\n",
       "b25lPTIxLDExIGZhc3RfcHNraXA9MSBjaHJvbWFfcXBfb2Zmc2V0PS0yIHRocmVhZHM9NiBsb29r\n",
       "YWhlYWRfdGhyZWFkcz0xIHNsaWNlZF90aHJlYWRzPTAgbnI9MCBkZWNpbWF0ZT0xIGludGVybGFj\n",
       "ZWQ9MCBibHVyYXlfY29tcGF0PTAgY29uc3RyYWluZWRfaW50cmE9MCBiZnJhbWVzPTMgYl9weXJh\n",
       "bWlkPTIgYl9hZGFwdD0xIGJfYmlhcz0wIGRpcmVjdD0xIHdlaWdodGI9MSBvcGVuX2dvcD0wIHdl\n",
       "aWdodHA9MiBrZXlpbnQ9MjUwIGtleWludF9taW49MTAgc2NlbmVjdXQ9NDAgaW50cmFfcmVmcmVz\n",
       "aD0wIHJjX2xvb2thaGVhZD00MCByYz1jcmYgbWJ0cmVlPTEgY3JmPTIzLjAgcWNvbXA9MC42MCBx\n",
       "cG1pbj0wIHFwbWF4PTY5IHFwc3RlcD00IGlwX3JhdGlvPTEuNDAgYXE9MToxLjAwAIAAABK8ZYiE\n",
       "AD///vdonwKbWkN6gOSVxSXbT4H/q2dwfI/pAwAAAwAAAwAkAvzHv6EHQzQgAABQic/gsldNQVEG\n",
       "rVWJETueZW6CveofCONurjKq1mcfZ0P89EfiowXffzerReILorurz0Hw00X7IHiVKxzwYDZD0QxJ\n",
       "mjjow9WXmubobDkAApf6OtCzRdbWG2IMvqDtQN4GrhVMTPEMS29oOCMiW4il0DdI0WohGwakH7F4\n",
       "CWgk+A2HFyg1P8HFTl1nLnA5dxJFT6AY16ZV4KPK7+Bwd7nmDtIKBTRJx10t3+npGSv6gsc3VuTU\n",
       "NSlZxbTEjPJuIhz/Wcn28yfGKCS7wXg0bBBlcPS4JJhN6cq6TUAdxyNMcX55I5OI4KRsSE7WF8GX\n",
       "2JjsZs45SgeIYf0sXyX/1/5mFlc6Ht9IwB0ocgONn7KYhUABJgpMKWsoYFwv8lBXVw2WoZoMkgBD\n",
       "4o08J4OhfH3Qm9vJKdRFbLo2AXSNPJJCxhUqfQpPoztoIACqvKaOEurg+u0zq/Xu530Vj7CtOeUp\n",
       "ZAoNH+4A6zWC/qZsvAg/2QciI2Ts4ANj102kok08UnDW8ZNGMhhFVe3dfMZwbwsgBoHlsaJXUTp+\n",
       "5/clbHjkPCo816SScrnqwuhbByflzWw4IdVcY1oe0Wsa/zmqGgUUJkQPlHlmkE65oxjKzUz6ioiG\n",
       "rvlRk/XLnIdWXjBFQw9y1BbsDvtqpnKTPmjBnoKGGt4+ukX5oBwJ2q1xjKPfyNsK+8zU+fERBhRB\n",
       "0qJHBr4ttkIPOQTw2dRb4ugyFT8XeKozsJPvwVbHt3PobvhZ5NkkZKSUdYpQwqCO+8r4qEu7TNVx\n",
       "MMExU0I/WzHxQoLsER2tKapj4knR3CABsqFV+6sNe1TXjjSbY4AKrWwSlVzqrNiqT1VBTkqot0J9\n",
       "c/msuvkiQsMRmKyqaoY1GGY19CUXZqvCrkND0AY74kLHPnv2kcQ8ob/Fipm1ddzU+/PJZbDfSicm\n",
       "ltvB+7AJKqUWHT0suVO1EmzxL6gPIQrNMiPONEvwjLlVzhYRo3YxloYKe/ng9NEOJ0QJgVyC37G2\n",
       "KqEAO8PHLHodto7YDUsklvHSJPSZkq6+FYKtHDydWlXg4tl1O0Np0SNPElcBaWIMQ1MlIDiHcvNI\n",
       "tS3ZeSIniVzc+0UcgR1yhMiZuHMB3mjj4H3lMNA6gZB+0b1LKMgFqYcIsKOI8GSa9MzjgZ1+F3SO\n",
       "mWwXH7uZWq3EDUaJgzrqUv9D6DKFAOvIBQrsHM8WAXhPNMV0gLa40y2zWsVzEgw/Myeg81BIzi/a\n",
       "s9Gb3t+f78/nhuz1kpXCOXtiDBGbaR4N34mb4tSfLN2AAAAnl/s0u6LdjhVjqWGTfHD755oql9Hb\n",
       "fFGnc89p48AWuCcVwZ11VebC/8IlaMDIcuWN+HseYVnDXABUT+ehRio21QZByQ4IUG1USZbK8H+h\n",
       "zcwzVxcACoFHXF0xqcPiI7ULEpSziVMAw5tbU3SgzHyQlYBBn77+ZPuzTGgxG4RF4mGyMCOZvh5J\n",
       "JZvSovt12ACesRohG8/pHCrBuEXRUaWDisXn7nR7Pm/2zHAQ9jV4Mql6ERoh4cExFZw3cO3pa3Bn\n",
       "qrrmATauqp2K0/8Oa1ork1IT5z10k4QWzHs1aKV6csYa1a00q0nvuK/hM9cbXgM/3RSMZtKEE5ij\n",
       "ohfU8o+wMw5tpP1CJ8f+rynwhaaIcuBisA7wVT5F0U46Z2HodNTpxQD4T9X1h6wHeC3lNrlakawe\n",
       "csx1I/HMBa6zUOh45khzFnAOuWYQrHeVLgXhwQGmQFS+a/vjBvCcjQf1EKM2GWmbgS9sjpUEH6Io\n",
       "gynUR7Z+OIqk8352GHpNFL89tmY0+eiYhypSEfk0jD30rr0T4HmqRjKzshGaV/jGqwK6x2UU9+Uq\n",
       "eEXenSJBvuSykt0RYwfwxIJOKoo6Rq8pqgH18E7iGiJI5CZTGKI8v89jc3ciR7hQxFULzPMc+DxR\n",
       "WB3PvvfilbDmMfM473jvpKDHw1c+jJk5EivULmtl95PZNRudCwAX6h/droKDIey+zSZ8Qf+nTZdS\n",
       "7+9xuBj+ovRSkNyuP6pAM+/6rCOXGhnBs1WHgte+2Z5yxhbW2HiaP6MRqv5bJVIDrz5YMaoCOwgE\n",
       "+A0wuhtd6yG5LmFy92jiJ742LmUQnW2UTcyEzW4zu8vVzzuY9U4Rgg+MvHnM8a1SMCD+cko6YlN/\n",
       "OCiOdEaNEqBVuNrgoNYA8nWpHx+qs5axgUDI8wSH/pePeyaOcounITujWzEFMHhDnf446QY0F2TL\n",
       "J65Z7Zsh8+XKj9p6HsV07kylCpcgdaogsNLaMjAhAVX9dRs8fOrcDeQ69H1Q+BO4MqCSVDvrkzrZ\n",
       "nGMTyCm//yGP42fO8xpLpzhW4ccqK7cN5QYH47c6fTbba0cYeQGSJvoBSdazi2v+0ZXmGQfwz+9U\n",
       "2OobSu5QlB4MQtULIZqgtosmFWW47JrCskFTL7AEuXWBGoMzTm9lltRTtJa9IP9ND8Byxyx1gtWQ\n",
       "SLQVtbxKvIeSXbQd/QT1Q9e2CsHldrzESamjGNYSA2Y012mbhm+8tpKDG/f90ZaFcbb2FXh6qztE\n",
       "Lv242Co96tQ5cg0TS0xl1rtEMVqPUJlN/MvatsljAM/WLLVIdSyGxesHldue9eQNu3Ke71xrwS3D\n",
       "J9qUaZTc2vVdqfEtNbWw5IW/QDzlMRS7hmS3a0itJY7vOaJWgUwtQZu17AVnNGPySAqTnz1KHI7C\n",
       "mmm1sMpvfrACIqXgalVZbtWSAuglWbq2O3NZyr6QE++WnPyIfdt2D7qJAk+iLj2crHFPfiLqdf6X\n",
       "cmxZpd6c8IMUv+T0/Ew4FAy5Y0Mt+VwGHRMIPQcrH4mRBZskNpgjhZYBbwjtlkeCDfV5NCYTbK9f\n",
       "8r8xh4xZwVagaccM03OZVAoqqDf893ZENsSvO/D7WZ/j7wHBiyPanAxe3GTVtxCx+vQecXj/9d+Y\n",
       "5Mu0L0OwFgfm0Oq+O4JL3TMH+R8+htkBwhCzXKT3xzWF8IdWLkgm7TAOS3Bk8AWZW1C63in2m+6e\n",
       "qdKcObQAWEG1n6M78QUfM+WtCATJuxJtNx+OE3+rCG6kLTtO6ssAkeVMJ8tepmNHMYg07NUbkIJV\n",
       "l11LKVi2A94+NF9gFnjn8+nJVbFFte/UZmoZfD4A07k5BaLItZe0pWP+1oB9NCyhuP4+39NbTaBE\n",
       "N/9c/nO1MsRVLNz9wVyTORR3N00TddicDVthoPZeLoECeUkWHBAu7vb+A76bf78LskM67yHtiCZE\n",
       "3vcwDYtTc43Pjd8XkvWJd9sfFjUylwUKlzyzL8v4WPw4BDZF+tr7mKjSu4kTsP43EhuR7sDb61Uq\n",
       "h1LQXdxNmWbb/mOKPDVGhDBF6htkYHkDV8ls/6xvbKRYsKr1/p04VKmzpmvY2bL0X4BQWiGIRkqi\n",
       "GIMr/NsXjxQax+dgFbotmDEdgGkw6Gt+k4YG0YdYp2ez+NCcJ/mEwLZIOAuh6ZHxwMXu32AQnNem\n",
       "w4F8HngchqEPrBPKThLUYETFNfk7C7U93AfOrjOjSwV6zbTCWFe5f8g/wT8s9kbO4QqIiVLKVnnC\n",
       "CVF9gBuaQfxQVQXBibH1qiGLSMAwRXlXjNJdA9aenZztTFq0W7hu6byNptdEFF4BDr5fPyzIaA3M\n",
       "cBT45eMN9Q3K3DmsX2NKrNHxxOtF4U1TQqAKzs3VPv8IxcALz9dKznm6tPwY8nuipS5sQo8c3pDU\n",
       "AFErf5D40paK8zi1TPK5Ol4btXqVEebgdp97ZIVjmIpT66/cu6bnAQhngavgCxFr7eL1FIg1Ht+s\n",
       "rMquQAE8S/4IgxAGNImI70505r5TDhd7/CVfiLRnASBZ/Hz+PpndeFhWF9fCKLDzbhEE2+rARZHT\n",
       "SsCI7o6sRztyJHhy9HVFdDVgNhfTjtkKXGuZFCd1l3jcOMC09m37zjSkMLRKrNUzHTBWXasgAMnz\n",
       "vaO6O78p/0Xh0V1nEVnG6WTLUf4l2w9AS/NZlSvFrAOue8D/937vZoDDcorwBPYLszq05HTXy7t9\n",
       "sjMyeS35Q+ia6Xi8W9w9LuNdZ/kzZu9ItCRdTURZI3aJcvMnJjy8qVXzpKtCM/ebY94jeDmhzLSM\n",
       "nRnnuUkKQhyC3cU6Ndm/XW5CDfcY7ow1ySWShHZC7MN7VmUcPuQ9hakbc4VSKu7k0kOWLcsPq9LV\n",
       "lZQ+oygbrQifHH9Cl5+jNk6laetRUmcNgJj7hBEZiBYMpylraP2HA79Vdy+2XikacEa/SCa/qMuw\n",
       "r9ZTtb4cathxmHN8chqOmB7z8ZjMwCcRAeZszrmQuVxkF/CGuB532v4o0Lx+/1mEKfEVip/9cmJo\n",
       "4+tFWHPZ5SeXGFhdaUjiXpBh6FxHGsCfEMciNi7gHVMDK2uwU//OF7oP24IlGV3xqNIJQCiohBJ9\n",
       "tmS+nDbKoamXCSVNQQKb3yvAmxM3iRVEMxDh7acqVkzuYyc4DhNgBfUnIEa72WqFPyiho4nWE0xC\n",
       "lXY8npXXP9viMDviV2n7rh+c2t2t2yBgEMScrqnyoB3OxXAIz68Xb65nwjb1VXxIuRBRP2MTIVRq\n",
       "B0Coeczr9yg68f5Q1MalQj/5njJ5HhrxEy68qdem8KPM3WhqW+5gw+1B/BE/OmC3eYKPDA+Dib89\n",
       "X2P5M1PssvPD9ZGYNsrTrbS/Wbz+7HnWT+sHrL4b9cAcZUoc/ghMvyjveiRv/fNOLmlxD5TG0HcC\n",
       "xJ93t8/+Al22S6v5v6cyvjzwR4LkRGR6oiYGQL2ff8I7RdVuIy8exS8I9o2fA05LN9ZIZCiQPtmx\n",
       "/X/EUtbp2Awbu8dvSND7px+17b/kqwiS928VW5AV/s8HigoTowPY+HmaeMOw6sy3gWYEdq1zZfs4\n",
       "URr6czv53Pyz8HokdQbnSNG1Pf+IPe790rqov8La4q0tdfNctJP0oAqTAEhRAC7R5J9eoufgKLp5\n",
       "yG37x4t+uL01Wry/baC8nYurZFWOaB1MJhSkeAXxuqFlt7yHLbOzUAU++8hc6c9q3VXSwxnNoePD\n",
       "IoUO1Vpr4vAFQUJZSRhhV299hRtDX/EuPhKO96yGfHx5wcV5LA7webAUVlRLzY+QSXmz23MeUpGD\n",
       "qtaYz+t9HpsGbf0vcdYVJ0R951KW+TH8poBFr2XMQ1E5YTBM+/F3d6YY3KYf7rcIx50pGNgd04b4\n",
       "40l5TMxmqCSW3g9D03a9hK5f4MtDPHeep7nEbLQtIMAuVGZQZB/4ehmUA7inXk43TKfD7QQLtwlU\n",
       "g7KvRGimVR280mnTbLxKe4Bb54o3z3Pq0FLMYrarXkFzKC8O3VP2gzN7mMDs22Yd473xf140EK8M\n",
       "VvgYa9anBbRzAmIorOA/sTfyj/PaSLmKvScNG9CKb7YztVYThtCKsyWmH9RZdMuM8xfK+VDxwlSn\n",
       "qZClvndu5pESZtjHMYMwzTm/i1skO+E8pFGjxfST/uf3Ts/iRlIKTScsw587RE2/zBDYhkX5jrIj\n",
       "RRKXe7wP3XbyiuHYgdUNhPn5ATZ7uAlfUrDhDUvCVHonElF/hunHOXCFUDPDAtVb9+sdJvy11R6T\n",
       "Vg/QcNIchseXtkR3Aw9MwpVCjsY6hg2gW0leunzXZsCMkHGH06Q2E7L2WmJtonIzQTcGIYFO2FOk\n",
       "K7zQbTglXQC61LoOQCaqxPZPUc9MMKXX5J8+b9IDNHp9ijaZOa/gCmbEJV+shiLSpL+HLZdD7vBZ\n",
       "ng7hhQutl20mUzOgwDuQTOSvwzuxshWiKS7ITiSxxu+jmMkktvg91ihusZksNK86+zc6RU8mLAyq\n",
       "xpTEIQ4pnMXCoEK4HelO7RmnD20jkzh1jXtoRQVSRAkBOjyi9mzN1u/Ong4lJ1mZFZ4kqT8ytPsr\n",
       "GEskWebGQ8nNuuRye7SNOFGI5kpikDjeZ1umWfxzQczxkcklvwNK7DvGDQK3zzILOAZwV1V7ds6U\n",
       "yrW/Qo5qX8AvLs3+jqgcCCZT+V0qyImM1sPdpGnCg6xFd965sIQ4OlcEEMmtiGZuPKc8oaKKttyb\n",
       "lJOeRk6tsG518UmZFrEJPRXH6MYzPs8GZyVBj8n7mhMmeqxRqujaoU76ZncOL/KCVIeN6GQSF7d6\n",
       "ZGSv5slmUz+gpWVRao61sxe3Vx4gb97nfHbX3pKOkSsqEWQFj9bti0y+803T+Kc0d9fMbkrY9mue\n",
       "nmen/l8zCsVKkOqEYvhZ7LA/o/xWxjEGYL0PYC+cAs9A+RSdigDvHNfNOCRxFYWVNEBTxpU29Em4\n",
       "ubZgYcyZRaSDpn9qoTdIXoqt/EvjTcON8bb5iXHQ4KrnbRkGN1P/7f6Tv17g2pqLDQLJS9RvSIid\n",
       "p48yBdtWr+mVJ/AntQshiyQaUs2wU+fe3SzYEeWlZBpnQAEC8qeUHt89FR82iY7YA61o6ANR7vYx\n",
       "fgAAckEAAAJUQZohbEP//qmWACuBz6AhUc6b8LhjPt4qqLdr4/H2lW9lej/PAjm+tQL3oFBy037y\n",
       "Cks1tNqblJPeoLH2xpVEovFpQYBeIc5OD8Hvy6Yrhr3gXzTXb2MMkqKZbVUPgNRIlgbwDRLtIkY7\n",
       "/F2kICTZrKTiXzf0QSmU2l/g1ArZOUCtSlKWWesoT4AXgN0GaJDPUSeW7XXcExXxQ/WM2G2jBeJh\n",
       "ZH3rHIRbhyma+sBVaqB814rB5AHHNQRXY17iklcABexcF+mnruCO5EJz3Yr7UZUH8Kh8tzY3S3QA\n",
       "ZUjCa2Ajtdd4/TtIZQrTZO3F+ocyi6QjT8N5nKAs+NdMEaVMEXufDtqqB7hklTBJ00z6rZV1VtT9\n",
       "vAlPQGK3mtl/eIYD521+UuCGo7UHpJQPOVXlOCD1190DuoV8ZPvWHUNapbGvcsoHk37MVAXCO04k\n",
       "OWoWLbVNyOzw9XZJeI/t3UVK6L9i+Hd/Bn9qloAdAMHEITVSyKMwDHdTyrW5XaNui6mYLW/IONyC\n",
       "QYC0o6DIYX3Msh8XIjGVHI6/L1I+TEc+8OuMy1SXcJLkPDq2hoqPeSwr2YQG+6feND6wpAKq33uj\n",
       "b6P6EMmr+vToXNqU7vNey4nztSDm4HZK7p9mRk6WVNAAK4kERbqmZ/cqAOr08IrTW8wAAAMAFgAA\n",
       "AwAC/vVJLNRblNOLamRUXVGHUAWPMNH0lKE0B7LRMRMAxhZFmTyuCHvLlMxqyZQBqQJ/yputfH0N\n",
       "YdIDPtISrIDk2lP1EdNUbFJZpeqEgRuoojtXl+Xr8n7V84AAAAMOQZpCPCGTKYQ///6plgAAEB5X\n",
       "/gnb4ALquyvN0WD+inRYWlGGZ3o1tpeHEZQZjokfP74vSLCm5+m47rgszXGWV6gAvpnO8LdjNcfI\n",
       "hNoKKbnZWM+XVQP9JtptVfjtKC8lFL6E+D8zDXnpnBadZh4IEfRKUIeFAkxAmZvZOe1Ka3ILAvd7\n",
       "uc1LdsgiHM2ZRyp/U8Vl71MPjxM9feKVtppXXh0l3FsMU5u2SCdh1RY2JYWTLBi1dTr20FLfZof1\n",
       "3eKvXd3Vbuv1V+0L9N054GdCoM5VlNEEUO8+pNVVNbk0l8pgDX/jhYP+8gJWAlHS94vGF6/PCx2x\n",
       "yyDu8Bfi++M+9KBKk1ugV8WdIDx1FG0+CHhg2S4GOu8959jbuUU9nmaXC+kavswioe+1HPFmA3AC\n",
       "mrbw3OJs7HNPtMokGajMNA7N4rzMGyLFZKD5GUaRWj+VIA9Gug6gTBmU2ft62JxFJc+g7dJBGSXA\n",
       "fwab+6JH6MdINdZiWB20DimcblgcsCOxKJwBHPwXq9eSskR/JATZor3F4NV2daXK8QY+ibgFW2pR\n",
       "yN0CyGtXS/YtBvWw7MYWeb1NzjCvJPppNcv6hMXjS+HqYP3UF+2BZVIsroRUFknRSF47YdYKCOfe\n",
       "Um4URcAuZXCWWQqOMJGP01O+V2kNz0wEfqOUdnfMAS7NwyobQrzVwo2sCHncDVq4gD2U3qDQqdQs\n",
       "gPPBUWUZajkcQJLKr4QaYTUoF/rUOjF/Rd1gyCleTIFIMYOlog/DchDwSJ6A9dF47PyE7Y4YDGdu\n",
       "NpWMtzT16BhpxH5cM1sl6D5PDqs0U98sz9fqGHJ6B1AV0qx208jHClnIvW4I5RAFiJ8FWgreNAJs\n",
       "LYPRavnu95RQZAWkdaCZshei2YBBZKJbkCxMYvOzKxZ4AYKw3JNBRtC21TjzKQouXC0Mov82Ishe\n",
       "6MqvyBOSLnq8dJFVLHG6xVDSzV9HNzNG1S9unfMEcW9Fcu6tcRaEEZh8680UNu0PdqJ7DP7MRq8m\n",
       "C8inMI2GKtdyaX2++ABbDgDl6pVAAXcAAAQTQZpjSeEPJlMCH//+qZYAAE4PmqAEYoMwErLh4N37\n",
       "V0YXBuikZg3X7REoO9oYnEPys9yDkS9/kDmc/A2JMPy1O3Ff7gkIBe4cI8K8JK2HL9VzLRQNfSnA\n",
       "0TtMUUMVe397s1oLOl0lPxeRe2Znb8IlLiBGP/BHZsfIa1s4i21v+epufsFWjxLeXG2x5x3QNCjJ\n",
       "dAtNYzvAe/ACHivL3d6t3htxTu2NJsDX50nvu/uoNXFh7jsnYPLdkpbBZhuPOAbCx4GPdMz+L7e+\n",
       "P+H1pNI6GT7jGQXTQKZT3nQ7QGNR7eAEP6h79BtiVovtBbda4d/s7hdt+GuTainCxnizkXJAtLgF\n",
       "+c+jyzD6t9gFjEQd5079waI9eV4JlhP5SWML45ue9hdDL8VJz/93U3fpBEBCMLE6H3A9Z0dBTPq7\n",
       "AGLPbPDQsfW8RKNaKRfhwK3orT5GG3y5J0M+uXKpZ0jVLpuGbjJK7lXmKDxPQPdfN6lTVnhjwWOJ\n",
       "YNrnEY3Q2O06kDNIJ9KYxnGkcLbjstaT+II73Ek84VuZXAo297RyBSXoR+dPCGa8Rxso8pjSaB8X\n",
       "0m3q6ex7mmsiVOzpmr5JltcaSZyMQ7wU/o2zKuDCY+LRXxJBw4gUjk43Re+6dnuLM68fnXiTSxIP\n",
       "58lS5dII6/IvfE8hZpqM8yjI6ry2lYTgjFolD7f4oKF17+A9RZ9ghamK6hBCKcCiuEDlgL8cveq9\n",
       "TiGyO+ixlMFQMrWW38CGUQLoka+K9N61jmxb0Db5i5PN80owkWcPt3NdXI+OWNmtciiuw6LM5K26\n",
       "DISZaSc3bspXD0uXYCKcqybYWu3XuBJUtrKWjiZDlAweJeRjvlgA/zyC4jhU9yphVfxiCAl9N7vw\n",
       "fEl8AwNAE+Sn0tiyRnFnHChay/l+LwfuL6RcU+gVIczP1MFemFwcsYspO44tSCo6+0ZT5TH0lM6S\n",
       "DZcbIaUfBLKw3R/yy+lLVYInPLVtKRAXkNqOqR7CsBVfurRCwc+QRfEyoxHWrJx51hG7LaYMPJmM\n",
       "R/2JxQHQHDOlOnz9irDz86MEIaSo0xaYGcyB3opEkeklCvJ6zxpSAcw2H3Bu24bEMpnt6X3L6HvL\n",
       "WGhHYyy69Yw5rG7E10F+tfopbnl7UedYs9HNt2N45O9b1FGmW8QesQ8EdKlHmt7iCvRIjJCZ3pUs\n",
       "AZIEfAvWbfy9xhf3eEEClo5MnIUIPa/8v9NOWm56LEPd7LtRlomQBvPgYSb3tyP+iJlenKnfh0oZ\n",
       "pwu62gQEIrUkIhjr+v/gT+lblr0l8D2UZNahUQsu8l5oiNHbv5P13lbPvO02JU0i03gLTnKMNpT8\n",
       "0iv0PptWpqTqoCLlbZiVN457lMvqlUhOxmymJbUo4MhonLAAPrPSwAi1QYMAAAK9QZqESeEPJlMC\n",
       "CH/+qlUAADGbS/hHMCAAnW2Xepep1I3jJ2JO92Dllr/pk+Bh5BQuzu+bJkEW+FFdopdnEU38gxaI\n",
       "i3SStxSaVaiEjxyBzn6Qf4nrXdrnFXWGwZeIOSVCqFXSrdsDQXNE7t6CV5Yot8/qZ/dlDpMD5RA6\n",
       "7aFNpqwfNB/x3+kDKVDbMEWShGIwFTosS1VKcm9qKVGdWuMDq33s759VfZf8lQFOxsDPfEbZ1yOZ\n",
       "KaLjeKqRUPfopa6GXUmsw30m3Bb37WiKDjXF7qJ3geCuyL6/F4HNcncBBnBMaLdEESM8GAZ9Wx/O\n",
       "+o+UNJdqHkU2w+EtKICpNoCK6V7TwY+MPJy4SYW3UkqYbSKZOU2Owht9RlUWuZ+6+XUzACuHVk8j\n",
       "ZoWsEnaZ/m64wwHbX9tqO6sI1Ka4NDPhv0ur2dmybvCXR/K5NsnkTTYXjrZbV/OUVeObByj/BjAZ\n",
       "lUzKPYsHxm+hWDV+Fzix+cqsQMajc7inOM2tbRzbyyADxOtGzA/0WfDNnRbfFhFiUgcGwTXbrnOQ\n",
       "eMyz+S16DTj2E/TCVH5kCLXUb+l1z81HZAvYVH0GXS8qFvQwJHoTO4cR1oWvbAJTMUG4coUIemjj\n",
       "xJx868D2gFsMPXZJLdl3wnuRoILUGyIKdnFeFoyj3RfavkMovlwOXN7lDEo99tNwJSHx9JrPoFPJ\n",
       "Zo0ZJ+x/Dz6tHATRUmwygNXd9sytadRYKhao0uO5v5IYnlepGz57UVdYjb1lWi8lJyFoyTmDSRgU\n",
       "yW33f6rzeyQENG7mFFfHBNQkRf4K1mc4S1EaegkPWWcNvvwiwh6gQP5oKswN+WiQ1RUjKIaHSVEK\n",
       "jJwMYQYeLGkxCYYr4riDUAnngoqV5+k9RY1wfJJyyy6COqamu2o3XIJ5ShcoI457UgurXjBEIsBe\n",
       "wAAAErzLCHkAAAHAQZqlSeEPJlMCCH/+qlUAAHHPBQN6P7ApuDv52Rd/+EdCsAbuj5Kk7DF/OfGI\n",
       "b3vO11bRhR5UR12X01A3f+Go3GS3IyAubnQdq9dXVY2+FiRjlHAWfzmmvvrYRGAWT0ADutHsxpJE\n",
       "PsHmO5v2g+daAON7ZtWv+2nTHctTtRF4ipUKqvlv5qGumrJ7viBMMAokBZDHrJ3/IpgB8tJnK0gW\n",
       "a9Gwa2H3evfU/93+0MO3drLt+PJ667+AQWEL+rjZ3GJRSWSc0IwnGZbFKzlFNvxXgeVDbn0p21qs\n",
       "ipM4NEhLXE+LWlzly4lfW0ieh3s2YzU+FgVMORS+YbNFX1F5R2qIFj1HL5Qjk2P1edPUKDf4sd+J\n",
       "9tANgf/fkEiUxKJhK0loXZreDhHPztz3hQva0mAp4S4jI13HZ+2hN344DBbBLKavrpfJpB0GCfbG\n",
       "mzOABfy8A9/BP3pSEgYoXy17ez/k8zRsAfKsljuA6aKSl92zmaAc0/ZvUgf1AWXoUpGeZxrMBjai\n",
       "l56b9bEH+eAUX92UDOo8xh3PnbgZymAmufNfQSFCOtySOnCaxyO5dlihj7J3MLGoOR+MenX6fLZa\n",
       "mGWDPwAAAkpBmsZJ4Q8mUwIIf/6qVQAA9W0v4J+BAFb+fAztjgfXztJsU837a2C+bGQ4aFATcMf4\n",
       "LsS3UjkpzFWSvnm/MyaHk9PFS5+/0bm+HzW9jg83EurpsljqDWBrVJWEaAUeuEnPSvCr9ClEoDvP\n",
       "TFndMExq6JSyowTv4lGIECqxp1GH10TAM53rLnpNk1f/E3LY3q0RbuoeWi1rsVQuJr84wg33RzF/\n",
       "aws4TIb9EN2HY7ex5+5laUlSzUrOJd/ub0Q+/cAxd0jGr/4HC7GDO2Vyz18uotf31H8ujmgTpaNw\n",
       "lzma9MFlIIK1Pk18Zxkjy/p7a6xi7P6ypaoZXmngK8fOAT9+2A9GERayhJWfpjIv+84freiwWo6I\n",
       "oNze5uSkYQFI+/FJIJtRrxv7dinz59rkZEvaHuhZESF6QLOIqf6+kzCTXs0rpW90jiR5QlFxTUIb\n",
       "GIVSb+s5rb49SQAltwLdja1WHC6uW1XkeQapdxQTuJvmhkqGLdnCHHSwKtF02r21QQryoduFQRyC\n",
       "zyHBG4xKitUNihXGPLUXDXyG31lpxBoMbg0uZiWFS2aoI4jEekqSFYB8ouVuL7O9hciOXqF4sUjR\n",
       "I/B9xygGSMArZr9QLdo8CFTKnWbYCQveJGXPT1YAoLDjw5mK+qrpG+l287UnVR3WO3DOFdiuDna0\n",
       "St29ckJquNrI5YzfVpmBG5utq1isn6uJhnUmE8kobl0fLX1Dkp/Nv1jkV7dphiRJXj/qvFDUHcEz\n",
       "wlDnz+9vOxjDB0uNBG0NHlUE8u5nEJOBAAAByEGa50nhDyZTAgj//rUqgACINoPViwKMwVShSvzE\n",
       "htV70sQANsX4oec+pWqoAD+HNMxgt3brZo1eOBb0oU0QTE6Ypq6mXs9EQmfBH5Kt0ukjjAth01O3\n",
       "mYHYR1wftGN1D/jAsFVPbpn/XoVa39rdsIaCYPk/5kxOPIoRnuMhi44/EB9tMGogpugD4SeHutSX\n",
       "B7mEE6aDR84FslX8QQGOl3IrI1CMbFMpGEkJC1/QZGjnjFvjVjSjZkPqYu3jvsbGNt7Yy0O7UIr1\n",
       "Yp6UoRZfKWxiB6+fmeS3VPlwpUC4XVP5aumdaecsCgNq9svKCpD5r+WFLw59C9IaS4koIGPW5g/H\n",
       "5WjCuUAeeZEs2B2Jx+ZuWncg4fkYaTPWIkkHmLgsCbQMbxTAX+SJRCsXNI7yUfkZrniOEP5AcfYm\n",
       "bHTAJtAH9QPdmVmWxEplOcL8f0s199KPZPWXI94BiCEgzP3jfyFUeJsmU6WRjW8SYpoEp5tuBTl7\n",
       "FeshDYAAXAebC4zHQY+2JGtv8ExDG2T6lXHRGeoLgJ29nOzVjGn0YPwygOnmc6BJcpL5Rrk/1+8A\n",
       "1TBE9uelMDvYxqJqqPhZHOzbNZnxkZ9IGgibgQAABShBmwtJ4Q8mUwII//61KoACcN8hABUdseE9\n",
       "ld3uYM/jPbZj5yOpEph8VZhAh6/aIZn38s2bF0K4ruvQNwsx+igF376GKA056KLBS+mlsjIbRpqG\n",
       "xIXob8mbl6c0psQQ4DCoX/TY5fmsG5wPz4U8Bg6Y/Y1Uuh0W2y3EpFQ20tLvpjlxen1ySQfKMmq+\n",
       "opvPyTvHpm9N5ESUrCCn/17xmQcOXT4cVk6GCzD2brCWIaYB6dUjglWsEeLTwlw75PC/0iD8S3Y7\n",
       "AIZT5o3NXru6WE3X9uC2APUU04OVlaAGoa+Y5wdU9iJPy5+KxX1K9Z3ZxLzhJbwFjSTTacb3Mb/Q\n",
       "HavbReME0JK90Pce9v0YD8plfeuuQYb/CGIeuL1kyFFZffxKbLl9+P1v58e58I2AYdCti7KMLjHR\n",
       "5y+0aowYmZQHYGZzwbtIPlF7j9ydJFvYiIkVwzT0GcJd2rXtNTtr8M9lYxozCr+PvUhIROcg1NoZ\n",
       "3pnExoLl0NWb+ikAWHLdljuX3BUmOFWcO3LYU19TZ/Fj5n3cxtBpKmS1pI0sX5ITUDRmeIUY7Fjb\n",
       "zAQWBs5eu3gimeKAQzOua5QgJycIcUi012hWd+asVbecNQOHgwFZCQ4Wcnb3Ov+fqEF0cj8FJyid\n",
       "sQW3nwfevVIjVt5wZgUKSpJt1KXDIAtXBbAlJGLnT5Rh719mqpdmCN6x9dh8mchCxqOo0iRQW3Zh\n",
       "O3tlITj4zQ2olmpHPlhE4lejopjguMy/YhxbiURPh1gjBROksLLugqKPjrJAchY3CwT/6UQ9cuyG\n",
       "UBUbORgXxJb6ITaydhmPHkeCVkvW01BfrLWtpEeme+lj6It3lXKS+eYTPiwjDXg7S89AY47VP9Jn\n",
       "zRE3F5BUcQYLkWe2CZIxPVoVx/yH/b9GjUbMMI2M4h/hVbfSyCuBicjmWf4zg0Dp4xCsXLalQXtb\n",
       "mcNzpw1Lf3AY5017bLq9rEadJI5rRDfVXHBgm2G1M+lUbYEppqdlklTWH9HIMsvnN6C8Vo/f0YjN\n",
       "NDonlSotpvXc8QyM1tNe+pHarvQPS4eF+6YpiSUNfLgwZ4VDKSWul1sXQCKsh8gcbKjl79l1i2Wl\n",
       "lB5IgwXjwJPYVEQnPc52B0QObpxX9cx6QpDUEK6xJIiiC37kh7Bu8u6WuV4dmUAU5bvRnpWd2ekK\n",
       "NFsrCV1vrPwjVVaQ4+QjJO8XAzv4R48LPz+7pWog4HtGC1JQLKqjC0a8wkwz1sJ1WYla3t+U8OR9\n",
       "UIJk5m9tyo3+JOaNdmcAhKDvVAewNltsry0bLvXqsVE4nNIBK27oKxcdCjYSMpE0pKG6hl5Oma0X\n",
       "OgvCeArmDBOiHQUuo4b+ct1mtmCmCt5oYJVwiMlRaYJWDTTK1Jw8ml/KSoUFQ8A9M/cof3sSSz7f\n",
       "vYy6Sp7HvZy4GnShZIyJchl3Pu7abMFxtSbgltcHsJXXV2vmlEH8RQe4h1zUcy59wpwVB3HqEQRB\n",
       "TQ42215n13yJau8dV4ldascVWLjvkfZv+cnXwZUHyHlBE+vgCbNJQ2wYRK6izihysfSLRFwIWnWk\n",
       "tWR9Vvd3Csm3yjJs130F4cbC13WEKB4IFsK6yDg0TVgx3s5rF/ykaUUuKWFDiAZULH4KN1R7T5LK\n",
       "dDkTU2jKG2mJn60l8oqHQiRgF7eiBUsm4yBIH8Nd/LxxIDOSG+urIIskhlbuKSWTeyKniEERmNAq\n",
       "qncAg4U52V9u1Sw5h+mdn/46FojEBwupWLLxZKCj9DLptOsVMiZCDUgAAAHIQZ8pRRE8O/8AENgA\n",
       "xSO83/Qp+jEVmHqOVYEGl6Whj8DZ+X5gRUMALQOGGwQttjFCY96EZz0FckpCUXdHSKQb0zwkXQUD\n",
       "pE51K1gEw4TowkthwLwMikoHar+0gvTXab2F+XotFKE9ybL0uYnbEsvdjkHWyQ1DPR1n3bjxVifI\n",
       "VX/7laHLgwnU1xUXti7M1bJ4tKrnab0hjZ7pWs1BNaVEq37SFfhCgxfouGfk7lpM9fOTZtwqFWOb\n",
       "HDMpfFZBNXnH/f972ujm7XT/SAM+YZ9T2MvY+omWrBlqlkHaDjAat7rh4rbvjll8YVPL/LUlPLk9\n",
       "mAHfEhGVTzjxWO8cxdDW3VW4w5w6rjPILfcdA+I/6Gi3AgutNxm8yYkvxAWfB8Y+HLDDxVXxwTeb\n",
       "I+F6QdbdFHnUpqA5x07d1sZMD0aYQkdSsCnf41DV+Xd4MetJ/8j71T/R7qu52V9/UIeEVfO9nQgt\n",
       "cpN0mMEUjUyyvOhmu2/wkMLgK7FV9rXAonlbfKJlqjK7tiSm9xqB0CRwFMcnnNB74ufhsv+wzZQl\n",
       "SUTSJzcWqjQQJDArsB6ntViwswNvkgVYRI9HRuv+Ba8uIvFmJoG20f0avvGAAAAAyAGfSHRDfwAY\n",
       "frA1cMI+jK0iWR+YVm6nwAfjVW0bBXc+Prp9N1zfOWxxhEWOuZJWdHfyKiObwil4dxtVEnJjwdM2\n",
       "NO645wrSrg6j77lif6K5co3CbfctaUEe7sXQ7CK8Ydp0HJLtrptKUXHmZfcQOTSOMbEvDg+Q/y7i\n",
       "bWVcI2ThnZcpo5CQCHv2M0RZucnfHeho1j5vr1Jkvkj0q8laH45S1V6/vwv+nmBtwqPioA2hIah8\n",
       "xU53LiFVa67oSGvmlG/AVkH12wI/AAABUAGfSmpDfwAYguzesEbZlxF3LY9AAnRb4BHEb2mm8hfj\n",
       "oaKBn9Fa44/EQ7the+id6tZSy+6qbCrDwy1R7sXFrbbcNvn1ZvsJ5IeaQhJV7wUT+GIR2WHnWEwg\n",
       "2M5f1oBYnx9xIa0XtvpK8qwaUSYsYm/GEIUY3yFHRWvOS2Kn7p0v1Wejld5SAzaJLEbrqwQHEhep\n",
       "JtpZPwr9L/47gMpJgdlrcuH6ozyIx1f+iP7xsLo9WaJWWgi/KM0uAHLLOKyQTNJHdoYlCMSv+0nM\n",
       "rovB6LRKH7FCyMdlFblT/OIgFAam9i32CkcnXjDAx3EjdUMuwpucsImdAU17xdu+99bd74e0Am3g\n",
       "UCYGrIScGe+kJUaI+uXQ7YV0XQ96fnixBzSGEqUs9YGnJ+BCY28Kkgx9hyR+BDf/YKlZcxg4+whD\n",
       "qHUXwzPZ5Zg61ytmcSUyRYAdMAAABGJBm09JqEFomUwIIf/+qlUABUvE3gBGKMWkotoqD7owZLo4\n",
       "rWbBQuA+ZKvxCZNy3audlAIvNeYhCb83gG4bSp15DTLmev8kUmPG6y/3MePzNQOXG7D0qSECgYRt\n",
       "roKWGLpitQdjZrKY5/2KvN1l+3HlCaEZR788T8kjfjiBdcPvDoARh7Wu9p2NdcTPSD/oUn0g7o+8\n",
       "Lv4+SQTGKL8zMM5cPFyM4ykBsi+p/5PGcL3+2Obh72XSVX2abHKvjzN1OpR4zIjjVmMLDZDWBWE5\n",
       "+vHcnH+GBO7U28YRSoB7xt56KC3ZanFbGp3Zd+486xIrJf0eeP98XIzBW8KeD1KAhd5NyQ0Mzvcc\n",
       "T//rSQyjmhxPXZB1sb+iBguB36pYO7/RnxVl4wZqLXMK33dEeqZyBDpKkNsaxu/ju6IL2jNEbBHJ\n",
       "tlOv6ny+lmbMm5NGJOXlQbYpnT/oYkAG5eELDG5UdSzp79lQcjKov9gh6GaB9nR2EiluvtS5nvs3\n",
       "HXALOgsy6bKjwaAFQ3RxoXDvfVoz0NhvXBj7kPSLx+fZlGX/3nlsQg1FXbH27XgeQzkk10XL309b\n",
       "zFhxUtuW8+EUmVduYwoqUBs4TNqW5I6Z4brhr9I1V8ArrsOetSWimJi8RRgMBkdv3JWXdmTOmZLe\n",
       "tkWh8dJBfyb9Rp7/uMI461kE6dCgg3Ua78WyPTjD1+PouC8PYTaWftjy/r3YF8QGPqDpqrnGZi6J\n",
       "lo5fGkDjaq8GDTCl7xPrZkEi4fELCngfcBg/ixGyPe6fCnhvDIwy61yodTyKdZUcLUOU3/wCfWnv\n",
       "AT73KBGXAZImXxCyt4oaHVuolvaHRgjYgDsgMj2fHaJrWfdw+0ERfDrEY8x9gao/ZGfHom+yF4AD\n",
       "iWQpbSh5or1FH1yS3/462GyRM9rkopzmY8Vw6bM3GXT5VeqqqG/zBHhhN8C9ebqcMjYm6BgMUUXg\n",
       "cIzPJ3G6/JQ5j6gwTE73B37LZGKKd1UCl16Za7RUNmF73+0m2U9FvRS03PyFY3THKNB6oK4kdcib\n",
       "vz9/G5ClJ+/SCkmES9QyEDAErTqNwHYJrED5/EmTUip0GILw0HBfSMVZkAfUgaj5F7euDn5jpaWU\n",
       "qh77BbdlgmhGv05DShvCDMgU5JYhmCXLvrNJs3lsD5UKEv/vUz0jT/P8lHKQAkfSBHy+ErTEe+jU\n",
       "1g+jT7F2sM2mHQLmom+vI5hiyuCmSdMC3HOEwtEIjV+/eYXrw1A6I4kp/xAt9y8Wc/dQ3iQGJBrA\n",
       "l6C4DL9fQ5kHPYwEYjv4G6LY3ZIH+VGRJCdfuK4kS6/3pazdtLd7yeSNPuAz8ZDknoWf0RHhyYWs\n",
       "uyTZsASJFB1EVsxLDSadsPGGEzBhtqOUR2QQFmYCVan17FmBCEAtQWqOukanfHlJBe8rMQ+kepzB\n",
       "UrVeM4DcviVhm4HQ9vrI9OMWprHbhznMsF6QDVaP9eGJJ6/YM210lIAlUk5sZxFteG3wF9UgYKH3\n",
       "EGrZAg4AAAKxQZ9tRREsO/8AEQpUaMtE1EoAM3wXDmaqiS7rDxB0kQS5Bv8ZIJISJPwgpe7pb0Y0\n",
       "5b2ENCSHAg0sxQ2MqN11HzxU37F7WHCDAVQfIQTt/43ImTrVpD4AW+J977TFyxQZOcOQDahIsL7r\n",
       "imlnIpjUpA417NRuvp0H7kNnf/ABcAsy8F6PY4cN5JFP2yI/8Q33v2INHhqU0BOYB4A32z0RTSpp\n",
       "QqLctT6cb28OpWRDao1Xiw+4joqJ6A+YQoyIxbfO8YI4/YmeQ9Q7La+NMOmc18C61A2u5B7r2msC\n",
       "XW1EBu051aEP0Rn+gE4USzW9Sa1su72v2T7xQWinjjAEVCRA3wLYsMePBA1MWskw0mqhLxWoTARu\n",
       "cDpVjaCgMAxXAiynLlvd91FuFRzY2wjgNyVT3Z5cS9Uxz337dMOknTrmX0DTDp81H+QDX48m8qC5\n",
       "MK8xslr2x9YbXUcRF0PhqM6jbhcCPPaOU5V/QNXhNRxF/E3Nelf8ZJpC5DN1QsD/S5c7e16kAqFi\n",
       "Xt7vHuzExnGOO21hO8+93mPKinntheWPLsBg7NXYmbSXmS3Th1OU1gZyl7LFVyCL33QW4MzXCNrQ\n",
       "cBYKo8rUWQg00l7TPnExy701IOVHNp2HvaPeqJVvGNM+x5gPBBrRGwxfWEbgqwTS3aTepPCdiK1g\n",
       "/4oU1hXJ0ytEWaOiS3e9Jww+Xhf9gr1E2XhRUaUrxPBcupRcTedIH75U5uB9XUV05S4ndV2dNBX+\n",
       "Otmt/MaSE0U8dd5LSSmBhLFP2Drv1VZ4YOt+0yohmPhALcOjmeiY2T8gk+k0ayPkC9B3m+pRGtEh\n",
       "fEyAAwoT459JEkpMU0RIIpRVGU289N7OfWW6yaS0VaDonSf3i7Uw7BT6rHiTnBO08Fd1gkCAnsjQ\n",
       "FTZAHEPtS7NpYfyA3oEAAAGfAZ+MdEN/AA4p8INYANpP/uImR3Ia7hczKrUgHS6Tp+zpI6Nbk32f\n",
       "VETX53G6puhVEIKRzDAAluO3ss2MP88AVSWl/dD603U6r+UnwyCWvNPECTjPmPPMMeKuxvWAz2j8\n",
       "KgS7APNFZ3xHpFaLeqB55MzmDRoRgMr8Ort9ssHB/SRmnoGo4RZTcAJY6DQUqb7txOxmlTGJ4ro6\n",
       "p56pIEkVjN9JSsuNeCjvcdgJwFEF+WY0KFUytsUbZx9NJHrdsvZzHJmmbAbQ9/NfK0CQe4CKI0FD\n",
       "8HRKHxllhEA8GZ1g9p3kgsxTBZcvewocTyYARyHOHcii5cbhw3BakFoRG1qLYAChWA5TImUA6qbP\n",
       "P96N5umdzbM+2Dq+uzLKoWbk5qjbzc2yl+Wxa9rRqkDAj0z3Tqjfr7UVAkasj7h9pHCvsuuLW6Td\n",
       "d4aeXTPRaYxHoCODCLN7hgYEKxawNP8yUSIVHPqcvL4kEjDGpS0xRUelMulrPZqA/tYo+VytK5k+\n",
       "BSVVgetHG3uJLqoh4J8ouQkS9NB/eRYVGv4L/JjyeoB/gQAAAT8Bn45qQ38ADoKT4PE4ekEAGqcA\n",
       "B3PDsW5iMiaNccd5OHRcau1aDtXJ8rP7E2VINepptNUhDh091+3sA5GDX2LMpLxda4/a51fMe7nt\n",
       "V1a8+uQTsEvzAkd1kzAB40rZ/JFV9fQzhA2N36729rlIRWv432NHqLLkX32O+rFWp2G099Y/1Rnr\n",
       "IuaVcP4Z8bBAwb72Lq6Ysfaxu1rUBy70S1moH09YfyJjU1B8wayKlO9rFwg5ith1pUdas9v7rmo5\n",
       "6x+XRhBcAiF4sxDorzeOTDU5IVpZuK+Y4/qCSUpFlKYboo4N6GQxcP5yw3T+DkXEJ4V75oiKkDxC\n",
       "qPoSmjwrjW4oFvXOjIzJsgOdj6gBloFndgJOYiVfEZQV4KhIRtFhTbtKFKS84XDs34frFb37NJiu\n",
       "AE4DwsmHOt9NPZsKiA2ZAAAD+0Gbk0moQWyZTAgh//6qVQAFSv6rnwY3TpyAFulalRNYt1hPeY4W\n",
       "DRwDWjrw55kD/DBIUmpQ+qEQzAQ90kbWQReQrPY1FiqxdTyB22iDqpfysJlwWbfdaJ+4NE9i9pmc\n",
       "69vW+TdFocdJvmKSg3bzDcykKBu0WHq0hTTiW9OAeDMMvudq9Cm0q7C/PSbyR2EmR7gEIDozIfui\n",
       "3/fAQF7m19YbFPUSyi1Lo5561cISRzloqwcIemghYjQX4n+kBfOgVQPz/A5M36gXDPwN8HI1lqy/\n",
       "ubBN/ltwG9GYR1M6Y8ld2vr3bID+qQNsSS5kzIaePUsgwBew91QwEHrv0TKZi4NcZvCg05vJJgPn\n",
       "9o0p7WzaE4N5t/lrW3iaadKe4mkvyU3xYZvFkdtpq7cHFpKe+6sYCf0pP4IKf6HEAMlp5N9MJVV1\n",
       "JxhET1uAMJkBq/CyMMpkNtoz1lbqE3msefkbpaVWmnEuqdZl579wMXtge69x3iXBS31aLMvwBSBj\n",
       "sqIxacGIMdqQNCoi6xUymwikmeXR6aNGIMuhUx3ewFDsV+8NCW0zMgcqffW0Kq7mnsnsg/ch4DSA\n",
       "V/1KmgQplRk2Dlf1CHK39zifWUs0DrmOkO9wAbU7GsSLVoUS56NhWLfpbtI/Z6mOd04n/cyPv3JY\n",
       "VcY9hTa5Cwkf/XNjttdvvKk79gq61QTvNvp7HQA9MK6sKE8q8r6oQEmY93AYzsiEBuElHRKFLdSt\n",
       "2M90bcLQHBi6qobaIl4cXKwAR/6J3XLlrUkJUieIX2CWdB6RT0da5qg7VguxVnwufPoYfdQHW+NS\n",
       "JSfDxRCtS96c8NaFOm187jKdAw/blwpRre1VQyW3VgEMNQWaJc8XiO98JdP4NEO4P6XTxRnc/Sxu\n",
       "KljMFRujCnig8kroevUhjdZDz2Plk53G23Tp3HjzWXwk1bJ//KlY4WxhJdqZak8CbgzAQdFQjm1L\n",
       "nL3BBpibqtcTpel6meT0+aL6xLj9o9zxZjgBaVpAwWTQcqSo1/DMvLzhaX2pnrgVnmuE6C3TdRDx\n",
       "enajHCQKBBfaErjSb/yIOx8lQPWUoTsXO9EdEx4GxXE/Rg1OewL5wIQATFaNMZzGeeOiDKq5D62N\n",
       "i+aSkjyxFbAgw7YH1czvqMHGaRBp9+eoejDtaemQ+1Ud4bGlIJ1CClQo7+YurIGUEbYyZRMF78KQ\n",
       "4DQxOJmVih/7xBLL+WAYqM1OvMQDh/bAeKCaOjjRovu+CGYFwRR1HMUesW0tSRL6rnQ6EPjTR+Ej\n",
       "XsQIS2dvaSRFlSiTAiHG1qqZsZH+WbDqnzACme0/xfcsqXMvZqCHiPepI0DjbIUnBVI4H/SWRSGb\n",
       "ak5ntZ2sxxYz6mvYAAABgkGfsUUVLDv/ABDYAMmx107oAXSgynJL6KC34fKRFZL8c/gfoBgXDJwC\n",
       "LH65YeyQRy9cDpc66G/mPcbYLg78RFhkCnoJ8AeAS7MB02JU4+eJqR0O6f8MAqQ3JbEZmxL6FWjI\n",
       "2KskOk3Prn+IP5xiX7pfHstRXzbZCsKPtGWxHpw2nyCgHz1ea6GXcaXIy1Rh1/ndBFfx8WI4mf+i\n",
       "rYBA1+QUIaTqAcVYQHlufP3ZgH3xBNMUVTyeV6TsWgmlsLx5WnF44ixPi9/nq33QmtFwEu1jXX2a\n",
       "v1bW7sn5dL34WNnJEuo4iYJqkhonZoKGZKsYsxnZhKWz3opaJePHsIbIjojs3P+zDhnjXTs2HIJf\n",
       "GVAv4Rm0h17f6mcLkZI+yKJNvWtTeIWQlh2vLJYQ+iW7KCokbCfzfrmtb4EjVR58n+u/koyEqoxp\n",
       "Mg3Q6Nd3Uv2tTuyIaad/BVeCAT3VwTgPWgU2znt+QiMyfgxfd5nHBZ0pyJh4qlS+AElPwNu6RSAV\n",
       "LgakAAABLQGf0HRDfwAOe89+lTkALcpsaa7zJcmGUqk2bsT59JSTHpyqZX6ttfiMhFzqc+GEc70n\n",
       "BsKsqvXSqkr8MtltB0u40/UjCT1C46V7OI5XKfXbTm3v9xanYU+6HK+Xd8cNO4tOcjJHX2CPs70o\n",
       "Q5ppxhjfLzFj1tcwcHwm+0Gc1josM4Jo9D25pwj/TbFV6GEWN+PT1iCN4JmXhGG7U5sbrjBNbksq\n",
       "hFs6MZWFZz/KwAZLe8nqtvLbtkEQ9VWSHxYq8hJ34Uxg+gDx/wMXKRHD2B8X7rmWe7BtGxFvXY3t\n",
       "QShtTG7lKueb8t5OZ+Ek+u15ZftlCOAydDZ+Y0Uqt/5OACHVkPR1srVWHPjYOoA65nbXNn0s/foL\n",
       "QnQYQ/bjVUGlryOoEr3bQ4ggSP5YBn0AAAEHAZ/SakN/AA5RV1lHcgBNMYv9i5lJLE4n/Is1enf4\n",
       "WltDaWHkf6QCXDzVvEfDxb6/d50s4zxK4bFRvoM2woSkHOC1IrGNSG2FQ+AwGlo3V1NtX5udGGsz\n",
       "p4yA2KPVBBRaFx0CVsemJLuxi26pqST+gUB6bm7D1EnxV/93lROqbN2FwuKHRLRUOp5QI6ntPN92\n",
       "QqU/gi7QTa9wnbWMsPtesYZpsp+svdw7piXSYO5GXCGOb3kKQ+l66l5VIcA0PDBvXb0Tu0kp2/KC\n",
       "oL2l9Fx7+UZ9Mzv6koS9bFC/oFujOhjJ5yeAmYIrIHZh85OAK24yORFYaAKhcphp2utDOaqqyE4G\n",
       "IkYALaAAAAI8QZvUSahBbJlMCCH//qpVAAVLAy+o1hKkAN0R8DUvvDV3z0Sr/qjCz4L0/l8ag0Gt\n",
       "gyDQyz0iqS6JRpV0Ze/uEE/+ZE243bFSRw8HzTzhHa/93s0gKU82WAyfm24eyPtHyfxFwnjsjrnB\n",
       "0KMI1+eURl3y+xQlwVcg6VOp5DaeIUA8QN3UCVpxSLuv4wtm61+B6UbQT0cPZpTqGwq+3DE0ZafC\n",
       "9/4w1nG+o784DTFMT+eroHE7FV+T+3H8vGiyqAV+dHaHTyiiALRkxMRkik8CSFXu/JWukGDyHW+p\n",
       "g8R0cN3juukhB3+IDggWmj8GE3mu6oi3sWa6JsnyXHhZ4zoDd4HYmkKjsTgDEyQW1Q1uZCJOIhgU\n",
       "581MTp8Iax991zLWJbXAO97MA1CbGadOCIoW+T9OA9jsiy3CA8+ZeKzVpfgv4NgaBdQ9D3F37IXY\n",
       "TBVCGafY3s+av5K91IngFREFncli1K7rqWez+RQ06wh7H1YmcBnn1GQtinqfaeYB+hHhdZKUTG4r\n",
       "ugJA69yfK635Cgcr+kmvAEOnHkasMWQ8nDnTAZoxavyPVeEK3IJRR0VdpDJ5zUWYzvmNo0kobxKm\n",
       "zAg8k4g03MIhERw8ffw3mBpNo7ZwWDoiwW0See4kQpd1WVxKcZ4Z52bnPgisyx2AimjKGC8K+giY\n",
       "73K+i1YBRe/nN+IyghIiq5EFKFMtXqiZ0qUdFpxKBgbrDfuWdrISEUmqfG6SKBynQoZv3XQP4A90\n",
       "9l2SCQYDWcxc7egAAAHFQZv1SeEKUmUwIIf//qpVAArfj4AAjDx+kqJIy1wEUqKBGg5qqaDOv2oz\n",
       "0KMn8jHNwyw0daDIsl1R2OW/DYLl5AzgzEg1q7i5XvUcCRUXHABgYFS38797NdiwkfN5vbIMqR5p\n",
       "PUH61UQwq90UwGJcMeRkYZ7eGccLguoMQxtsl2McBdLTLtLiAZB2y3E7Gtbls7T8gi7Epa7ijT4S\n",
       "pBa5I7kRltFT2j2vzniV0BvfihmHZsCOVcVj9VFi10O1al4xBcj8hOZgk3TS/ddZwxXiGEAKFtWE\n",
       "bPaja2vtg8hWiS6zIcxsOybW5Pq3/Dq6nJOW4kPRKQnjvAVVq55fnbLei2xdQ19tY6AU5JxOguL+\n",
       "KxscXMZYTJ+a28C1u7mt6o/hCfYu/kHaGy0YE3Z8Zu679LVyM7HU+zP0n5Je8Rj5W+2X21PcPn8J\n",
       "BWeWvfoQdgiSEQ7iXWlSpWveHsZKGXKww62McX7stWMy4Kp/O8zjFeHH87sqBLuTgB2owQUb2GDk\n",
       "6ULqEwdQSYln0Yo5svhaQ41BawGAGZnUZGayhqj76HPZy9oBuJTt8eBuKS7LVDePJrXjndwqWUVx\n",
       "zjrfGhnc0XI5DO3TAAAB40GaFknhDomUwII//rUqgAVwodQAN0Rg++nBsEP6cuQzIkd3AyTZ1bCu\n",
       "FFrwqdzMOP+sCiVgz42tydefq6nlEwmqyFDK4YiZib5V7JFSYxRK1for5LC4y++rwAmCOpk2ebeD\n",
       "s+BxvZ1DO22/WANv4fxqKTD7+39OzPIcn5yiCmJgCcwNEt2A/8JDbh/kBpjkXMGlkZbh8vjw8QW1\n",
       "VpV7RSt4wKkLCid3NYHcT8DdU9aYy1ZfB4eODv+woFvGmOQRD46iCOwIu+oxDKPNLDFrfI4PkLRa\n",
       "B4wF86kWdanEAuhXpOhAFvKi/LVF7wkfl2ZsQ5dpgm829mHPGCJppCisMWn1WQj6oGJA4ZfLqtqb\n",
       "x8ivFt7urLWTkHMItdpqa9GPepoZCY9kcACq3uJWxM8VV6AaupWQjlhT4x7xFeos8rT1jv7HMYY2\n",
       "PY/qSn66kv0T8Ov9ZxQp6LUunCfcgGREBpX6BMwiNpKZkzn5g12RyYaHpLtkufTmnnmOXJjahFuX\n",
       "LQBtVgB3f10F6GCmmimNLKghJo/7uaQG/rc7yGMgdN0yaIN1QRCDA6hpGoepLLBNcK5ze5u3M1ux\n",
       "Kp5hBQ6VXs3uSE4yb0v4mHEvA70XielpCU/f9LXkbOotKd1orNM/yNoPwAAAAp9BmjpJ4Q8mUwII\n",
       "//61KoAFcKRyAFtIqaWxX5Wrvxmh5AzmIDxs1o13bWvi/klcCmBVTcW0TkKMnBOev9qLmHIy/RZo\n",
       "Bl16vcnCrysIlMH7zFdW5WQs3suQpWNloNoAHfUdvWTfFVfmZ/YDHiavuwJMKFoDLgcntxjITfpo\n",
       "fSS/a+3fXV2O/a3fKAtgumxjf0A0SX8VfZ+YWFV+ql9etvCK50m/2YOfiaXS+ObxgMNw/JfapqQN\n",
       "EjABhguNKAtgTs0XyOVZj9mVzjtjpA6CVmwyjNcULEfmAKwT9FU+pqat3yfMednj8XDxmaS4MfK+\n",
       "elDwTWVMx5vUYF2v+K51VaU89rwK+H09PUT1z2HtmpCzmsCpG64TFFHI9QvywJVoJHmigLGZYfc8\n",
       "Ux/tPgL8HE8odelRysgUYTqzMxKF1Iur47NCzXsUCPlmo9vzzC2Os4KerDVMmPnIh/3rJFr5hiF3\n",
       "O1+8ESeLKvZ4mzFq59LsbIMv4WFK7xm6bb3sFKgbXZ40Xka+UOlBz6wQKp+GIa3d4bjqerEqz9mE\n",
       "0viGheWI9WaRP60epNboTg8vBE39lhgJK+6/KSbUW+8qOu62FmhzTud30ajJogKquynoB69Z/q6x\n",
       "t15pPCG98wjXnsY2ZsjrymrHeB7lNE8SmlKQIcPYgK88UmLF7w2BtTgJLqg1o0BcKup/M/ZopHmb\n",
       "5OgLEAzlcmUFEaLbg7UcZ44idPm7iK0Lrk8cE4hTlyYTQXE0q6lBgcQQXG/Ukg2B10TBfD9fyo+M\n",
       "kn5HnlGRejLxvWkmBe+OoSjXluLXWgBM02cnOBV1Zw84d/7e4FiYl0B5jiLZw/pvgfscy8xz0ajY\n",
       "grlcncfY1qwp23ahLWORDlz41fzT5/V30ivpGVevC3+nOQAAALdBnlhFETw7/wAVCjC4hHd+2ryf\n",
       "OpAB+mQAKxju0kSLAoOq84pUwqRTd13VGIg+xRBeOjwHglDNFipaTEqINQeHgNQZ1E9maXLADHQK\n",
       "UVGOCxiZGj+QAr+1qEwxAandEcjJ9Q4Yojsl8N/yf84O2dBAOUDytrQNzKSBRvY2gRKOsxlHeSDy\n",
       "2n+BAB663Y9iRuCpCdtjgGGIPHYomhX9kvj5ezGm9bVjmG+EBxOXsQHslVtB+FPBaYEAAABZAZ53\n",
       "dEN/AA7Z62GMktAAnLS06V7D0tv27bwkj/UbwvTbqp1mNTAsej/wJiRPG4kNyJ8TXS0/FoPz+o1H\n",
       "QCWRFAGWRD6WmjrF5t1X95Re204CCPBpJoO0zygAAAAlAZ55akN/AAaVyGjedF89aDGiDeGZ1wEF\n",
       "M72437ayRgD1FADCgQAAAT9Bmn5JqEFomUwII//+tSqABXCnOwAuq8+dWKfdQRfZyi+RRJ5ZG3ub\n",
       "M9TCUrqiFkBMoQbihh3p8yApS/hRQL2DoQXA/g2vb8/6fYGGP/fQWk01J1pQOZWH+86piAVz5phs\n",
       "eJ+HJY38ESlAyWFdqGZOJ3vze4sNn/9PN7H4aeDKZzPPgU9b64Cyv5YzCHb1mrH2rj9IwvigCtI5\n",
       "hnporzGJV7WP3h0KAmtBbelLp0ERZ+CrDk7eF3SUvo2mUxcjxNQIdA1c0zFDT04BwR1iqpqTq6uR\n",
       "oCKZ5jHqS+fX/WWBicbTmcuYart532F8VX6sL1MJzst/rVmL+VTynb1gC7D9nAWn/X6b2UfM3k52\n",
       "caxcW358+aZyv0UnAVZMM13cGGdxkKNVIijJIwDQWpYqtSKgHi03jazW/cjE3/z4AAGzAAAASkGe\n",
       "nEURLDv/ABDYAMtiGAdgBbwqtRcls6BzMEvlXJdKZK3jaDOeEA1o2/9rGBjlt3J0jbeJKDg9BKf3\n",
       "28UT/QHKvNeO0AdKIAPnAAAAJQGeu3RDfwAO1p5YjmoYyshnHjjnT4tciNbI0ojDN8IBYV6AGBEA\n",
       "AAAgAZ69akN/AA4ncKb8vpab+PJXnhOYisTqGkQDU+mAG9AAAACqQZqiSahBbJlMCCH//qpVAArf\n",
       "nTwAXVd5/J7S9HRs7DhIt5GEZqydvrBHWnP3CVP1D9GLxuu9N6gxSBB1AEeJfl5JlDEY+mhm+P1K\n",
       "VHUHNBG9wAyMr8YZ6p6BixhoKctU19UUhv4jvz+CvihtixXTId7VW3pnAa8u8XkJEn5psqlK2VvD\n",
       "SzJLJ4DSnrZeeXe7jn0xTOQP+ZLVOno3xgAd1w3Ie50qa2AAGpAAAAAmQZ7ARRUsO/8AENgAuNPW\n",
       "n84Yor28VGrMarNC8+m3vJAIxXuAHdEAAAAXAZ7/dEN/ABh+sAUKGA1/rcuGLjNxlJAAAAAXAZ7h\n",
       "akN/ABiC7Dy3mdDrm3LWi4yxJF0AAAAwQZrmSahBbJlMCHf//qmWACpc3vEAJUBX/piEN6bW29UM\n",
       "dFFWU09okIBlaEwmAA0YAAAAIEGfBEUVLDv/ABEKVEWWVPYtF2UeeWiz/tRDwRwoAGVBAAAAGQGf\n",
       "I3RDfwAYfrA3h3LH/KfpByrNcigAUkEAAAAXAZ8lakN/ABiC7Dy3mdDrm3LWi4yxJF0AAAAgQZsn\n",
       "SahBbJlMCG///qeEACkG6eQAJuuFzXG6iAAAUkEAAATHbW9vdgAAAGxtdmhkAAAAAAAAAAAAAAAA\n",
       "AAAD6AAAD6AAAQAAAQAAAAAAAAAAAAAAAAEAAAAAAAAAAAAAAAAAAAABAAAAAAAAAAAAAAAAAABA\n",
       "AAAAAAAAAAAAAAAAAAAAAAAAAAAAAAAAAAAAAAAAAgAAA/F0cmFrAAAAXHRraGQAAAADAAAAAAAA\n",
       "AAAAAAABAAAAAAAAD6AAAAAAAAAAAAAAAAAAAAAAAAEAAAAAAAAAAAAAAAAAAAABAAAAAAAAAAAA\n",
       "AAAAAABAAAAAAfQAAAGQAAAAAAAkZWR0cwAAABxlbHN0AAAAAAAAAAEAAA+gAAAIAAABAAAAAANp\n",
       "bWRpYQAAACBtZGhkAAAAAAAAAAAAAAAAAAAoAAAAoABVxAAAAAAALWhkbHIAAAAAAAAAAHZpZGUA\n",
       "AAAAAAAAAAAAAABWaWRlb0hhbmRsZXIAAAADFG1pbmYAAAAUdm1oZAAAAAEAAAAAAAAAAAAAACRk\n",
       "aW5mAAAAHGRyZWYAAAAAAAAAAQAAAAx1cmwgAAAAAQAAAtRzdGJsAAAAtHN0c2QAAAAAAAAAAQAA\n",
       "AKRhdmMxAAAAAAAAAAEAAAAAAAAAAAAAAAAAAAAAAfQBkABIAAAASAAAAAAAAAABAAAAAAAAAAAA\n",
       "AAAAAAAAAAAAAAAAAAAAAAAAAAAAAAAAGP//AAAAMmF2Y0MBZAAW/+EAGWdkABas2UCAM+fhAAAD\n",
       "AAEAAAMAFA8WLZYBAAZo6+PLIsAAAAAcdXVpZGtoQPJfJE/FujmlG88DI/MAAAAAAAAAGHN0dHMA\n",
       "AAAAAAAAAQAAACgAAAQAAAAAFHN0c3MAAAAAAAAAAQAAAAEAAAEIY3R0cwAAAAAAAAAfAAAACAAA\n",
       "CAAAAAABAAAUAAAAAAEAAAgAAAAAAQAAAAAAAAABAAAEAAAAAAEAABQAAAAAAQAACAAAAAABAAAA\n",
       "AAAAAAEAAAQAAAAAAQAAFAAAAAABAAAIAAAAAAEAAAAAAAAAAQAABAAAAAADAAAIAAAAAAEAABQA\n",
       "AAAAAQAACAAAAAABAAAAAAAAAAEAAAQAAAAAAQAAFAAAAAABAAAIAAAAAAEAAAAAAAAAAQAABAAA\n",
       "AAABAAAUAAAAAAEAAAgAAAAAAQAAAAAAAAABAAAEAAAAAAEAABQAAAAAAQAACAAAAAABAAAAAAAA\n",
       "AAEAAAQAAAAAAQAACAAAAAAcc3RzYwAAAAAAAAABAAAAAQAAACgAAAABAAAAtHN0c3oAAAAAAAAA\n",
       "AAAAACgAABVyAAACWAAAAxIAAAQXAAACwQAAAcQAAAJOAAABzAAABSwAAAHMAAAAzAAAAVQAAARm\n",
       "AAACtQAAAaMAAAFDAAAD/wAAAYYAAAExAAABCwAAAkAAAAHJAAAB5wAAAqMAAAC7AAAAXQAAACkA\n",
       "AAFDAAAATgAAACkAAAAkAAAArgAAACoAAAAbAAAAGwAAADQAAAAkAAAAHQAAABsAAAAkAAAAFHN0\n",
       "Y28AAAAAAAAAAQAAACwAAABidWR0YQAAAFptZXRhAAAAAAAAACFoZGxyAAAAAAAAAABtZGlyYXBw\n",
       "bAAAAAAAAAAAAAAAAC1pbHN0AAAAJal0b28AAAAdZGF0YQAAAAEAAAAATGF2ZjU2LjQwLjEwMQ==\n",
       "\">\n",
       "  Your browser does not support the video tag.\n",
       "</video>"
      ],
      "text/plain": [
       "<matplotlib.animation.FuncAnimation at 0x7f81a3d95650>"
      ]
     },
     "execution_count": 12,
     "metadata": {},
     "output_type": "execute_result"
    }
   ],
   "source": [
    "fig = plt.figure(dpi=100, figsize=(5, 4))\n",
    "plt.scatter(x,y)\n",
    "line, = plt.plot(x,lin(a_guess,b_guess,x))\n",
    "plt.close()\n",
    "\n",
    "def animate(i):\n",
    "    line.set_ydata(lin(a_guess,b_guess,x))\n",
    "    for i in range(10): upd()\n",
    "    return line,\n",
    "\n",
    "ani = animation.FuncAnimation(fig, animate, np.arange(0, 40), interval=100)\n",
    "ani"
   ]
  },
  {
   "cell_type": "code",
   "execution_count": null,
   "metadata": {
    "collapsed": true
   },
   "outputs": [],
   "source": []
  }
 ],
 "metadata": {
  "kernelspec": {
   "display_name": "Python [default]",
   "language": "python",
   "name": "python2"
  },
  "language_info": {
   "codemirror_mode": {
    "name": "ipython",
    "version": 2
   },
   "file_extension": ".py",
   "mimetype": "text/x-python",
   "name": "python",
   "nbconvert_exporter": "python",
   "pygments_lexer": "ipython2",
   "version": "2.7.13"
  },
  "nav_menu": {},
  "toc": {
   "navigate_menu": true,
   "number_sections": true,
   "sideBar": true,
   "threshold": 6,
   "toc_cell": true,
   "toc_section_display": "block",
   "toc_window_display": false
  }
 },
 "nbformat": 4,
 "nbformat_minor": 0
}
