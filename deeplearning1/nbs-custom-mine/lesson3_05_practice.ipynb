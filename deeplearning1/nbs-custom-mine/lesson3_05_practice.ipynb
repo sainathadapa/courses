{
 "cells": [
  {
   "cell_type": "code",
   "execution_count": 1,
   "metadata": {
    "ExecuteTime": {
     "end_time": "2017-07-15T14:10:40.947186Z",
     "start_time": "2017-07-15T14:10:35.162544Z"
    },
    "collapsed": false
   },
   "outputs": [
    {
     "name": "stderr",
     "output_type": "stream",
     "text": [
      "WARNING (theano.sandbox.cuda): The cuda backend is deprecated and will be removed in the next release (v0.10).  Please switch to the gpuarray backend. You can get more information about how to switch at this URL:\n",
      " https://github.com/Theano/Theano/wiki/Converting-to-the-new-gpu-back-end%28gpuarray%29\n",
      "\n",
      "Using gpu device 0: Tesla K80 (CNMeM is disabled, cuDNN 5103)\n",
      "Using Theano backend.\n"
     ]
    }
   ],
   "source": [
    "from theano.sandbox import cuda\n",
    "import utils; reload(utils)\n",
    "from utils import *"
   ]
  },
  {
   "cell_type": "code",
   "execution_count": 2,
   "metadata": {
    "ExecuteTime": {
     "end_time": "2017-07-15T14:10:44.213787Z",
     "start_time": "2017-07-15T14:10:40.999053Z"
    },
    "collapsed": true
   },
   "outputs": [],
   "source": [
    "vgg = Vgg16()"
   ]
  },
  {
   "cell_type": "code",
   "execution_count": 3,
   "metadata": {
    "ExecuteTime": {
     "end_time": "2017-07-15T14:10:44.277056Z",
     "start_time": "2017-07-15T14:10:44.262644Z"
    },
    "collapsed": true
   },
   "outputs": [],
   "source": [
    "vgg.model.pop()\n",
    "for layer in vgg.model.layers:\n",
    "    layer.trainable=False\n",
    "vgg.model.add(Dense(2, activation = 'softmax'))\n",
    "vgg.compile()"
   ]
  },
  {
   "cell_type": "code",
   "execution_count": 4,
   "metadata": {
    "ExecuteTime": {
     "end_time": "2017-07-15T14:10:44.331652Z",
     "start_time": "2017-07-15T14:10:44.328863Z"
    },
    "collapsed": false
   },
   "outputs": [],
   "source": [
    "model = vgg.model"
   ]
  },
  {
   "cell_type": "code",
   "execution_count": 5,
   "metadata": {
    "ExecuteTime": {
     "end_time": "2017-07-15T14:10:44.671428Z",
     "start_time": "2017-07-15T14:10:44.382018Z"
    },
    "collapsed": true
   },
   "outputs": [],
   "source": [
    "# load previous weights\n",
    "model.load_weights('data/dogscats/models/finetune3.h5')"
   ]
  },
  {
   "cell_type": "markdown",
   "metadata": {
    "ExecuteTime": {
     "end_time": "2017-07-15T11:27:53.868873Z",
     "start_time": "2017-07-15T11:27:53.866070Z"
    }
   },
   "source": [
    "# pre-calculating till the flatten layer"
   ]
  },
  {
   "cell_type": "code",
   "execution_count": 6,
   "metadata": {
    "ExecuteTime": {
     "end_time": "2017-07-15T14:10:46.712921Z",
     "start_time": "2017-07-15T14:10:46.706199Z"
    },
    "collapsed": false
   },
   "outputs": [
    {
     "data": {
      "text/plain": [
       "[2, 4, 7, 9, 12, 14, 16, 19, 21, 23, 26, 28, 30]"
      ]
     },
     "execution_count": 6,
     "metadata": {},
     "output_type": "execute_result"
    }
   ],
   "source": [
    "layers = model.layers\n",
    "[index for index,layer in enumerate(layers) if type(layer) is Convolution2D]"
   ]
  },
  {
   "cell_type": "code",
   "execution_count": 7,
   "metadata": {
    "ExecuteTime": {
     "end_time": "2017-07-15T14:10:47.906606Z",
     "start_time": "2017-07-15T14:10:47.818428Z"
    },
    "collapsed": false
   },
   "outputs": [],
   "source": [
    "conv_layers = layers[:32]\n",
    "conv_model = Sequential(conv_layers)"
   ]
  },
  {
   "cell_type": "code",
   "execution_count": 8,
   "metadata": {
    "ExecuteTime": {
     "end_time": "2017-07-15T14:10:48.615003Z",
     "start_time": "2017-07-15T14:10:48.606504Z"
    },
    "collapsed": false
   },
   "outputs": [
    {
     "data": {
      "text/plain": [
       "[<keras.layers.core.Lambda at 0x7f696fdcaa50>,\n",
       " <keras.layers.convolutional.ZeroPadding2D at 0x7f696fccb190>,\n",
       " <keras.layers.convolutional.Convolution2D at 0x7f696fc9c350>,\n",
       " <keras.layers.convolutional.ZeroPadding2D at 0x7f696fc5c310>,\n",
       " <keras.layers.convolutional.Convolution2D at 0x7f696fbf0a50>,\n",
       " <keras.layers.pooling.MaxPooling2D at 0x7f696fccb150>,\n",
       " <keras.layers.convolutional.ZeroPadding2D at 0x7f696fbbc310>,\n",
       " <keras.layers.convolutional.Convolution2D at 0x7f696fbc7c90>,\n",
       " <keras.layers.convolutional.ZeroPadding2D at 0x7f696fbd7cd0>,\n",
       " <keras.layers.convolutional.Convolution2D at 0x7f696fb74190>,\n",
       " <keras.layers.pooling.MaxPooling2D at 0x7f696fbbc2d0>,\n",
       " <keras.layers.convolutional.ZeroPadding2D at 0x7f696fb799d0>,\n",
       " <keras.layers.convolutional.Convolution2D at 0x7f696fb94c10>,\n",
       " <keras.layers.convolutional.ZeroPadding2D at 0x7f696fb98bd0>,\n",
       " <keras.layers.convolutional.Convolution2D at 0x7f696fb36190>,\n",
       " <keras.layers.convolutional.ZeroPadding2D at 0x7f696fb401d0>,\n",
       " <keras.layers.convolutional.Convolution2D at 0x7f696fb57910>,\n",
       " <keras.layers.pooling.MaxPooling2D at 0x7f696fb79990>,\n",
       " <keras.layers.convolutional.ZeroPadding2D at 0x7f696fb5cd50>,\n",
       " <keras.layers.convolutional.Convolution2D at 0x7f696fafa210>,\n",
       " <keras.layers.convolutional.ZeroPadding2D at 0x7f696faff110>,\n",
       " <keras.layers.convolutional.Convolution2D at 0x7f696fb16750>,\n",
       " <keras.layers.convolutional.ZeroPadding2D at 0x7f696faa1790>,\n",
       " <keras.layers.convolutional.Convolution2D at 0x7f696faac050>,\n",
       " <keras.layers.pooling.MaxPooling2D at 0x7f696fb5cd10>,\n",
       " <keras.layers.convolutional.ZeroPadding2D at 0x7f696fac5250>,\n",
       " <keras.layers.convolutional.Convolution2D at 0x7f696fada990>,\n",
       " <keras.layers.convolutional.ZeroPadding2D at 0x7f696fa60a50>,\n",
       " <keras.layers.convolutional.Convolution2D at 0x7f696fa75a50>,\n",
       " <keras.layers.convolutional.ZeroPadding2D at 0x7f696fa7be10>,\n",
       " <keras.layers.convolutional.Convolution2D at 0x7f696fa92f90>,\n",
       " <keras.layers.pooling.MaxPooling2D at 0x7f696fac5210>]"
      ]
     },
     "execution_count": 8,
     "metadata": {},
     "output_type": "execute_result"
    }
   ],
   "source": [
    "conv_layers"
   ]
  },
  {
   "cell_type": "code",
   "execution_count": 9,
   "metadata": {
    "ExecuteTime": {
     "end_time": "2017-07-15T14:10:49.417688Z",
     "start_time": "2017-07-15T14:10:49.414549Z"
    },
    "collapsed": true
   },
   "outputs": [],
   "source": [
    "# fully connected layers\n",
    "fc_layers = layers[32:]"
   ]
  },
  {
   "cell_type": "code",
   "execution_count": 10,
   "metadata": {
    "ExecuteTime": {
     "end_time": "2017-07-15T14:10:50.115804Z",
     "start_time": "2017-07-15T14:10:50.110619Z"
    },
    "collapsed": false
   },
   "outputs": [
    {
     "data": {
      "text/plain": [
       "[<keras.layers.core.Flatten at 0x7f696fa26510>,\n",
       " <keras.layers.core.Dense at 0x7f696f9ba990>,\n",
       " <keras.layers.core.Dropout at 0x7f696f9ca590>,\n",
       " <keras.layers.core.Dense at 0x7f696f9455d0>,\n",
       " <keras.layers.core.Dropout at 0x7f696f949290>,\n",
       " <keras.layers.core.Dense at 0x7f696f6bd4d0>]"
      ]
     },
     "execution_count": 10,
     "metadata": {},
     "output_type": "execute_result"
    }
   ],
   "source": [
    "fc_layers"
   ]
  },
  {
   "cell_type": "code",
   "execution_count": 11,
   "metadata": {
    "ExecuteTime": {
     "end_time": "2017-07-15T14:10:51.845619Z",
     "start_time": "2017-07-15T14:10:51.088807Z"
    },
    "collapsed": false
   },
   "outputs": [
    {
     "name": "stdout",
     "output_type": "stream",
     "text": [
      "Found 23000 images belonging to 2 classes.\n",
      "Found 2000 images belonging to 2 classes.\n"
     ]
    }
   ],
   "source": [
    "train_batches = get_batches('data/dogscats/train', shuffle=False, batch_size=64)\n",
    "val_batches = get_batches('data/dogscats/valid', shuffle=False, batch_size=64)"
   ]
  },
  {
   "cell_type": "code",
   "execution_count": 12,
   "metadata": {
    "ExecuteTime": {
     "end_time": "2017-07-15T14:10:52.684372Z",
     "start_time": "2017-07-15T14:10:52.681172Z"
    },
    "collapsed": false
   },
   "outputs": [],
   "source": [
    "val_classes = val_batches.classes\n",
    "train_classes = train_batches.classes"
   ]
  },
  {
   "cell_type": "code",
   "execution_count": 13,
   "metadata": {
    "ExecuteTime": {
     "end_time": "2017-07-15T14:10:53.065995Z",
     "start_time": "2017-07-15T14:10:53.060853Z"
    },
    "collapsed": false
   },
   "outputs": [
    {
     "data": {
      "text/plain": [
       "array([0, 0, 0, ..., 1, 1, 1], dtype=int32)"
      ]
     },
     "execution_count": 13,
     "metadata": {},
     "output_type": "execute_result"
    }
   ],
   "source": [
    "val_classes"
   ]
  },
  {
   "cell_type": "code",
   "execution_count": 14,
   "metadata": {
    "ExecuteTime": {
     "end_time": "2017-07-15T14:10:53.572356Z",
     "start_time": "2017-07-15T14:10:53.567200Z"
    },
    "collapsed": false
   },
   "outputs": [
    {
     "data": {
      "text/plain": [
       "array([0, 0, 0, ..., 1, 1, 1], dtype=int32)"
      ]
     },
     "execution_count": 14,
     "metadata": {},
     "output_type": "execute_result"
    }
   ],
   "source": [
    "train_classes"
   ]
  },
  {
   "cell_type": "code",
   "execution_count": 15,
   "metadata": {
    "ExecuteTime": {
     "end_time": "2017-07-15T14:10:54.185234Z",
     "start_time": "2017-07-15T14:10:54.181576Z"
    },
    "collapsed": true
   },
   "outputs": [],
   "source": [
    "val_labels = onehot(val_classes)\n",
    "train_labels = onehot(train_classes)"
   ]
  },
  {
   "cell_type": "code",
   "execution_count": 16,
   "metadata": {
    "ExecuteTime": {
     "end_time": "2017-07-15T14:10:54.984831Z",
     "start_time": "2017-07-15T14:10:54.979332Z"
    },
    "collapsed": false
   },
   "outputs": [
    {
     "data": {
      "text/plain": [
       "array([[ 1.,  0.],\n",
       "       [ 1.,  0.],\n",
       "       [ 1.,  0.],\n",
       "       ..., \n",
       "       [ 0.,  1.],\n",
       "       [ 0.,  1.],\n",
       "       [ 0.,  1.]])"
      ]
     },
     "execution_count": 16,
     "metadata": {},
     "output_type": "execute_result"
    }
   ],
   "source": [
    "val_labels"
   ]
  },
  {
   "cell_type": "code",
   "execution_count": 17,
   "metadata": {
    "ExecuteTime": {
     "end_time": "2017-07-15T14:10:55.368335Z",
     "start_time": "2017-07-15T14:10:55.362995Z"
    },
    "collapsed": false
   },
   "outputs": [
    {
     "data": {
      "text/plain": [
       "array([[ 1.,  0.],\n",
       "       [ 1.,  0.],\n",
       "       [ 1.,  0.],\n",
       "       ..., \n",
       "       [ 0.,  1.],\n",
       "       [ 0.,  1.],\n",
       "       [ 0.,  1.]])"
      ]
     },
     "execution_count": 17,
     "metadata": {},
     "output_type": "execute_result"
    }
   ],
   "source": [
    "train_labels"
   ]
  },
  {
   "cell_type": "code",
   "execution_count": 18,
   "metadata": {
    "ExecuteTime": {
     "end_time": "2017-07-15T13:21:41.364568Z",
     "start_time": "2017-07-15T13:12:11.933033Z"
    },
    "collapsed": true
   },
   "outputs": [],
   "source": [
    "train_precalc = conv_model.predict_generator(train_batches, train_batches.nb_sample)"
   ]
  },
  {
   "cell_type": "code",
   "execution_count": 19,
   "metadata": {
    "ExecuteTime": {
     "end_time": "2017-07-15T13:22:31.610544Z",
     "start_time": "2017-07-15T13:21:41.458613Z"
    },
    "collapsed": true
   },
   "outputs": [],
   "source": [
    "val_precalc = conv_model.predict_generator(val_batches, val_batches.nb_sample)"
   ]
  },
  {
   "cell_type": "markdown",
   "metadata": {},
   "source": [
    "# model without dropout"
   ]
  },
  {
   "cell_type": "code",
   "execution_count": 20,
   "metadata": {
    "ExecuteTime": {
     "end_time": "2017-07-15T13:22:33.083415Z",
     "start_time": "2017-07-15T13:22:31.755150Z"
    },
    "collapsed": false,
    "scrolled": true
   },
   "outputs": [
    {
     "name": "stdout",
     "output_type": "stream",
     "text": [
      "____________________________________________________________________________________________________\n",
      "Layer (type)                     Output Shape          Param #     Connected to                     \n",
      "====================================================================================================\n",
      "lambda_1 (Lambda)                (None, 3, 224, 224)   0           lambda_input_1[0][0]             \n",
      "____________________________________________________________________________________________________\n",
      "zeropadding2d_1 (ZeroPadding2D)  (None, 3, 226, 226)   0           lambda_1[0][0]                   \n",
      "____________________________________________________________________________________________________\n",
      "convolution2d_1 (Convolution2D)  (None, 64, 224, 224)  1792        zeropadding2d_1[0][0]            \n",
      "____________________________________________________________________________________________________\n",
      "zeropadding2d_2 (ZeroPadding2D)  (None, 64, 226, 226)  0           convolution2d_1[0][0]            \n",
      "____________________________________________________________________________________________________\n",
      "convolution2d_2 (Convolution2D)  (None, 64, 224, 224)  36928       zeropadding2d_2[0][0]            \n",
      "____________________________________________________________________________________________________\n",
      "maxpooling2d_1 (MaxPooling2D)    (None, 64, 112, 112)  0           convolution2d_2[0][0]            \n",
      "____________________________________________________________________________________________________\n",
      "zeropadding2d_3 (ZeroPadding2D)  (None, 64, 114, 114)  0           maxpooling2d_1[0][0]             \n",
      "____________________________________________________________________________________________________\n",
      "convolution2d_3 (Convolution2D)  (None, 128, 112, 112) 73856       zeropadding2d_3[0][0]            \n",
      "____________________________________________________________________________________________________\n",
      "zeropadding2d_4 (ZeroPadding2D)  (None, 128, 114, 114) 0           convolution2d_3[0][0]            \n",
      "____________________________________________________________________________________________________\n",
      "convolution2d_4 (Convolution2D)  (None, 128, 112, 112) 147584      zeropadding2d_4[0][0]            \n",
      "____________________________________________________________________________________________________\n",
      "maxpooling2d_2 (MaxPooling2D)    (None, 128, 56, 56)   0           convolution2d_4[0][0]            \n",
      "____________________________________________________________________________________________________\n",
      "zeropadding2d_5 (ZeroPadding2D)  (None, 128, 58, 58)   0           maxpooling2d_2[0][0]             \n",
      "____________________________________________________________________________________________________\n",
      "convolution2d_5 (Convolution2D)  (None, 256, 56, 56)   295168      zeropadding2d_5[0][0]            \n",
      "____________________________________________________________________________________________________\n",
      "zeropadding2d_6 (ZeroPadding2D)  (None, 256, 58, 58)   0           convolution2d_5[0][0]            \n",
      "____________________________________________________________________________________________________\n",
      "convolution2d_6 (Convolution2D)  (None, 256, 56, 56)   590080      zeropadding2d_6[0][0]            \n",
      "____________________________________________________________________________________________________\n",
      "zeropadding2d_7 (ZeroPadding2D)  (None, 256, 58, 58)   0           convolution2d_6[0][0]            \n",
      "____________________________________________________________________________________________________\n",
      "convolution2d_7 (Convolution2D)  (None, 256, 56, 56)   590080      zeropadding2d_7[0][0]            \n",
      "____________________________________________________________________________________________________\n",
      "maxpooling2d_3 (MaxPooling2D)    (None, 256, 28, 28)   0           convolution2d_7[0][0]            \n",
      "____________________________________________________________________________________________________\n",
      "zeropadding2d_8 (ZeroPadding2D)  (None, 256, 30, 30)   0           maxpooling2d_3[0][0]             \n",
      "____________________________________________________________________________________________________\n",
      "convolution2d_8 (Convolution2D)  (None, 512, 28, 28)   1180160     zeropadding2d_8[0][0]            \n",
      "____________________________________________________________________________________________________\n",
      "zeropadding2d_9 (ZeroPadding2D)  (None, 512, 30, 30)   0           convolution2d_8[0][0]            \n",
      "____________________________________________________________________________________________________\n",
      "convolution2d_9 (Convolution2D)  (None, 512, 28, 28)   2359808     zeropadding2d_9[0][0]            \n",
      "____________________________________________________________________________________________________\n",
      "zeropadding2d_10 (ZeroPadding2D) (None, 512, 30, 30)   0           convolution2d_9[0][0]            \n",
      "____________________________________________________________________________________________________\n",
      "convolution2d_10 (Convolution2D) (None, 512, 28, 28)   2359808     zeropadding2d_10[0][0]           \n",
      "____________________________________________________________________________________________________\n",
      "maxpooling2d_4 (MaxPooling2D)    (None, 512, 14, 14)   0           convolution2d_10[0][0]           \n",
      "____________________________________________________________________________________________________\n",
      "zeropadding2d_11 (ZeroPadding2D) (None, 512, 16, 16)   0           maxpooling2d_4[0][0]             \n",
      "____________________________________________________________________________________________________\n",
      "convolution2d_11 (Convolution2D) (None, 512, 14, 14)   2359808     zeropadding2d_11[0][0]           \n",
      "____________________________________________________________________________________________________\n",
      "zeropadding2d_12 (ZeroPadding2D) (None, 512, 16, 16)   0           convolution2d_11[0][0]           \n",
      "____________________________________________________________________________________________________\n",
      "convolution2d_12 (Convolution2D) (None, 512, 14, 14)   2359808     zeropadding2d_12[0][0]           \n",
      "____________________________________________________________________________________________________\n",
      "zeropadding2d_13 (ZeroPadding2D) (None, 512, 16, 16)   0           convolution2d_12[0][0]           \n",
      "____________________________________________________________________________________________________\n",
      "convolution2d_13 (Convolution2D) (None, 512, 14, 14)   2359808     zeropadding2d_13[0][0]           \n",
      "____________________________________________________________________________________________________\n",
      "maxpooling2d_5 (MaxPooling2D)    (None, 512, 7, 7)     0           convolution2d_13[0][0]           \n",
      "____________________________________________________________________________________________________\n",
      "flatten_1 (Flatten)              (None, 25088)         0           maxpooling2d_5[0][0]             \n",
      "____________________________________________________________________________________________________\n",
      "dense_1 (Dense)                  (None, 4096)          102764544   flatten_1[0][0]                  \n",
      "____________________________________________________________________________________________________\n",
      "dropout_1 (Dropout)              (None, 4096)          0           dense_1[0][0]                    \n",
      "____________________________________________________________________________________________________\n",
      "dense_2 (Dense)                  (None, 4096)          16781312    dropout_1[0][0]                  \n",
      "____________________________________________________________________________________________________\n",
      "dropout_2 (Dropout)              (None, 4096)          0           dense_2[0][0]                    \n",
      "____________________________________________________________________________________________________\n",
      "dense_4 (Dense)                  (None, 2)             8194        dropout_2[0][0]                  \n",
      "====================================================================================================\n",
      "Total params: 134,268,738\n",
      "Trainable params: 8,194\n",
      "Non-trainable params: 134,260,544\n",
      "____________________________________________________________________________________________________\n"
     ]
    }
   ],
   "source": [
    "model.summary()"
   ]
  },
  {
   "cell_type": "code",
   "execution_count": 21,
   "metadata": {
    "ExecuteTime": {
     "end_time": "2017-07-15T13:22:33.230043Z",
     "start_time": "2017-07-15T13:22:33.225415Z"
    },
    "collapsed": false
   },
   "outputs": [
    {
     "data": {
      "text/plain": [
       "(None, 512, 7, 7)"
      ]
     },
     "execution_count": 21,
     "metadata": {},
     "output_type": "execute_result"
    }
   ],
   "source": [
    "conv_layers[-1].output_shape"
   ]
  },
  {
   "cell_type": "code",
   "execution_count": 22,
   "metadata": {
    "ExecuteTime": {
     "end_time": "2017-07-15T13:22:50.877290Z",
     "start_time": "2017-07-15T13:22:48.607078Z"
    },
    "collapsed": false
   },
   "outputs": [],
   "source": [
    "fc_model = Sequential([\n",
    "    Flatten(input_shape=(512, 7, 7)),\n",
    "    Dense(4096, activation = 'relu'),\n",
    "    Dropout(0.),\n",
    "    Dense(4096, activation = 'relu'),\n",
    "    Dropout(0.),\n",
    "    Dense(2, activation = 'softmax')\n",
    "])"
   ]
  },
  {
   "cell_type": "code",
   "execution_count": 23,
   "metadata": {
    "ExecuteTime": {
     "end_time": "2017-07-15T13:23:19.067850Z",
     "start_time": "2017-07-15T13:23:19.062593Z"
    },
    "collapsed": true
   },
   "outputs": [],
   "source": [
    "# copy the weights from the pre-trained model\n",
    "# since we're removing dropout, we want to half the weights\n",
    "fc_model.layers[0].set_weights([x/2 for x in model.layers[32].get_weights()])"
   ]
  },
  {
   "cell_type": "code",
   "execution_count": 24,
   "metadata": {
    "ExecuteTime": {
     "end_time": "2017-07-15T13:23:19.974025Z",
     "start_time": "2017-07-15T13:23:19.367417Z"
    },
    "collapsed": true
   },
   "outputs": [],
   "source": [
    "fc_model.layers[1].set_weights([x/2 for x in model.layers[33].get_weights()])\n",
    "fc_model.layers[2].set_weights([x/2 for x in model.layers[34].get_weights()])\n",
    "fc_model.layers[3].set_weights([x/2 for x in model.layers[35].get_weights()])\n",
    "fc_model.layers[4].set_weights([x/2 for x in model.layers[36].get_weights()])\n",
    "fc_model.layers[5].set_weights([x/2 for x in model.layers[37].get_weights()])"
   ]
  },
  {
   "cell_type": "code",
   "execution_count": 25,
   "metadata": {
    "ExecuteTime": {
     "end_time": "2017-07-15T13:23:21.585805Z",
     "start_time": "2017-07-15T13:23:21.573763Z"
    },
    "collapsed": true
   },
   "outputs": [],
   "source": [
    "fc_model.compile(optimizer=RMSprop(lr=0.00001,rho=0.7), # since this is a finely tuned model, it needs to be updated very slowly\n",
    "                loss='categorical_crossentropy',\n",
    "                metrics=['accuracy'])"
   ]
  },
  {
   "cell_type": "code",
   "execution_count": 26,
   "metadata": {
    "ExecuteTime": {
     "end_time": "2017-07-15T13:27:36.881793Z",
     "start_time": "2017-07-15T13:23:23.175867Z"
    },
    "collapsed": false
   },
   "outputs": [
    {
     "name": "stdout",
     "output_type": "stream",
     "text": [
      "Train on 23000 samples, validate on 2000 samples\n",
      "Epoch 1/8\n",
      "31s - loss: 0.2471 - acc: 0.9823 - val_loss: 0.2504 - val_acc: 0.9815\n",
      "Epoch 2/8\n",
      "31s - loss: 0.2131 - acc: 0.9852 - val_loss: 0.2648 - val_acc: 0.9815\n",
      "Epoch 3/8\n",
      "31s - loss: 0.1610 - acc: 0.9888 - val_loss: 0.2218 - val_acc: 0.9850\n",
      "Epoch 4/8\n",
      "31s - loss: 0.1348 - acc: 0.9906 - val_loss: 0.2068 - val_acc: 0.9855\n",
      "Epoch 5/8\n",
      "31s - loss: 0.1221 - acc: 0.9916 - val_loss: 0.3051 - val_acc: 0.9800\n",
      "Epoch 6/8\n",
      "31s - loss: 0.1036 - acc: 0.9931 - val_loss: 0.2132 - val_acc: 0.9860\n",
      "Epoch 7/8\n",
      "31s - loss: 0.0979 - acc: 0.9934 - val_loss: 0.2226 - val_acc: 0.9845\n",
      "Epoch 8/8\n",
      "31s - loss: 0.0834 - acc: 0.9946 - val_loss: 0.2074 - val_acc: 0.9855\n"
     ]
    },
    {
     "data": {
      "text/plain": [
       "<keras.callbacks.History at 0x7fa730c4e810>"
      ]
     },
     "execution_count": 26,
     "metadata": {},
     "output_type": "execute_result"
    }
   ],
   "source": [
    "fc_model.fit(train_precalc, train_labels, nb_epoch=8, verbose=2, batch_size=64, validation_data = (val_precalc, val_labels))"
   ]
  },
  {
   "cell_type": "code",
   "execution_count": 28,
   "metadata": {
    "ExecuteTime": {
     "end_time": "2017-07-15T13:29:36.873049Z",
     "start_time": "2017-07-15T13:29:32.989951Z"
    },
    "collapsed": false
   },
   "outputs": [
    {
     "data": {
      "text/plain": [
       "[<matplotlib.lines.Line2D at 0x7fa730b10990>,\n",
       " <matplotlib.lines.Line2D at 0x7fa730b10a90>]"
      ]
     },
     "execution_count": 28,
     "metadata": {},
     "output_type": "execute_result"
    },
    {
     "data": {
      "image/png": "[encoded data removed]",
      "text/plain": [
       "<matplotlib.figure.Figure at 0x7fa757a05250>"
      ]
     },
     "metadata": {},
     "output_type": "display_data"
    }
   ],
   "source": [
    "%matplotlib inline\n",
    "plt.plot(range(1,9), [0.2471, 0.2131, 0.1610, 0.1348, 0.1221, 0.1036, 0.0979, 0.0834],\n",
    "        range(1,9), [0.2504, 0.2648, 0.2218, 0.2068, 0.3051, 0.2132, 0.2226, 0.2074])"
   ]
  },
  {
   "cell_type": "code",
   "execution_count": 29,
   "metadata": {
    "ExecuteTime": {
     "end_time": "2017-07-15T13:29:49.101256Z",
     "start_time": "2017-07-15T13:29:49.098504Z"
    },
    "collapsed": true
   },
   "outputs": [],
   "source": [
    "# We are certainly in the overfitting zone"
   ]
  },
  {
   "cell_type": "markdown",
   "metadata": {},
   "source": [
    "# Data augmentation"
   ]
  },
  {
   "cell_type": "code",
   "execution_count": 31,
   "metadata": {
    "ExecuteTime": {
     "end_time": "2017-07-15T13:32:11.306527Z",
     "start_time": "2017-07-15T13:32:11.303176Z"
    },
    "collapsed": false
   },
   "outputs": [],
   "source": [
    "gen = image.ImageDataGenerator(rotation_range = 15, width_shift_range = 0.1, height_shift_range=0.1, zoom_range=0.1, horizontal_flip=True)"
   ]
  },
  {
   "cell_type": "code",
   "execution_count": 32,
   "metadata": {
    "ExecuteTime": {
     "end_time": "2017-07-15T13:32:54.221006Z",
     "start_time": "2017-07-15T13:32:53.469298Z"
    },
    "collapsed": false
   },
   "outputs": [
    {
     "name": "stdout",
     "output_type": "stream",
     "text": [
      "Found 23000 images belonging to 2 classes.\n",
      "Found 2000 images belonging to 2 classes.\n"
     ]
    }
   ],
   "source": [
    "train_batches = get_batches('data/dogscats/train', gen, batch_size=64)\n",
    "val_batches = get_batches('data/dogscats/valid', gen, batch_size=64)"
   ]
  },
  {
   "cell_type": "code",
   "execution_count": 33,
   "metadata": {
    "ExecuteTime": {
     "end_time": "2017-07-15T13:33:47.392511Z",
     "start_time": "2017-07-15T13:33:47.389053Z"
    },
    "collapsed": true
   },
   "outputs": [],
   "source": [
    "for layer in conv_model.layers:\n",
    "    layer.trainable=False"
   ]
  },
  {
   "cell_type": "code",
   "execution_count": 34,
   "metadata": {
    "ExecuteTime": {
     "end_time": "2017-07-15T13:34:19.150599Z",
     "start_time": "2017-07-15T13:34:16.877555Z"
    },
    "collapsed": true
   },
   "outputs": [],
   "source": [
    "conv_model.add(Sequential([\n",
    "    Flatten(input_shape=(512, 7, 7)),\n",
    "    Dense(4096, activation = 'relu'),\n",
    "    Dropout(0.),\n",
    "    Dense(4096, activation = 'relu'),\n",
    "    Dropout(0.),\n",
    "    Dense(2, activation = 'softmax')\n",
    "]))"
   ]
  },
  {
   "cell_type": "code",
   "execution_count": 39,
   "metadata": {
    "ExecuteTime": {
     "end_time": "2017-07-15T13:35:35.609341Z",
     "start_time": "2017-07-15T13:35:35.597078Z"
    },
    "collapsed": true
   },
   "outputs": [],
   "source": [
    "conv_model.compile(optimizer=RMSprop(lr=0.00001,rho=0.7),\n",
    "                loss='categorical_crossentropy',\n",
    "                metrics=['accuracy'])"
   ]
  },
  {
   "cell_type": "code",
   "execution_count": null,
   "metadata": {
    "ExecuteTime": {
     "start_time": "2017-07-15T13:47:04.533Z"
    },
    "collapsed": false
   },
   "outputs": [
    {
     "name": "stdout",
     "output_type": "stream",
     "text": [
      "Epoch 1/2\n",
      "646s - loss: 0.1973 - acc: 0.9773 - val_loss: 0.2936 - val_acc: 0.9725\n",
      "Epoch 2/2\n",
      "644s - loss: 0.1936 - acc: 0.9790 - val_loss: 0.2559 - val_acc: 0.9715\n"
     ]
    }
   ],
   "source": [
    "fit_hist = conv_model.fit_generator(train_batches, samples_per_epoch=train_batches.nb_sample, nb_epoch=2,verbose=2, validation_data=val_batches, nb_val_samples=val_batches.nb_sample)"
   ]
  },
  {
   "cell_type": "markdown",
   "metadata": {},
   "source": [
    "# Batch normalization and Dropout"
   ]
  },
  {
   "cell_type": "code",
   "execution_count": 18,
   "metadata": {
    "ExecuteTime": {
     "end_time": "2017-07-15T14:11:09.476571Z",
     "start_time": "2017-07-15T14:11:07.115351Z"
    },
    "collapsed": true
   },
   "outputs": [],
   "source": [
    "bn_model = Sequential([\n",
    "    Flatten(input_shape = (512, 7, 7)),\n",
    "    Dense(4096, activation = 'relu'),\n",
    "    BatchNormalization(),\n",
    "    Dropout(0.6),\n",
    "    Dense(4096, activation = 'relu'),\n",
    "    BatchNormalization(),\n",
    "    Dropout(0.6),\n",
    "    Dense(2, activation = 'softmax')\n",
    "])"
   ]
  },
  {
   "cell_type": "code",
   "execution_count": 19,
   "metadata": {
    "ExecuteTime": {
     "end_time": "2017-07-15T14:11:11.141007Z",
     "start_time": "2017-07-15T14:11:11.137811Z"
    },
    "collapsed": true
   },
   "outputs": [],
   "source": [
    "# load weights for the model from the dense layers of the Vgg16BN model\n",
    "from vgg16bn import Vgg16BN"
   ]
  },
  {
   "cell_type": "code",
   "execution_count": 20,
   "metadata": {
    "ExecuteTime": {
     "end_time": "2017-07-15T14:11:37.091070Z",
     "start_time": "2017-07-15T14:11:13.146072Z"
    },
    "collapsed": false
   },
   "outputs": [
    {
     "name": "stdout",
     "output_type": "stream",
     "text": [
      "Downloading data from http://files.fast.ai/models/vgg16_bn.h5\n"
     ]
    }
   ],
   "source": [
    "vgg16_bn = Vgg16BN()"
   ]
  },
  {
   "cell_type": "code",
   "execution_count": 24,
   "metadata": {
    "ExecuteTime": {
     "end_time": "2017-07-15T14:12:31.437212Z",
     "start_time": "2017-07-15T14:12:29.715421Z"
    },
    "collapsed": false,
    "scrolled": true
   },
   "outputs": [
    {
     "name": "stdout",
     "output_type": "stream",
     "text": [
      "____________________________________________________________________________________________________\n",
      "Layer (type)                     Output Shape          Param #     Connected to                     \n",
      "====================================================================================================\n",
      "lambda_2 (Lambda)                (None, 3, 224, 224)   0           lambda_input_2[0][0]             \n",
      "____________________________________________________________________________________________________\n",
      "zeropadding2d_14 (ZeroPadding2D) (None, 3, 226, 226)   0           lambda_2[0][0]                   \n",
      "____________________________________________________________________________________________________\n",
      "convolution2d_14 (Convolution2D) (None, 64, 224, 224)  1792        zeropadding2d_14[0][0]           \n",
      "____________________________________________________________________________________________________\n",
      "zeropadding2d_15 (ZeroPadding2D) (None, 64, 226, 226)  0           convolution2d_14[0][0]           \n",
      "____________________________________________________________________________________________________\n",
      "convolution2d_15 (Convolution2D) (None, 64, 224, 224)  36928       zeropadding2d_15[0][0]           \n",
      "____________________________________________________________________________________________________\n",
      "maxpooling2d_6 (MaxPooling2D)    (None, 64, 112, 112)  0           convolution2d_15[0][0]           \n",
      "____________________________________________________________________________________________________\n",
      "zeropadding2d_16 (ZeroPadding2D) (None, 64, 114, 114)  0           maxpooling2d_6[0][0]             \n",
      "____________________________________________________________________________________________________\n",
      "convolution2d_16 (Convolution2D) (None, 128, 112, 112) 73856       zeropadding2d_16[0][0]           \n",
      "____________________________________________________________________________________________________\n",
      "zeropadding2d_17 (ZeroPadding2D) (None, 128, 114, 114) 0           convolution2d_16[0][0]           \n",
      "____________________________________________________________________________________________________\n",
      "convolution2d_17 (Convolution2D) (None, 128, 112, 112) 147584      zeropadding2d_17[0][0]           \n",
      "____________________________________________________________________________________________________\n",
      "maxpooling2d_7 (MaxPooling2D)    (None, 128, 56, 56)   0           convolution2d_17[0][0]           \n",
      "____________________________________________________________________________________________________\n",
      "zeropadding2d_18 (ZeroPadding2D) (None, 128, 58, 58)   0           maxpooling2d_7[0][0]             \n",
      "____________________________________________________________________________________________________\n",
      "convolution2d_18 (Convolution2D) (None, 256, 56, 56)   295168      zeropadding2d_18[0][0]           \n",
      "____________________________________________________________________________________________________\n",
      "zeropadding2d_19 (ZeroPadding2D) (None, 256, 58, 58)   0           convolution2d_18[0][0]           \n",
      "____________________________________________________________________________________________________\n",
      "convolution2d_19 (Convolution2D) (None, 256, 56, 56)   590080      zeropadding2d_19[0][0]           \n",
      "____________________________________________________________________________________________________\n",
      "zeropadding2d_20 (ZeroPadding2D) (None, 256, 58, 58)   0           convolution2d_19[0][0]           \n",
      "____________________________________________________________________________________________________\n",
      "convolution2d_20 (Convolution2D) (None, 256, 56, 56)   590080      zeropadding2d_20[0][0]           \n",
      "____________________________________________________________________________________________________\n",
      "maxpooling2d_8 (MaxPooling2D)    (None, 256, 28, 28)   0           convolution2d_20[0][0]           \n",
      "____________________________________________________________________________________________________\n",
      "zeropadding2d_21 (ZeroPadding2D) (None, 256, 30, 30)   0           maxpooling2d_8[0][0]             \n",
      "____________________________________________________________________________________________________\n",
      "convolution2d_21 (Convolution2D) (None, 512, 28, 28)   1180160     zeropadding2d_21[0][0]           \n",
      "____________________________________________________________________________________________________\n",
      "zeropadding2d_22 (ZeroPadding2D) (None, 512, 30, 30)   0           convolution2d_21[0][0]           \n",
      "____________________________________________________________________________________________________\n",
      "convolution2d_22 (Convolution2D) (None, 512, 28, 28)   2359808     zeropadding2d_22[0][0]           \n",
      "____________________________________________________________________________________________________\n",
      "zeropadding2d_23 (ZeroPadding2D) (None, 512, 30, 30)   0           convolution2d_22[0][0]           \n",
      "____________________________________________________________________________________________________\n",
      "convolution2d_23 (Convolution2D) (None, 512, 28, 28)   2359808     zeropadding2d_23[0][0]           \n",
      "____________________________________________________________________________________________________\n",
      "maxpooling2d_9 (MaxPooling2D)    (None, 512, 14, 14)   0           convolution2d_23[0][0]           \n",
      "____________________________________________________________________________________________________\n",
      "zeropadding2d_24 (ZeroPadding2D) (None, 512, 16, 16)   0           maxpooling2d_9[0][0]             \n",
      "____________________________________________________________________________________________________\n",
      "convolution2d_24 (Convolution2D) (None, 512, 14, 14)   2359808     zeropadding2d_24[0][0]           \n",
      "____________________________________________________________________________________________________\n",
      "zeropadding2d_25 (ZeroPadding2D) (None, 512, 16, 16)   0           convolution2d_24[0][0]           \n",
      "____________________________________________________________________________________________________\n",
      "convolution2d_25 (Convolution2D) (None, 512, 14, 14)   2359808     zeropadding2d_25[0][0]           \n",
      "____________________________________________________________________________________________________\n",
      "zeropadding2d_26 (ZeroPadding2D) (None, 512, 16, 16)   0           convolution2d_25[0][0]           \n",
      "____________________________________________________________________________________________________\n",
      "convolution2d_26 (Convolution2D) (None, 512, 14, 14)   2359808     zeropadding2d_26[0][0]           \n",
      "____________________________________________________________________________________________________\n",
      "maxpooling2d_10 (MaxPooling2D)   (None, 512, 7, 7)     0           convolution2d_26[0][0]           \n",
      "____________________________________________________________________________________________________\n",
      "flatten_3 (Flatten)              (None, 25088)         0           maxpooling2d_10[0][0]            \n",
      "____________________________________________________________________________________________________\n",
      "dense_8 (Dense)                  (None, 4096)          102764544   flatten_3[0][0]                  \n",
      "____________________________________________________________________________________________________\n",
      "batchnormalization_3 (BatchNorma (None, 4096)          16384       dense_8[0][0]                    \n",
      "____________________________________________________________________________________________________\n",
      "dropout_5 (Dropout)              (None, 4096)          0           batchnormalization_3[0][0]       \n",
      "____________________________________________________________________________________________________\n",
      "dense_9 (Dense)                  (None, 4096)          16781312    dropout_5[0][0]                  \n",
      "____________________________________________________________________________________________________\n",
      "batchnormalization_4 (BatchNorma (None, 4096)          16384       dense_9[0][0]                    \n",
      "____________________________________________________________________________________________________\n",
      "dropout_6 (Dropout)              (None, 4096)          0           batchnormalization_4[0][0]       \n",
      "____________________________________________________________________________________________________\n",
      "dense_10 (Dense)                 (None, 1000)          4097000     dropout_6[0][0]                  \n",
      "====================================================================================================\n",
      "Total params: 138,390,312\n",
      "Trainable params: 138,373,928\n",
      "Non-trainable params: 16,384\n",
      "____________________________________________________________________________________________________\n"
     ]
    }
   ],
   "source": [
    "vgg16_bn.model.summary()"
   ]
  },
  {
   "cell_type": "code",
   "execution_count": 27,
   "metadata": {
    "ExecuteTime": {
     "end_time": "2017-07-15T14:14:23.983369Z",
     "start_time": "2017-07-15T14:14:23.978845Z"
    },
    "collapsed": false
   },
   "outputs": [
    {
     "data": {
      "text/plain": [
       "<keras.layers.core.Flatten at 0x7f696f4f9410>"
      ]
     },
     "execution_count": 27,
     "metadata": {},
     "output_type": "execute_result"
    }
   ],
   "source": [
    "bn_model.layers[0]"
   ]
  },
  {
   "cell_type": "code",
   "execution_count": 28,
   "metadata": {
    "ExecuteTime": {
     "end_time": "2017-07-15T14:14:41.665565Z",
     "start_time": "2017-07-15T14:14:41.660735Z"
    },
    "collapsed": false
   },
   "outputs": [
    {
     "data": {
      "text/plain": [
       "<keras.layers.core.Flatten at 0x7f696f11f910>"
      ]
     },
     "execution_count": 28,
     "metadata": {},
     "output_type": "execute_result"
    }
   ],
   "source": [
    "vgg16_bn.model.layers[32]"
   ]
  },
  {
   "cell_type": "code",
   "execution_count": 29,
   "metadata": {
    "ExecuteTime": {
     "end_time": "2017-07-15T14:16:20.195175Z",
     "start_time": "2017-07-15T14:16:19.775843Z"
    },
    "collapsed": true
   },
   "outputs": [],
   "source": [
    "bn_model.layers[0].set_weights(vgg16_bn.model.layers[32].get_weights())\n",
    "bn_model.layers[1].set_weights(vgg16_bn.model.layers[33].get_weights())\n",
    "bn_model.layers[2].set_weights(vgg16_bn.model.layers[34].get_weights())\n",
    "bn_model.layers[3].set_weights(vgg16_bn.model.layers[35].get_weights())\n",
    "bn_model.layers[4].set_weights(vgg16_bn.model.layers[36].get_weights())\n",
    "bn_model.layers[5].set_weights(vgg16_bn.model.layers[37].get_weights())\n",
    "bn_model.layers[6].set_weights(vgg16_bn.model.layers[38].get_weights())"
   ]
  },
  {
   "cell_type": "code",
   "execution_count": 30,
   "metadata": {
    "ExecuteTime": {
     "end_time": "2017-07-15T14:21:35.159290Z",
     "start_time": "2017-07-15T14:21:34.392743Z"
    },
    "collapsed": true
   },
   "outputs": [],
   "source": [
    "# rescaling because the dropout percentages are different for the loaded weights\n",
    "# only changing for dense layers\n",
    "bn_model.layers[1].set_weights([x*(1-0.5)/(1-0.6) for x in bn_model.layers[1].get_weights()])\n",
    "bn_model.layers[4].set_weights([x*(1-0.5)/(1-0.6) for x in bn_model.layers[4].get_weights()])"
   ]
  },
  {
   "cell_type": "code",
   "execution_count": 31,
   "metadata": {
    "ExecuteTime": {
     "end_time": "2017-07-15T14:21:47.675069Z",
     "start_time": "2017-07-15T14:21:47.664064Z"
    },
    "collapsed": true
   },
   "outputs": [],
   "source": [
    "bn_model.compile(Adam(), 'categorical_crossentropy', metrics=['accuracy'])"
   ]
  },
  {
   "cell_type": "code",
   "execution_count": null,
   "metadata": {
    "collapsed": true
   },
   "outputs": [],
   "source": []
  }
 ],
 "metadata": {
  "kernelspec": {
   "display_name": "Python [default]",
   "language": "python",
   "name": "python2"
  },
  "language_info": {
   "codemirror_mode": {
    "name": "ipython",
    "version": 2
   },
   "file_extension": ".py",
   "mimetype": "text/x-python",
   "name": "python",
   "nbconvert_exporter": "python",
   "pygments_lexer": "ipython2",
   "version": "2.7.13"
  },
  "toc": {
   "colors": {
    "hover_highlight": "#DAA520",
    "navigate_num": "#000000",
    "navigate_text": "#333333",
    "running_highlight": "#FF0000",
    "selected_highlight": "#FFD700",
    "sidebar_border": "#EEEEEE",
    "wrapper_background": "#FFFFFF"
   },
   "moveMenuLeft": true,
   "nav_menu": {
    "height": "66px",
    "width": "252px"
   },
   "navigate_menu": true,
   "number_sections": true,
   "sideBar": true,
   "threshold": 4,
   "toc_cell": false,
   "toc_section_display": "block",
   "toc_window_display": false,
   "widenNotebook": false
  },
  "varInspector": {
   "cols": {
    "lenName": 16,
    "lenType": 16,
    "lenVar": 40
   },
   "kernels_config": {
    "python": {
     "delete_cmd_postfix": "",
     "delete_cmd_prefix": "del ",
     "library": "var_list.py",
     "varRefreshCmd": "print(var_dic_list())"
    },
    "r": {
     "delete_cmd_postfix": ") ",
     "delete_cmd_prefix": "rm(",
     "library": "var_list.r",
     "varRefreshCmd": "cat(var_dic_list()) "
    }
   },
   "types_to_exclude": [
    "module",
    "function",
    "builtin_function_or_method",
    "instance",
    "_Feature"
   ],
   "window_display": false
  }
 },
 "nbformat": 4,
 "nbformat_minor": 2
}
