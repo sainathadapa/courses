{
 "cells": [
  {
   "cell_type": "code",
   "execution_count": 1,
   "metadata": {
    "ExecuteTime": {
     "end_time": "2017-07-25T10:20:28.572013Z",
     "start_time": "2017-07-25T10:20:22.603923Z"
    },
    "collapsed": false
   },
   "outputs": [
    {
     "name": "stderr",
     "output_type": "stream",
     "text": [
      "WARNING (theano.sandbox.cuda): The cuda backend is deprecated and will be removed in the next release (v0.10).  Please switch to the gpuarray backend. You can get more information about how to switch at this URL:\n",
      " https://github.com/Theano/Theano/wiki/Converting-to-the-new-gpu-back-end%28gpuarray%29\n",
      "\n",
      "Using gpu device 0: Tesla K80 (CNMeM is disabled, cuDNN 5103)\n",
      "Using Theano backend.\n"
     ]
    }
   ],
   "source": [
    "from theano.sandbox import cuda\n",
    "import utils; reload(utils)\n",
    "from utils import *"
   ]
  },
  {
   "cell_type": "markdown",
   "metadata": {},
   "source": [
    "# VGG"
   ]
  },
  {
   "cell_type": "code",
   "execution_count": 2,
   "metadata": {
    "ExecuteTime": {
     "end_time": "2017-07-25T10:20:28.728000Z",
     "start_time": "2017-07-25T10:20:28.573953Z"
    },
    "collapsed": false
   },
   "outputs": [
    {
     "name": "stdout",
     "output_type": "stream",
     "text": [
      "Found 3277 images belonging to 8 classes.\n",
      "Found 500 images belonging to 8 classes.\n",
      "Found 1000 images belonging to 1 classes.\n"
     ]
    }
   ],
   "source": [
    "(val_classes, train_classes,\n",
    " val_labels, train_labels,\n",
    " val_filenames, train_filenames,\n",
    " test_filenames) = get_classes('data/fish/')"
   ]
  },
  {
   "cell_type": "code",
   "execution_count": 3,
   "metadata": {
    "ExecuteTime": {
     "end_time": "2017-07-25T10:20:28.740867Z",
     "start_time": "2017-07-25T10:20:28.729711Z"
    },
    "collapsed": false
   },
   "outputs": [
    {
     "name": "stdout",
     "output_type": "stream",
     "text": [
      "[0 0 0 0 0 0 0 0 0 0 0 0 0 0 0 0 0 0 0 0 0 0 0 0 0 0 0 0 0 0 0 0 0 0 0 0 0 0 0 0 0 0 0 0 0 0 0 0 0 0\n",
      " 0 0 0 0 0 0 0 0 0 0 0 0 0 0 0 0 0 0 0 0 0 0 0 0 0 0 0 0 0 0 0 0 0 0 0 0 0 0 0 0 0 0 0 0 0 0 0 0 0 0\n",
      " 0 0 0 0 0 0 0 0 0 0 0 0 0 0 0 0 0 0 0 0 0 0 0 0 0 0 0 0 0 0 0 0 0 0 0 0 0 0 0 0 0 0 0 0 0 0 0 0 0 0\n",
      " 0 0 0 0 0 0 0 0 0 0 0 0 0 0 0 0 0 0 0 0 0 0 0 0 0 0 0 0 0 0 0 0 0 0 0 0 0 0 0 0 0 0 0 0 0 0 0 0 0 0\n",
      " 0 0 0 0 0 0 0 0 0 0 0 0 0 0 0 0 0 0 0 0 0 0 0 0 0 0 0 0 0 0 0 0 0 0 0 0 0 0 0 0 0 0 0 0 0 0 0 0 0 0\n",
      " 0 0 0 0 0 0 0 0 0 1 1 1 1 1 1 1 1 1 1 1 1 1 1 1 1 1 1 1 1 1 1 2 2 2 2 2 2 2 2 2 2 2 2 2 2 2 3 3 3 3\n",
      " 3 3 3 3 3 3 4 4 4 4 4 4 4 4 4 4 4 4 4 4 4 4 4 4 4 4 4 4 4 4 4 4 4 4 4 4 4 4 4 4 4 4 4 4 4 4 4 4 4 4\n",
      " 4 4 4 4 4 4 4 4 4 4 4 5 5 5 5 5 5 5 5 5 5 5 5 5 5 5 5 5 5 5 5 5 5 5 5 5 5 5 5 5 5 5 5 5 5 5 5 5 5 6\n",
      " 6 6 6 6 6 6 6 6 6 6 6 6 6 6 6 6 6 6 6 6 6 6 6 6 7 7 7 7 7 7 7 7 7 7 7 7 7 7 7 7 7 7 7 7 7 7 7 7 7 7\n",
      " 7 7 7 7 7 7 7 7 7 7 7 7 7 7 7 7 7 7 7 7 7 7 7 7 7 7 7 7 7 7 7 7 7 7 7 7 7 7 7 7 7 7 7 7 7 7 7 7 7 7]\n",
      "[0 0 0 ..., 7 7 7]\n"
     ]
    }
   ],
   "source": [
    "print(val_classes)\n",
    "print(train_classes)"
   ]
  },
  {
   "cell_type": "code",
   "execution_count": 4,
   "metadata": {
    "ExecuteTime": {
     "end_time": "2017-07-25T10:20:28.750777Z",
     "start_time": "2017-07-25T10:20:28.742907Z"
    },
    "collapsed": false
   },
   "outputs": [
    {
     "name": "stdout",
     "output_type": "stream",
     "text": [
      "[[ 1.  0.  0. ...,  0.  0.  0.]\n",
      " [ 1.  0.  0. ...,  0.  0.  0.]\n",
      " [ 1.  0.  0. ...,  0.  0.  0.]\n",
      " ..., \n",
      " [ 0.  0.  0. ...,  0.  0.  1.]\n",
      " [ 0.  0.  0. ...,  0.  0.  1.]\n",
      " [ 0.  0.  0. ...,  0.  0.  1.]]\n",
      "[[ 1.  0.  0. ...,  0.  0.  0.]\n",
      " [ 1.  0.  0. ...,  0.  0.  0.]\n",
      " [ 1.  0.  0. ...,  0.  0.  0.]\n",
      " ..., \n",
      " [ 0.  0.  0. ...,  0.  0.  1.]\n",
      " [ 0.  0.  0. ...,  0.  0.  1.]\n",
      " [ 0.  0.  0. ...,  0.  0.  1.]]\n"
     ]
    }
   ],
   "source": [
    "print(val_labels)\n",
    "print(train_labels)"
   ]
  },
  {
   "cell_type": "code",
   "execution_count": 5,
   "metadata": {
    "ExecuteTime": {
     "end_time": "2017-07-25T10:20:28.762758Z",
     "start_time": "2017-07-25T10:20:28.752783Z"
    },
    "collapsed": false
   },
   "outputs": [
    {
     "name": "stdout",
     "output_type": "stream",
     "text": [
      "['ALB/img_04018.jpg', 'ALB/img_05893.jpg', 'ALB/img_00984.jpg', 'ALB/img_07912.jpg', 'ALB/img_03237.jpg', 'ALB/img_07394.jpg', 'ALB/img_03570.jpg', 'ALB/img_02593.jpg', 'ALB/img_07542.jpg', 'ALB/img_04527.jpg', 'ALB/img_06735.jpg', 'ALB/img_04090.jpg', 'ALB/img_02710.jpg', 'ALB/img_03107.jpg', 'ALB/img_06591.jpg', 'ALB/img_07640.jpg', 'ALB/img_01858.jpg', 'ALB/img_06668.jpg', 'ALB/img_03820.jpg', 'ALB/img_01110.jpg', 'ALB/img_05283.jpg', 'ALB/img_05093.jpg', 'ALB/img_04841.jpg', 'ALB/img_01570.jpg', 'ALB/img_06633.jpg', 'ALB/img_01584.jpg', 'ALB/img_03797.jpg', 'ALB/img_03431.jpg', 'ALB/img_02032.jpg', 'ALB/img_06396.jpg', 'ALB/img_06286.jpg', 'ALB/img_07016.jpg', 'ALB/img_04713.jpg', 'ALB/img_04821.jpg', 'ALB/img_03092.jpg', 'ALB/img_05101.jpg', 'ALB/img_01422.jpg', 'ALB/img_01023.jpg', 'ALB/img_02263.jpg', 'ALB/img_02933.jpg', 'ALB/img_05810.jpg', 'ALB/img_07567.jpg', 'ALB/img_06887.jpg', 'ALB/img_03589.jpg', 'ALB/img_06386.jpg', 'ALB/img_00319.jpg', 'ALB/img_00636.jpg', 'ALB/img_01590.jpg', 'ALB/img_07008.jpg', 'ALB/img_05383.jpg', 'ALB/img_01641.jpg', 'ALB/img_01786.jpg', 'ALB/img_00233.jpg', 'ALB/img_05109.jpg', 'ALB/img_06900.jpg', 'ALB/img_06512.jpg', 'ALB/img_02499.jpg', 'ALB/img_02433.jpg', 'ALB/img_02227.jpg', 'ALB/img_05017.jpg', 'ALB/img_03575.jpg', 'ALB/img_03836.jpg', 'ALB/img_00037.jpg', 'ALB/img_07441.jpg', 'ALB/img_03215.jpg', 'ALB/img_07704.jpg', 'ALB/img_02828.jpg', 'ALB/img_01607.jpg', 'ALB/img_00840.jpg', 'ALB/img_02286.jpg', 'ALB/img_00831.jpg', 'ALB/img_03293.jpg', 'ALB/img_01950.jpg', 'ALB/img_07252.jpg', 'ALB/img_00893.jpg', 'ALB/img_05029.jpg', 'ALB/img_01085.jpg', 'ALB/img_00568.jpg', 'ALB/img_07075.jpg', 'ALB/img_07652.jpg', 'ALB/img_04806.jpg', 'ALB/img_00294.jpg', 'ALB/img_06607.jpg', 'ALB/img_03625.jpg', 'ALB/img_04742.jpg', 'ALB/img_04023.jpg', 'ALB/img_04519.jpg', 'ALB/img_01901.jpg', 'ALB/img_05890.jpg', 'ALB/img_06758.jpg', 'ALB/img_01909.jpg', 'ALB/img_01334.jpg', 'ALB/img_06720.jpg', 'ALB/img_00154.jpg', 'ALB/img_03913.jpg', 'ALB/img_01353.jpg', 'ALB/img_06702.jpg', 'ALB/img_04543.jpg', 'ALB/img_03150.jpg', 'ALB/img_04196.jpg', 'ALB/img_07477.jpg', 'ALB/img_07638.jpg', 'ALB/img_02005.jpg', 'ALB/img_06656.jpg', 'ALB/img_03859.jpg', 'ALB/img_01396.jpg', 'ALB/img_07726.jpg', 'ALB/img_01841.jpg', 'ALB/img_00885.jpg', 'ALB/img_00451.jpg', 'ALB/img_00690.jpg', 'ALB/img_04786.jpg', 'ALB/img_01455.jpg', 'ALB/img_01287.jpg', 'ALB/img_04878.jpg', 'ALB/img_06025.jpg', 'ALB/img_07560.jpg', 'ALB/img_00576.jpg', 'ALB/img_03862.jpg', 'ALB/img_02945.jpg', 'ALB/img_01262.jpg', 'ALB/img_01547.jpg', 'ALB/img_06714.jpg', 'ALB/img_01744.jpg', 'ALB/img_04920.jpg', 'ALB/img_04124.jpg', 'ALB/img_06350.jpg', 'ALB/img_07489.jpg', 'ALB/img_00633.jpg', 'ALB/img_06153.jpg', 'ALB/img_02888.jpg', 'ALB/img_05610.jpg', 'ALB/img_04796.jpg', 'ALB/img_02086.jpg', 'ALB/img_02821.jpg', 'ALB/img_03429.jpg', 'ALB/img_03106.jpg', 'ALB/img_02250.jpg', 'ALB/img_03344.jpg', 'ALB/img_07118.jpg', 'ALB/img_02018.jpg', 'ALB/img_03099.jpg', 'ALB/img_05315.jpg', 'ALB/img_05090.jpg', 'ALB/img_02875.jpg', 'ALB/img_04547.jpg', 'ALB/img_06589.jpg', 'ALB/img_01578.jpg', 'ALB/img_05075.jpg', 'ALB/img_03041.jpg', 'ALB/img_03884.jpg', 'ALB/img_01466.jpg', 'ALB/img_07039.jpg', 'ALB/img_05375.jpg', 'ALB/img_00490.jpg', 'ALB/img_05827.jpg', 'ALB/img_07108.jpg', 'ALB/img_01729.jpg', 'ALB/img_05148.jpg', 'ALB/img_04296.jpg', 'ALB/img_07114.jpg', 'ALB/img_07720.jpg', 'ALB/img_02019.jpg', 'ALB/img_01454.jpg', 'ALB/img_03612.jpg', 'ALB/img_03212.jpg', 'ALB/img_00782.jpg', 'ALB/img_04973.jpg', 'ALB/img_07763.jpg', 'ALB/img_07522.jpg', 'ALB/img_02995.jpg', 'ALB/img_00811.jpg', 'ALB/img_01130.jpg', 'ALB/img_01809.jpg', 'ALB/img_06680.jpg', 'ALB/img_03569.jpg', 'ALB/img_03556.jpg', 'ALB/img_01690.jpg', 'ALB/img_04917.jpg', 'ALB/img_02629.jpg', 'ALB/img_00019.jpg', 'ALB/img_05836.jpg', 'ALB/img_06588.jpg', 'ALB/img_01261.jpg', 'ALB/img_07794.jpg', 'ALB/img_05803.jpg', 'ALB/img_01929.jpg', 'ALB/img_01804.jpg', 'ALB/img_03808.jpg', 'ALB/img_03515.jpg', 'ALB/img_05684.jpg', 'ALB/img_05757.jpg', 'ALB/img_00209.jpg', 'ALB/img_01910.jpg', 'ALB/img_05104.jpg', 'ALB/img_01580.jpg', 'ALB/img_00544.jpg', 'ALB/img_01722.jpg', 'ALB/img_05215.jpg', 'ALB/img_02106.jpg', 'ALB/img_01196.jpg', 'ALB/img_00928.jpg', 'ALB/img_07668.jpg', 'ALB/img_04400.jpg', 'ALB/img_06826.jpg', 'ALB/img_01601.jpg', 'ALB/img_04706.jpg', 'ALB/img_06843.jpg', 'ALB/img_04545.jpg', 'ALB/img_00592.jpg', 'ALB/img_06471.jpg', 'ALB/img_06716.jpg', 'ALB/img_03576.jpg', 'ALB/img_05507.jpg', 'ALB/img_01713.jpg', 'ALB/img_07527.jpg', 'ALB/img_02704.jpg', 'ALB/img_03466.jpg', 'ALB/img_02605.jpg', 'ALB/img_00003.jpg', 'ALB/img_02174.jpg', 'ALB/img_07153.jpg', 'ALB/img_02072.jpg', 'ALB/img_04542.jpg', 'ALB/img_06029.jpg', 'ALB/img_07735.jpg', 'ALB/img_05703.jpg', 'ALB/img_01949.jpg', 'ALB/img_02662.jpg', 'ALB/img_02886.jpg', 'ALB/img_02326.jpg', 'ALB/img_06492.jpg', 'ALB/img_04014.jpg', 'ALB/img_07443.jpg', 'ALB/img_00288.jpg', 'ALB/img_00632.jpg', 'ALB/img_03851.jpg', 'ALB/img_05266.jpg', 'ALB/img_04982.jpg', 'ALB/img_02689.jpg', 'ALB/img_01183.jpg', 'ALB/img_00570.jpg', 'ALB/img_01398.jpg', 'ALB/img_01273.jpg', 'ALB/img_01928.jpg', 'ALB/img_00728.jpg', 'ALB/img_03470.jpg', 'ALB/img_04202.jpg', 'ALB/img_03616.jpg', 'ALB/img_05286.jpg', 'ALB/img_04446.jpg', 'ALB/img_06514.jpg', 'ALB/img_04570.jpg', 'ALB/img_03483.jpg', 'ALB/img_02012.jpg', 'ALB/img_02793.jpg', 'ALB/img_04320.jpg', 'ALB/img_04336.jpg', 'ALB/img_04588.jpg', 'BET/img_06776.jpg', 'BET/img_07059.jpg', 'BET/img_00259.jpg', 'BET/img_00158.jpg', 'BET/img_03051.jpg', 'BET/img_02553.jpg', 'BET/img_00883.jpg', 'BET/img_01696.jpg', 'BET/img_03708.jpg', 'BET/img_06035.jpg', 'BET/img_03565.jpg', 'BET/img_00363.jpg', 'BET/img_03881.jpg', 'BET/img_03315.jpg', 'BET/img_01234.jpg', 'BET/img_05255.jpg', 'BET/img_06862.jpg', 'BET/img_02647.jpg', 'BET/img_03453.jpg', 'BET/img_04914.jpg', 'BET/img_07620.jpg', 'BET/img_03817.jpg', 'DOL/img_00689.jpg', 'DOL/img_04314.jpg', 'DOL/img_04824.jpg', 'DOL/img_07693.jpg', 'DOL/img_05971.jpg', 'DOL/img_06671.jpg', 'DOL/img_06579.jpg', 'DOL/img_04283.jpg', 'DOL/img_05446.jpg', 'DOL/img_04743.jpg', 'DOL/img_01397.jpg', 'DOL/img_06209.jpg', 'DOL/img_02475.jpg', 'DOL/img_05294.jpg', 'DOL/img_06334.jpg', 'LAG/img_00657.jpg', 'LAG/img_03232.jpg', 'LAG/img_05386.jpg', 'LAG/img_06713.jpg', 'LAG/img_05945.jpg', 'LAG/img_04414.jpg', 'LAG/img_01037.jpg', 'LAG/img_05449.jpg', 'LAG/img_07334.jpg', 'LAG/img_06876.jpg', 'NoF/img_06172.jpg', 'NoF/img_04674.jpg', 'NoF/img_05190.jpg', 'NoF/img_01383.jpg', 'NoF/img_06047.jpg', 'NoF/img_02301.jpg', 'NoF/img_06596.jpg', 'NoF/img_07881.jpg', 'NoF/img_07464.jpg', 'NoF/img_00307.jpg', 'NoF/img_05800.jpg', 'NoF/img_07132.jpg', 'NoF/img_04590.jpg', 'NoF/img_02716.jpg', 'NoF/img_03194.jpg', 'NoF/img_07544.jpg', 'NoF/img_04615.jpg', 'NoF/img_07631.jpg', 'NoF/img_07601.jpg', 'NoF/img_05866.jpg', 'NoF/img_07364.jpg', 'NoF/img_02907.jpg', 'NoF/img_03582.jpg', 'NoF/img_02015.jpg', 'NoF/img_04956.jpg', 'NoF/img_05352.jpg', 'NoF/img_07500.jpg', 'NoF/img_03850.jpg', 'NoF/img_06742.jpg', 'NoF/img_07711.jpg', 'NoF/img_07847.jpg', 'NoF/img_00471.jpg', 'NoF/img_02879.jpg', 'NoF/img_02653.jpg', 'NoF/img_01677.jpg', 'NoF/img_02441.jpg', 'NoF/img_00748.jpg', 'NoF/img_00306.jpg', 'NoF/img_06610.jpg', 'NoF/img_01461.jpg', 'NoF/img_06996.jpg', 'NoF/img_06050.jpg', 'NoF/img_06120.jpg', 'NoF/img_01504.jpg', 'NoF/img_07512.jpg', 'NoF/img_01382.jpg', 'NoF/img_00089.jpg', 'NoF/img_04052.jpg', 'NoF/img_01583.jpg', 'NoF/img_04785.jpg', 'NoF/img_03959.jpg', 'NoF/img_05993.jpg', 'NoF/img_04509.jpg', 'NoF/img_00673.jpg', 'NoF/img_07258.jpg', 'OTHER/img_00802.jpg', 'OTHER/img_03395.jpg', 'OTHER/img_00781.jpg', 'OTHER/img_04072.jpg', 'OTHER/img_02831.jpg', 'OTHER/img_07365.jpg', 'OTHER/img_00063.jpg', 'OTHER/img_03716.jpg', 'OTHER/img_01526.jpg', 'OTHER/img_02051.jpg', 'OTHER/img_07254.jpg', 'OTHER/img_05540.jpg', 'OTHER/img_06070.jpg', 'OTHER/img_03132.jpg', 'OTHER/img_03526.jpg', 'OTHER/img_07751.jpg', 'OTHER/img_05223.jpg', 'OTHER/img_05413.jpg', 'OTHER/img_02084.jpg', 'OTHER/img_02419.jpg', 'OTHER/img_05598.jpg', 'OTHER/img_03530.jpg', 'OTHER/img_00397.jpg', 'OTHER/img_04556.jpg', 'OTHER/img_02377.jpg', 'OTHER/img_04380.jpg', 'OTHER/img_02959.jpg', 'OTHER/img_00368.jpg', 'OTHER/img_02160.jpg', 'OTHER/img_04123.jpg', 'OTHER/img_01871.jpg', 'OTHER/img_00433.jpg', 'OTHER/img_04592.jpg', 'OTHER/img_04996.jpg', 'OTHER/img_07922.jpg', 'OTHER/img_02031.jpg', 'OTHER/img_04366.jpg', 'OTHER/img_06136.jpg', 'SHARK/img_01942.jpg', 'SHARK/img_02558.jpg', 'SHARK/img_00409.jpg', 'SHARK/img_03351.jpg', 'SHARK/img_07498.jpg', 'SHARK/img_06385.jpg', 'SHARK/img_07003.jpg', 'SHARK/img_04791.jpg', 'SHARK/img_05519.jpg', 'SHARK/img_03962.jpg', 'SHARK/img_05872.jpg', 'SHARK/img_05873.jpg', 'SHARK/img_00427.jpg', 'SHARK/img_01820.jpg', 'SHARK/img_05464.jpg', 'SHARK/img_03353.jpg', 'SHARK/img_05366.jpg', 'SHARK/img_03170.jpg', 'SHARK/img_07414.jpg', 'SHARK/img_02260.jpg', 'SHARK/img_02469.jpg', 'SHARK/img_02095.jpg', 'SHARK/img_07841.jpg', 'SHARK/img_00685.jpg', 'SHARK/img_07661.jpg', 'YFT/img_02220.jpg', 'YFT/img_03157.jpg', 'YFT/img_05128.jpg', 'YFT/img_00896.jpg', 'YFT/img_07309.jpg', 'YFT/img_00955.jpg', 'YFT/img_05495.jpg', 'YFT/img_02121.jpg', 'YFT/img_02516.jpg', 'YFT/img_02962.jpg', 'YFT/img_05184.jpg', 'YFT/img_06567.jpg', 'YFT/img_01829.jpg', 'YFT/img_05329.jpg', 'YFT/img_03189.jpg', 'YFT/img_05892.jpg', 'YFT/img_02642.jpg', 'YFT/img_04319.jpg', 'YFT/img_02067.jpg', 'YFT/img_04646.jpg', 'YFT/img_07429.jpg', 'YFT/img_01415.jpg', 'YFT/img_03065.jpg', 'YFT/img_06171.jpg', 'YFT/img_04868.jpg', 'YFT/img_02075.jpg', 'YFT/img_06988.jpg', 'YFT/img_07782.jpg', 'YFT/img_06198.jpg', 'YFT/img_07562.jpg', 'YFT/img_06154.jpg', 'YFT/img_04688.jpg', 'YFT/img_02368.jpg', 'YFT/img_06625.jpg', 'YFT/img_01704.jpg', 'YFT/img_06687.jpg', 'YFT/img_06509.jpg', 'YFT/img_07233.jpg', 'YFT/img_07706.jpg', 'YFT/img_02562.jpg', 'YFT/img_04236.jpg', 'YFT/img_07577.jpg', 'YFT/img_06919.jpg', 'YFT/img_07067.jpg', 'YFT/img_00137.jpg', 'YFT/img_00287.jpg', 'YFT/img_04573.jpg', 'YFT/img_07427.jpg', 'YFT/img_00420.jpg', 'YFT/img_02707.jpg', 'YFT/img_05066.jpg', 'YFT/img_03244.jpg', 'YFT/img_03198.jpg', 'YFT/img_07069.jpg', 'YFT/img_02525.jpg', 'YFT/img_05781.jpg', 'YFT/img_02756.jpg', 'YFT/img_05302.jpg', 'YFT/img_00477.jpg', 'YFT/img_07466.jpg', 'YFT/img_03721.jpg', 'YFT/img_07261.jpg', 'YFT/img_04331.jpg', 'YFT/img_04472.jpg', 'YFT/img_00916.jpg', 'YFT/img_05708.jpg', 'YFT/img_04097.jpg', 'YFT/img_04558.jpg', 'YFT/img_06428.jpg', 'YFT/img_00069.jpg', 'YFT/img_00061.jpg', 'YFT/img_07648.jpg', 'YFT/img_03004.jpg', 'YFT/img_01498.jpg', 'YFT/img_00238.jpg', 'YFT/img_01535.jpg']\n",
      "['ALB/img_02530.jpg', 'ALB/img_05149.jpg', 'ALB/img_00961.jpg', 'ALB/img_06301.jpg', 'ALB/img_00296.jpg', 'ALB/img_06767.jpg', 'ALB/img_07117.jpg', 'ALB/img_03486.jpg', 'ALB/img_06574.jpg', 'ALB/img_00939.jpg', 'ALB/img_05694.jpg', 'ALB/img_04062.jpg', 'ALB/img_00899.jpg', 'ALB/img_07092.jpg', 'ALB/img_05675.jpg', 'ALB/img_03011.jpg', 'ALB/img_00206.jpg', 'ALB/img_07914.jpg', 'ALB/img_01460.jpg', 'ALB/img_05985.jpg', 'ALB/img_02190.jpg', 'ALB/img_04312.jpg', 'ALB/img_05811.jpg', 'ALB/img_03182.jpg', 'ALB/img_07239.jpg', 'ALB/img_01660.jpg', 'ALB/img_04969.jpg', 'ALB/img_02695.jpg', 'ALB/img_01077.jpg', 'ALB/img_00012.jpg', 'ALB/img_03143.jpg', 'ALB/img_02801.jpg', 'ALB/img_00277.jpg', 'ALB/img_00545.jpg', 'ALB/img_01926.jpg', 'ALB/img_01333.jpg', 'ALB/img_07299.jpg', 'ALB/img_07709.jpg', 'ALB/img_00869.jpg', 'ALB/img_05709.jpg', 'ALB/img_01162.jpg', 'ALB/img_03067.jpg', 'ALB/img_04729.jpg', 'ALB/img_07155.jpg', 'ALB/img_03171.jpg', 'ALB/img_02776.jpg', 'ALB/img_06096.jpg', 'ALB/img_01980.jpg', 'ALB/img_06319.jpg', 'ALB/img_01819.jpg', 'ALB/img_06390.jpg', 'ALB/img_06460.jpg', 'ALB/img_05039.jpg', 'ALB/img_04460.jpg', 'ALB/img_02283.jpg', 'ALB/img_03432.jpg', 'ALB/img_01239.jpg', 'ALB/img_00457.jpg', 'ALB/img_02468.jpg', 'ALB/img_07225.jpg', 'ALB/img_02328.jpg', 'ALB/img_02940.jpg', 'ALB/img_01032.jpg', 'ALB/img_04708.jpg', 'ALB/img_04762.jpg', 'ALB/img_06014.jpg', 'ALB/img_07083.jpg', 'ALB/img_04537.jpg', 'ALB/img_01160.jpg', 'ALB/img_05376.jpg', 'ALB/img_05818.jpg', 'ALB/img_02107.jpg', 'ALB/img_05348.jpg', 'ALB/img_06112.jpg', 'ALB/img_06944.jpg', 'ALB/img_05727.jpg', 'ALB/img_04330.jpg', 'ALB/img_00665.jpg', 'ALB/img_01255.jpg', 'ALB/img_05161.jpg', 'ALB/img_04737.jpg', 'ALB/img_00039.jpg', 'ALB/img_01338.jpg', 'ALB/img_03003.jpg', 'ALB/img_06850.jpg', 'ALB/img_04474.jpg', 'ALB/img_03821.jpg', 'ALB/img_05690.jpg', 'ALB/img_05200.jpg', 'ALB/img_05193.jpg', 'ALB/img_03664.jpg', 'ALB/img_00299.jpg', 'ALB/img_05883.jpg', 'ALB/img_07197.jpg', 'ALB/img_04890.jpg', 'ALB/img_01612.jpg', 'ALB/img_03017.jpg', 'ALB/img_04377.jpg', 'ALB/img_04792.jpg', 'ALB/img_06950.jpg', 'ALB/img_01434.jpg', 'ALB/img_06749.jpg', 'ALB/img_03552.jpg', 'ALB/img_00898.jpg', 'ALB/img_06298.jpg', 'ALB/img_07126.jpg', 'ALB/img_06645.jpg', 'ALB/img_03969.jpg', 'ALB/img_07255.jpg', 'ALB/img_07465.jpg', 'ALB/img_01357.jpg', 'ALB/img_00975.jpg', 'ALB/img_02551.jpg', 'ALB/img_01985.jpg', 'ALB/img_06380.jpg', 'ALB/img_07193.jpg', 'ALB/img_03910.jpg', 'ALB/img_05228.jpg', 'ALB/img_02140.jpg', 'ALB/img_01756.jpg', 'ALB/img_04513.jpg', 'ALB/img_06553.jpg', 'ALB/img_05885.jpg', 'ALB/img_01919.jpg', 'ALB/img_03448.jpg', 'ALB/img_03524.jpg', 'ALB/img_00415.jpg', 'ALB/img_07651.jpg', 'ALB/img_06080.jpg', 'ALB/img_06388.jpg', 'ALB/img_07470.jpg', 'ALB/img_05027.jpg', 'ALB/img_01401.jpg', 'ALB/img_07822.jpg', 'ALB/img_02276.jpg', 'ALB/img_02289.jpg', 'ALB/img_06279.jpg', 'ALB/img_03599.jpg', 'ALB/img_00820.jpg', 'ALB/img_05258.jpg', 'ALB/img_07785.jpg', 'ALB/img_07826.jpg', 'ALB/img_02994.jpg', 'ALB/img_07001.jpg', 'ALB/img_07876.jpg', 'ALB/img_04277.jpg', 'ALB/img_05763.jpg', 'ALB/img_00366.jpg', 'ALB/img_00237.jpg', 'ALB/img_06213.jpg', 'ALB/img_00295.jpg', 'ALB/img_03516.jpg', 'ALB/img_06707.jpg', 'ALB/img_07549.jpg', 'ALB/img_05500.jpg', 'ALB/img_00672.jpg', 'ALB/img_07814.jpg', 'ALB/img_04102.jpg', 'ALB/img_03424.jpg', 'ALB/img_00525.jpg', 'ALB/img_03320.jpg', 'ALB/img_02489.jpg', 'ALB/img_04983.jpg', 'ALB/img_00369.jpg', 'ALB/img_05279.jpg', 'ALB/img_04876.jpg', 'ALB/img_06439.jpg', 'ALB/img_05641.jpg', 'ALB/img_06090.jpg', 'ALB/img_07863.jpg', 'ALB/img_07486.jpg', 'ALB/img_04721.jpg', 'ALB/img_04006.jpg', 'ALB/img_00351.jpg', 'ALB/img_05272.jpg', 'ALB/img_00508.jpg', 'ALB/img_04031.jpg', 'ALB/img_07218.jpg', 'ALB/img_01313.jpg', 'ALB/img_06906.jpg', 'ALB/img_03985.jpg', 'ALB/img_06935.jpg', 'ALB/img_02583.jpg', 'ALB/img_00020.jpg', 'ALB/img_00032.jpg', 'ALB/img_04852.jpg', 'ALB/img_01163.jpg', 'ALB/img_07771.jpg', 'ALB/img_01790.jpg', 'ALB/img_00643.jpg', 'ALB/img_04346.jpg', 'ALB/img_00236.jpg', 'ALB/img_00186.jpg', 'ALB/img_06381.jpg', 'ALB/img_04032.jpg', 'ALB/img_04736.jpg', 'ALB/img_02856.jpg', 'ALB/img_06844.jpg', 'ALB/img_01355.jpg', 'ALB/img_07424.jpg', 'ALB/img_04822.jpg', 'ALB/img_05621.jpg', 'ALB/img_02030.jpg', 'ALB/img_06260.jpg', 'ALB/img_01936.jpg', 'ALB/img_00817.jpg', 'ALB/img_06075.jpg', 'ALB/img_00057.jpg', 'ALB/img_01364.jpg', 'ALB/img_04861.jpg', 'ALB/img_02992.jpg', 'ALB/img_07180.jpg', 'ALB/img_04231.jpg', 'ALB/img_07645.jpg', 'ALB/img_07390.jpg', 'ALB/img_00668.jpg', 'ALB/img_04827.jpg', 'ALB/img_06539.jpg', 'ALB/img_04771.jpg', 'ALB/img_01806.jpg', 'ALB/img_02491.jpg', 'ALB/img_04433.jpg', 'ALB/img_01363.jpg', 'ALB/img_03282.jpg', 'ALB/img_02047.jpg', 'ALB/img_00403.jpg', 'ALB/img_07444.jpg', 'ALB/img_05575.jpg', 'ALB/img_07701.jpg', 'ALB/img_02447.jpg', 'ALB/img_01507.jpg', 'ALB/img_06942.jpg', 'ALB/img_04589.jpg', 'ALB/img_05777.jpg', 'ALB/img_05842.jpg', 'ALB/img_03553.jpg', 'ALB/img_07136.jpg', 'ALB/img_00741.jpg', 'ALB/img_03827.jpg', 'ALB/img_06114.jpg', 'ALB/img_01047.jpg', 'ALB/img_04574.jpg', 'ALB/img_05297.jpg', 'ALB/img_07558.jpg', 'ALB/img_07603.jpg', 'ALB/img_07020.jpg', 'ALB/img_03463.jpg', 'ALB/img_07476.jpg', 'ALB/img_03706.jpg', 'ALB/img_03794.jpg', 'ALB/img_02928.jpg', 'ALB/img_05566.jpg', 'ALB/img_05806.jpg', 'ALB/img_02189.jpg', 'ALB/img_02823.jpg', 'ALB/img_02470.jpg', 'ALB/img_05707.jpg', 'ALB/img_06200.jpg', 'ALB/img_02361.jpg', 'ALB/img_07031.jpg', 'ALB/img_02108.jpg', 'ALB/img_02405.jpg', 'ALB/img_07461.jpg', 'ALB/img_04882.jpg', 'ALB/img_01448.jpg', 'ALB/img_02547.jpg', 'ALB/img_04783.jpg', 'ALB/img_02420.jpg', 'ALB/img_07463.jpg', 'ALB/img_03879.jpg', 'ALB/img_07195.jpg', 'ALB/img_02946.jpg', 'ALB/img_06115.jpg', 'ALB/img_00653.jpg', 'ALB/img_02346.jpg', 'ALB/img_04065.jpg', 'ALB/img_02719.jpg', 'ALB/img_01086.jpg', 'ALB/img_06563.jpg', 'ALB/img_05515.jpg', 'ALB/img_04979.jpg', 'ALB/img_05094.jpg', 'ALB/img_03798.jpg', 'ALB/img_03250.jpg', 'ALB/img_01063.jpg', 'ALB/img_03482.jpg', 'ALB/img_05480.jpg', 'ALB/img_02197.jpg', 'ALB/img_02859.jpg', 'ALB/img_01823.jpg', 'ALB/img_07442.jpg', 'ALB/img_02025.jpg', 'ALB/img_07113.jpg', 'ALB/img_02537.jpg', 'ALB/img_06377.jpg', 'ALB/img_05153.jpg', 'ALB/img_06991.jpg', 'ALB/img_06263.jpg', 'ALB/img_01574.jpg', 'ALB/img_02901.jpg', 'ALB/img_04524.jpg', 'ALB/img_06664.jpg', 'ALB/img_01738.jpg', 'ALB/img_04187.jpg', 'ALB/img_07035.jpg', 'ALB/img_07374.jpg', 'ALB/img_00097.jpg', 'ALB/img_04100.jpg', 'ALB/img_00425.jpg', 'ALB/img_02549.jpg', 'ALB/img_04976.jpg', 'ALB/img_01509.jpg', 'ALB/img_05350.jpg', 'ALB/img_07452.jpg', 'ALB/img_04728.jpg', 'ALB/img_07879.jpg', 'ALB/img_02453.jpg', 'ALB/img_07491.jpg', 'ALB/img_01990.jpg', 'ALB/img_00239.jpg', 'ALB/img_02931.jpg', 'ALB/img_06566.jpg', 'ALB/img_01883.jpg', 'ALB/img_02058.jpg', 'ALB/img_01304.jpg', 'ALB/img_03661.jpg', 'ALB/img_02151.jpg', 'ALB/img_05778.jpg', 'ALB/img_05342.jpg', 'ALB/img_07033.jpg', 'ALB/img_00967.jpg', 'ALB/img_03965.jpg', 'ALB/img_00163.jpg', 'ALB/img_06796.jpg', 'ALB/img_02604.jpg', 'ALB/img_01830.jpg', 'ALB/img_07710.jpg', 'ALB/img_01186.jpg', 'ALB/img_02481.jpg', 'ALB/img_06884.jpg', 'ALB/img_05214.jpg', 'ALB/img_05491.jpg', 'ALB/img_01278.jpg', 'ALB/img_03860.jpg', 'ALB/img_02254.jpg', 'ALB/img_02036.jpg', 'ALB/img_05801.jpg', 'ALB/img_00421.jpg', 'ALB/img_01409.jpg', 'ALB/img_04093.jpg', 'ALB/img_01206.jpg', 'ALB/img_03758.jpg', 'ALB/img_07662.jpg', 'ALB/img_04248.jpg', 'ALB/img_01822.jpg', 'ALB/img_01079.jpg', 'ALB/img_01554.jpg', 'ALB/img_04500.jpg', 'ALB/img_01128.jpg', 'ALB/img_04140.jpg', 'ALB/img_01374.jpg', 'ALB/img_06307.jpg', 'ALB/img_07271.jpg', 'ALB/img_03927.jpg', 'ALB/img_05309.jpg', 'ALB/img_06313.jpg', 'ALB/img_05851.jpg', 'ALB/img_05554.jpg', 'ALB/img_07037.jpg', 'ALB/img_03307.jpg', 'ALB/img_05313.jpg', 'ALB/img_02456.jpg', 'ALB/img_04939.jpg', 'ALB/img_02477.jpg', 'ALB/img_03600.jpg', 'ALB/img_07447.jpg', 'ALB/img_00994.jpg', 'ALB/img_02205.jpg', 'ALB/img_03634.jpg', 'ALB/img_01247.jpg', 'ALB/img_01683.jpg', 'ALB/img_00829.jpg', 'ALB/img_05494.jpg', 'ALB/img_01878.jpg', 'ALB/img_07358.jpg', 'ALB/img_06647.jpg', 'ALB/img_04340.jpg', 'ALB/img_05040.jpg', 'ALB/img_05902.jpg', 'ALB/img_06694.jpg', 'ALB/img_03737.jpg', 'ALB/img_05135.jpg', 'ALB/img_03360.jpg', 'ALB/img_07178.jpg', 'ALB/img_05136.jpg', 'ALB/img_06338.jpg', 'ALB/img_05397.jpg', 'ALB/img_05859.jpg', 'ALB/img_05031.jpg', 'ALB/img_01070.jpg', 'ALB/img_04412.jpg', 'ALB/img_04981.jpg', 'ALB/img_06963.jpg', 'ALB/img_01599.jpg', 'ALB/img_05408.jpg', 'ALB/img_04714.jpg', 'ALB/img_05053.jpg', 'ALB/img_05845.jpg', 'ALB/img_05043.jpg', 'ALB/img_05808.jpg', 'ALB/img_03356.jpg', 'ALB/img_05100.jpg', 'ALB/img_00029.jpg', 'ALB/img_06979.jpg', 'ALB/img_01319.jpg', 'ALB/img_05648.jpg', 'ALB/img_06923.jpg', 'ALB/img_03286.jpg', 'ALB/img_02880.jpg', 'ALB/img_01246.jpg', 'ALB/img_07307.jpg', 'ALB/img_06823.jpg', 'ALB/img_05553.jpg', 'ALB/img_02584.jpg', 'ALB/img_01636.jpg', 'ALB/img_01921.jpg', 'ALB/img_05270.jpg', 'ALB/img_04968.jpg', 'ALB/img_03125.jpg', 'ALB/img_04980.jpg', 'ALB/img_03680.jpg', 'ALB/img_03990.jpg', 'ALB/img_03021.jpg', 'ALB/img_00055.jpg', 'ALB/img_07207.jpg', 'ALB/img_03687.jpg', 'ALB/img_01109.jpg', 'ALB/img_05225.jpg', 'ALB/img_00219.jpg', 'ALB/img_02774.jpg', 'ALB/img_02925.jpg', 'ALB/img_01268.jpg', 'ALB/img_06360.jpg', 'ALB/img_04059.jpg', 'ALB/img_00863.jpg', 'ALB/img_05938.jpg', 'ALB/img_06252.jpg', 'ALB/img_07732.jpg', 'ALB/img_07018.jpg', 'ALB/img_04836.jpg', 'ALB/img_07890.jpg', 'ALB/img_04154.jpg', 'ALB/img_03145.jpg', 'ALB/img_03281.jpg', 'ALB/img_04011.jpg', 'ALB/img_00248.jpg', 'ALB/img_01205.jpg', 'ALB/img_02120.jpg', 'ALB/img_05550.jpg', 'ALB/img_06562.jpg', 'ALB/img_07167.jpg', 'ALB/img_05000.jpg', 'ALB/img_03005.jpg', 'ALB/img_06383.jpg', 'ALB/img_02492.jpg', 'ALB/img_06918.jpg', 'ALB/img_01417.jpg', 'ALB/img_02388.jpg', 'ALB/img_01025.jpg', 'ALB/img_04362.jpg', 'ALB/img_03373.jpg', 'ALB/img_05605.jpg', 'ALB/img_05227.jpg', 'ALB/img_00187.jpg', 'ALB/img_02118.jpg', 'ALB/img_07380.jpg', 'ALB/img_07162.jpg', 'ALB/img_03406.jpg', 'ALB/img_07232.jpg', 'ALB/img_01663.jpg', 'ALB/img_00290.jpg', 'ALB/img_01093.jpg', 'ALB/img_06652.jpg', 'ALB/img_00555.jpg', 'ALB/img_07773.jpg', 'ALB/img_02807.jpg', 'ALB/img_00638.jpg', 'ALB/img_04086.jpg', 'ALB/img_00281.jpg', 'ALB/img_00546.jpg', 'ALB/img_01300.jpg', 'ALB/img_05583.jpg', 'ALB/img_02950.jpg', 'ALB/img_00987.jpg', 'ALB/img_00617.jpg', 'ALB/img_02519.jpg', 'ALB/img_07397.jpg', 'ALB/img_00956.jpg', 'ALB/img_07671.jpg', 'ALB/img_00793.jpg', 'ALB/img_03039.jpg', 'ALB/img_04309.jpg', 'ALB/img_04583.jpg', 'ALB/img_04630.jpg', 'ALB/img_06587.jpg', 'ALB/img_01941.jpg', 'ALB/img_00121.jpg', 'ALB/img_04915.jpg', 'ALB/img_03746.jpg', 'ALB/img_07811.jpg', 'ALB/img_07647.jpg', 'ALB/img_03401.jpg', 'ALB/img_01735.jpg', 'ALB/img_05481.jpg', 'ALB/img_00156.jpg', 'ALB/img_04206.jpg', 'ALB/img_01139.jpg', 'ALB/img_01478.jpg', 'ALB/img_02184.jpg', 'ALB/img_02578.jpg', 'ALB/img_03579.jpg', 'ALB/img_02386.jpg', 'ALB/img_04823.jpg', 'ALB/img_07540.jpg', 'ALB/img_06709.jpg', 'ALB/img_05990.jpg', 'ALB/img_05562.jpg', 'ALB/img_03369.jpg', 'ALB/img_02063.jpg', 'ALB/img_02404.jpg', 'ALB/img_02645.jpg', 'ALB/img_06546.jpg', 'ALB/img_07349.jpg', 'ALB/img_06062.jpg', 'ALB/img_01954.jpg', 'ALB/img_05312.jpg', 'ALB/img_03666.jpg', 'ALB/img_01693.jpg', 'ALB/img_03216.jpg', 'ALB/img_04112.jpg', 'ALB/img_00634.jpg', 'ALB/img_05511.jpg', 'ALB/img_03738.jpg', 'ALB/img_05106.jpg', 'ALB/img_06976.jpg', 'ALB/img_04987.jpg', 'ALB/img_00038.jpg', 'ALB/img_06648.jpg', 'ALB/img_04350.jpg', 'ALB/img_05382.jpg', 'ALB/img_01485.jpg', 'ALB/img_07614.jpg', 'ALB/img_01733.jpg', 'ALB/img_02513.jpg', 'ALB/img_02825.jpg', 'ALB/img_02698.jpg', 'ALB/img_03350.jpg', 'ALB/img_07335.jpg', 'ALB/img_07437.jpg', 'ALB/img_02658.jpg', 'ALB/img_02635.jpg', 'ALB/img_00607.jpg', 'ALB/img_01330.jpg', 'ALB/img_05604.jpg', 'ALB/img_03226.jpg', 'ALB/img_01006.jpg', 'ALB/img_07150.jpg', 'ALB/img_01855.jpg', 'ALB/img_02034.jpg', 'ALB/img_07272.jpg', 'ALB/img_00762.jpg', 'ALB/img_03264.jpg', 'ALB/img_06727.jpg', 'ALB/img_04755.jpg', 'ALB/img_03384.jpg', 'ALB/img_00660.jpg', 'ALB/img_03785.jpg', 'ALB/img_00177.jpg', 'ALB/img_02686.jpg', 'ALB/img_05132.jpg', 'ALB/img_05862.jpg', 'ALB/img_07566.jpg', 'ALB/img_07200.jpg', 'ALB/img_03061.jpg', 'ALB/img_00401.jpg', 'ALB/img_07858.jpg', 'ALB/img_00193.jpg', 'ALB/img_07768.jpg', 'ALB/img_03538.jpg', 'ALB/img_05804.jpg', 'ALB/img_03345.jpg', 'ALB/img_04848.jpg', 'ALB/img_06060.jpg', 'ALB/img_04609.jpg', 'ALB/img_01207.jpg', 'ALB/img_03532.jpg', 'ALB/img_05303.jpg', 'ALB/img_01464.jpg', 'ALB/img_06372.jpg', 'ALB/img_03793.jpg', 'ALB/img_07445.jpg', 'ALB/img_05745.jpg', 'ALB/img_03780.jpg', 'ALB/img_00881.jpg', 'ALB/img_03845.jpg', 'ALB/img_04301.jpg', 'ALB/img_01191.jpg', 'ALB/img_06176.jpg', 'ALB/img_03213.jpg', 'ALB/img_00356.jpg', 'ALB/img_03645.jpg', 'ALB/img_07048.jpg', 'ALB/img_07300.jpg', 'ALB/img_07439.jpg', 'ALB/img_04220.jpg', 'ALB/img_06882.jpg', 'ALB/img_03387.jpg', 'ALB/img_02448.jpg', 'ALB/img_04441.jpg', 'ALB/img_04147.jpg', 'ALB/img_05281.jpg', 'ALB/img_03151.jpg', 'ALB/img_01117.jpg', 'ALB/img_06774.jpg', 'ALB/img_05886.jpg', 'ALB/img_06437.jpg', 'ALB/img_00270.jpg', 'ALB/img_06435.jpg', 'ALB/img_00626.jpg', 'ALB/img_05518.jpg', 'ALB/img_00756.jpg', 'ALB/img_01741.jpg', 'ALB/img_04660.jpg', 'ALB/img_07576.jpg', 'ALB/img_02576.jpg', 'ALB/img_03686.jpg', 'ALB/img_02436.jpg', 'ALB/img_03642.jpg', 'ALB/img_07432.jpg', 'ALB/img_04054.jpg', 'ALB/img_02495.jpg', 'ALB/img_07000.jpg', 'ALB/img_02915.jpg', 'ALB/img_04504.jpg', 'ALB/img_05353.jpg', 'ALB/img_07306.jpg', 'ALB/img_01390.jpg', 'ALB/img_07740.jpg', 'ALB/img_06421.jpg', 'ALB/img_00880.jpg', 'ALB/img_05889.jpg', 'ALB/img_07257.jpg', 'ALB/img_03479.jpg', 'ALB/img_07915.jpg', 'ALB/img_03578.jpg', 'ALB/img_05677.jpg', 'ALB/img_04951.jpg', 'ALB/img_05710.jpg', 'ALB/img_04153.jpg', 'ALB/img_06185.jpg', 'ALB/img_02253.jpg', 'ALB/img_00274.jpg', 'ALB/img_01095.jpg', 'ALB/img_01011.jpg', 'ALB/img_00191.jpg', 'ALB/img_07903.jpg', 'ALB/img_00264.jpg', 'ALB/img_04893.jpg', 'ALB/img_03047.jpg', 'ALB/img_01072.jpg', 'ALB/img_06293.jpg', 'ALB/img_02978.jpg', 'ALB/img_07772.jpg', 'ALB/img_00045.jpg', 'ALB/img_00381.jpg', 'ALB/img_05089.jpg', 'ALB/img_07874.jpg', 'ALB/img_03693.jpg', 'ALB/img_06554.jpg', 'ALB/img_03593.jpg', 'ALB/img_06695.jpg', 'ALB/img_00687.jpg', 'ALB/img_02178.jpg', 'ALB/img_05390.jpg', 'ALB/img_01914.jpg', 'ALB/img_05559.jpg', 'ALB/img_05237.jpg', 'ALB/img_04659.jpg', 'ALB/img_07488.jpg', 'ALB/img_00911.jpg', 'ALB/img_05145.jpg', 'ALB/img_04490.jpg', 'ALB/img_02203.jpg', 'ALB/img_01489.jpg', 'ALB/img_01778.jpg', 'ALB/img_00507.jpg', 'ALB/img_00870.jpg', 'ALB/img_07869.jpg', 'ALB/img_04778.jpg', 'ALB/img_01021.jpg', 'ALB/img_03603.jpg', 'ALB/img_07755.jpg', 'ALB/img_01540.jpg', 'ALB/img_03038.jpg', 'ALB/img_05618.jpg', 'ALB/img_07096.jpg', 'ALB/img_06445.jpg', 'ALB/img_04808.jpg', 'ALB/img_04780.jpg', 'ALB/img_07210.jpg', 'ALB/img_03699.jpg', 'ALB/img_03991.jpg', 'ALB/img_05832.jpg', 'ALB/img_01558.jpg', 'ALB/img_07384.jpg', 'ALB/img_01074.jpg', 'ALB/img_00742.jpg', 'ALB/img_00327.jpg', 'ALB/img_01243.jpg', 'ALB/img_03656.jpg', 'ALB/img_00744.jpg', 'ALB/img_02729.jpg', 'ALB/img_06450.jpg', 'ALB/img_00605.jpg', 'ALB/img_06194.jpg', 'ALB/img_06653.jpg', 'ALB/img_05163.jpg', 'ALB/img_07081.jpg', 'ALB/img_06797.jpg', 'ALB/img_06503.jpg', 'ALB/img_05637.jpg', 'ALB/img_06873.jpg', 'ALB/img_01125.jpg', 'ALB/img_01911.jpg', 'ALB/img_06086.jpg', 'ALB/img_07730.jpg', 'ALB/img_04121.jpg', 'ALB/img_02171.jpg', 'ALB/img_02192.jpg', 'ALB/img_00970.jpg', 'ALB/img_02664.jpg', 'ALB/img_07877.jpg', 'ALB/img_05681.jpg', 'ALB/img_04899.jpg', 'ALB/img_03090.jpg', 'ALB/img_02324.jpg', 'ALB/img_06376.jpg', 'ALB/img_01833.jpg', 'ALB/img_03512.jpg', 'ALB/img_05556.jpg', 'ALB/img_01282.jpg', 'ALB/img_07471.jpg', 'ALB/img_03164.jpg', 'ALB/img_02948.jpg', 'ALB/img_04326.jpg', 'ALB/img_05158.jpg', 'ALB/img_01884.jpg', 'ALB/img_03800.jpg', 'ALB/img_06570.jpg', 'ALB/img_04954.jpg', 'ALB/img_02296.jpg', 'ALB/img_05759.jpg', 'ALB/img_02352.jpg', 'ALB/img_01556.jpg', 'ALB/img_02399.jpg', 'ALB/img_06462.jpg', 'ALB/img_07240.jpg', 'ALB/img_03123.jpg', 'ALB/img_05243.jpg', 'ALB/img_07454.jpg', 'ALB/img_01902.jpg', 'ALB/img_01271.jpg', 'ALB/img_00561.jpg', 'ALB/img_01699.jpg', 'ALB/img_01680.jpg', 'ALB/img_02052.jpg', 'ALB/img_06157.jpg', 'ALB/img_03673.jpg', 'ALB/img_05758.jpg', 'ALB/img_02452.jpg', 'ALB/img_06039.jpg', 'ALB/img_06420.jpg', 'ALB/img_01514.jpg', 'ALB/img_06123.jpg', 'ALB/img_03747.jpg', 'ALB/img_02340.jpg', 'ALB/img_03427.jpg', 'ALB/img_06619.jpg', 'ALB/img_07223.jpg', 'ALB/img_04994.jpg', 'ALB/img_05206.jpg', 'ALB/img_07041.jpg', 'ALB/img_00361.jpg', 'ALB/img_01083.jpg', 'ALB/img_01056.jpg', 'ALB/img_05154.jpg', 'ALB/img_07705.jpg', 'ALB/img_06527.jpg', 'ALB/img_02913.jpg', 'ALB/img_00788.jpg', 'ALB/img_03277.jpg', 'ALB/img_05107.jpg', 'ALB/img_03112.jpg', 'ALB/img_00706.jpg', 'ALB/img_07090.jpg', 'ALB/img_03694.jpg', 'ALB/img_02471.jpg', 'ALB/img_03544.jpg', 'ALB/img_06184.jpg', 'ALB/img_07435.jpg', 'ALB/img_04243.jpg', 'ALB/img_00596.jpg', 'ALB/img_04098.jpg', 'ALB/img_03147.jpg', 'ALB/img_01316.jpg', 'ALB/img_01865.jpg', 'ALB/img_02725.jpg', 'ALB/img_04431.jpg', 'ALB/img_07296.jpg', 'ALB/img_07021.jpg', 'ALB/img_04174.jpg', 'ALB/img_05734.jpg', 'ALB/img_06852.jpg', 'ALB/img_02737.jpg', 'ALB/img_07797.jpg', 'ALB/img_04025.jpg', 'ALB/img_05086.jpg', 'ALB/img_00722.jpg', 'ALB/img_07878.jpg', 'ALB/img_04040.jpg', 'ALB/img_01416.jpg', 'ALB/img_04997.jpg', 'ALB/img_06175.jpg', 'ALB/img_04567.jpg', 'ALB/img_07686.jpg', 'ALB/img_00015.jpg', 'ALB/img_07406.jpg', 'ALB/img_05868.jpg', 'ALB/img_04354.jpg', 'ALB/img_02035.jpg', 'ALB/img_00595.jpg', 'ALB/img_03559.jpg', 'ALB/img_07871.jpg', 'ALB/img_01458.jpg', 'ALB/img_05821.jpg', 'ALB/img_03880.jpg', 'ALB/img_07046.jpg', 'ALB/img_00201.jpg', 'ALB/img_00712.jpg', 'ALB/img_04056.jpg', 'ALB/img_07398.jpg', 'ALB/img_07681.jpg', 'ALB/img_01265.jpg', 'ALB/img_00342.jpg', 'ALB/img_00809.jpg', 'ALB/img_01975.jpg', 'ALB/img_01033.jpg', 'ALB/img_06134.jpg', 'ALB/img_03549.jpg', 'ALB/img_04480.jpg', 'ALB/img_00300.jpg', 'ALB/img_00523.jpg', 'ALB/img_00228.jpg', 'ALB/img_03855.jpg', 'ALB/img_05884.jpg', 'ALB/img_01753.jpg', 'ALB/img_00895.jpg', 'ALB/img_06853.jpg', 'ALB/img_05121.jpg', 'ALB/img_04070.jpg', 'ALB/img_02134.jpg', 'ALB/img_01638.jpg', 'ALB/img_00747.jpg', 'ALB/img_01529.jpg', 'ALB/img_04379.jpg', 'ALB/img_01336.jpg', 'ALB/img_01291.jpg', 'ALB/img_03108.jpg', 'ALB/img_07727.jpg', 'ALB/img_03709.jpg', 'ALB/img_06018.jpg', 'ALB/img_03662.jpg', 'ALB/img_00940.jpg', 'ALB/img_07851.jpg', 'ALB/img_01225.jpg', 'ALB/img_06760.jpg', 'ALB/img_05022.jpg', 'ALB/img_07657.jpg', 'ALB/img_03016.jpg', 'ALB/img_03159.jpg', 'ALB/img_00385.jpg', 'ALB/img_04043.jpg', 'ALB/img_02768.jpg', 'ALB/img_03031.jpg', 'ALB/img_07449.jpg', 'ALB/img_00396.jpg', 'ALB/img_02112.jpg', 'ALB/img_00338.jpg', 'ALB/img_07412.jpg', 'ALB/img_02501.jpg', 'ALB/img_03161.jpg', 'ALB/img_05560.jpg', 'ALB/img_06868.jpg', 'ALB/img_02396.jpg', 'ALB/img_02885.jpg', 'ALB/img_01805.jpg', 'ALB/img_06069.jpg', 'ALB/img_04963.jpg', 'ALB/img_02868.jpg', 'ALB/img_02359.jpg', 'ALB/img_06999.jpg', 'ALB/img_01826.jpg', 'ALB/img_05103.jpg', 'ALB/img_07159.jpg', 'ALB/img_07163.jpg', 'ALB/img_07328.jpg', 'ALB/img_04436.jpg', 'ALB/img_07801.jpg', 'ALB/img_02437.jpg', 'ALB/img_06545.jpg', 'ALB/img_06865.jpg', 'ALB/img_03335.jpg', 'ALB/img_04877.jpg', 'ALB/img_02273.jpg', 'ALB/img_01121.jpg', 'ALB/img_02163.jpg', 'ALB/img_01506.jpg', 'ALB/img_06479.jpg', 'ALB/img_05852.jpg', 'ALB/img_06907.jpg', 'ALB/img_00509.jpg', 'ALB/img_03636.jpg', 'ALB/img_07537.jpg', 'ALB/img_06143.jpg', 'ALB/img_04078.jpg', 'ALB/img_02494.jpg', 'ALB/img_00823.jpg', 'ALB/img_00010.jpg', 'ALB/img_07450.jpg', 'ALB/img_02762.jpg', 'ALB/img_07850.jpg', 'ALB/img_05465.jpg', 'ALB/img_02382.jpg', 'ALB/img_01992.jpg', 'ALB/img_04477.jpg', 'ALB/img_07492.jpg', 'ALB/img_06215.jpg', 'ALB/img_01276.jpg', 'ALB/img_01111.jpg', 'ALB/img_06804.jpg', 'ALB/img_07366.jpg', 'ALB/img_02109.jpg', 'ALB/img_07014.jpg', 'ALB/img_03397.jpg', 'ALB/img_05131.jpg', 'ALB/img_03586.jpg', 'ALB/img_06367.jpg', 'ALB/img_07684.jpg', 'ALB/img_04055.jpg', 'ALB/img_05358.jpg', 'ALB/img_01797.jpg', 'ALB/img_07105.jpg', 'ALB/img_01934.jpg', 'ALB/img_02008.jpg', 'ALB/img_06833.jpg', 'ALB/img_04578.jpg', 'ALB/img_07228.jpg', 'ALB/img_06158.jpg', 'ALB/img_05812.jpg', 'ALB/img_03050.jpg', 'ALB/img_03606.jpg', 'ALB/img_06043.jpg', 'ALB/img_02609.jpg', 'ALB/img_02484.jpg', 'ALB/img_07222.jpg', 'ALB/img_03179.jpg', 'ALB/img_00579.jpg', 'ALB/img_07030.jpg', 'ALB/img_07885.jpg', 'ALB/img_03381.jpg', 'ALB/img_06422.jpg', 'ALB/img_02630.jpg', 'ALB/img_00715.jpg', 'ALB/img_03176.jpg', 'ALB/img_03748.jpg', 'ALB/img_06104.jpg', 'ALB/img_03323.jpg', 'ALB/img_00834.jpg', 'ALB/img_05600.jpg', 'ALB/img_06142.jpg', 'ALB/img_04798.jpg', 'ALB/img_03391.jpg', 'ALB/img_04875.jpg', 'ALB/img_05570.jpg', 'ALB/img_02784.jpg', 'ALB/img_04347.jpg', 'ALB/img_06929.jpg', 'ALB/img_06344.jpg', 'ALB/img_07892.jpg', 'ALB/img_06126.jpg', 'ALB/img_01728.jpg', 'ALB/img_05159.jpg', 'ALB/img_07810.jpg', 'ALB/img_06866.jpg', 'ALB/img_02414.jpg', 'ALB/img_00993.jpg', 'ALB/img_07604.jpg', 'ALB/img_03119.jpg', 'ALB/img_03153.jpg', 'ALB/img_01141.jpg', 'ALB/img_06089.jpg', 'ALB/img_03535.jpg', 'ALB/img_00558.jpg', 'ALB/img_07071.jpg', 'ALB/img_01240.jpg', 'ALB/img_05533.jpg', 'ALB/img_04561.jpg', 'ALB/img_01958.jpg', 'ALB/img_07802.jpg', 'ALB/img_05363.jpg', 'ALB/img_07619.jpg', 'ALB/img_03620.jpg', 'ALB/img_06948.jpg', 'ALB/img_07423.jpg', 'ALB/img_05020.jpg', 'ALB/img_00719.jpg', 'ALB/img_05725.jpg', 'ALB/img_03904.jpg', 'ALB/img_03700.jpg', 'ALB/img_07617.jpg', 'ALB/img_07377.jpg', 'ALB/img_07559.jpg', 'ALB/img_05597.jpg', 'ALB/img_02376.jpg', 'ALB/img_00134.jpg', 'ALB/img_05373.jpg', 'ALB/img_00353.jpg', 'ALB/img_01654.jpg', 'ALB/img_03141.jpg', 'ALB/img_03314.jpg', 'ALB/img_04552.jpg', 'ALB/img_00301.jpg', 'ALB/img_01763.jpg', 'ALB/img_05849.jpg', 'ALB/img_05815.jpg', 'ALB/img_04579.jpg', 'ALB/img_04008.jpg', 'ALB/img_03644.jpg', 'ALB/img_01354.jpg', 'ALB/img_03775.jpg', 'ALB/img_06058.jpg', 'ALB/img_04308.jpg', 'ALB/img_00866.jpg', 'ALB/img_03984.jpg', 'ALB/img_07520.jpg', 'ALB/img_03451.jpg', 'ALB/img_04774.jpg', 'ALB/img_07168.jpg', 'ALB/img_06670.jpg', 'ALB/img_06443.jpg', 'ALB/img_07554.jpg', 'ALB/img_00197.jpg', 'ALB/img_03736.jpg', 'ALB/img_06629.jpg', 'ALB/img_03115.jpg', 'ALB/img_00790.jpg', 'ALB/img_02816.jpg', 'ALB/img_06518.jpg', 'ALB/img_05846.jpg', 'ALB/img_07904.jpg', 'ALB/img_00085.jpg', 'ALB/img_00337.jpg', 'ALB/img_03304.jpg', 'ALB/img_06078.jpg', 'ALB/img_07862.jpg', 'ALB/img_03635.jpg', 'ALB/img_04692.jpg', 'ALB/img_05523.jpg', 'ALB/img_02862.jpg', 'ALB/img_00269.jpg', 'ALB/img_02779.jpg', 'ALB/img_07741.jpg', 'ALB/img_04290.jpg', 'ALB/img_00679.jpg', 'ALB/img_01152.jpg', 'ALB/img_05032.jpg', 'ALB/img_03730.jpg', 'ALB/img_02373.jpg', 'ALB/img_01446.jpg', 'ALB/img_05396.jpg', 'ALB/img_03944.jpg', 'ALB/img_07664.jpg', 'ALB/img_03499.jpg', 'ALB/img_01948.jpg', 'ALB/img_04075.jpg', 'ALB/img_03623.jpg', 'ALB/img_00275.jpg', 'ALB/img_07078.jpg', 'ALB/img_00461.jpg', 'ALB/img_00041.jpg', 'ALB/img_04683.jpg', 'ALB/img_01846.jpg', 'ALB/img_00043.jpg', 'ALB/img_02002.jpg', 'ALB/img_03501.jpg', 'ALB/img_02425.jpg', 'ALB/img_02292.jpg', 'ALB/img_01306.jpg', 'ALB/img_02410.jpg', 'ALB/img_07669.jpg', 'ALB/img_01082.jpg', 'ALB/img_03208.jpg', 'ALB/img_03382.jpg', 'ALB/img_06915.jpg', 'ALB/img_00466.jpg', 'ALB/img_02148.jpg', 'ALB/img_07134.jpg', 'ALB/img_07670.jpg', 'ALB/img_01604.jpg', 'ALB/img_03414.jpg', 'ALB/img_03376.jpg', 'ALB/img_05077.jpg', 'ALB/img_00447.jpg', 'ALB/img_01028.jpg', 'ALB/img_01367.jpg', 'ALB/img_05204.jpg', 'ALB/img_02208.jpg', 'ALB/img_07672.jpg', 'ALB/img_02039.jpg', 'ALB/img_00215.jpg', 'ALB/img_06560.jpg', 'ALB/img_07636.jpg', 'ALB/img_07280.jpg', 'ALB/img_00562.jpg', 'ALB/img_01038.jpg', 'ALB/img_07098.jpg', 'ALB/img_06722.jpg', 'ALB/img_06405.jpg', 'ALB/img_01014.jpg', 'ALB/img_07766.jpg', 'ALB/img_07170.jpg', 'ALB/img_07917.jpg', 'ALB/img_01734.jpg', 'ALB/img_05419.jpg', 'ALB/img_00727.jpg', 'ALB/img_07040.jpg', 'ALB/img_02342.jpg', 'ALB/img_07396.jpg', 'ALB/img_04259.jpg', 'ALB/img_06061.jpg', 'ALB/img_06231.jpg', 'ALB/img_01645.jpg', 'ALB/img_01800.jpg', 'ALB/img_07172.jpg', 'ALB/img_07749.jpg', 'ALB/img_00090.jpg', 'ALB/img_05179.jpg', 'ALB/img_04635.jpg', 'ALB/img_00897.jpg', 'ALB/img_03040.jpg', 'ALB/img_00901.jpg', 'ALB/img_02610.jpg', 'ALB/img_01686.jpg', 'ALB/img_04229.jpg', 'ALB/img_06064.jpg', 'ALB/img_00810.jpg', 'ALB/img_03932.jpg', 'ALB/img_05443.jpg', 'ALB/img_02724.jpg', 'ALB/img_05970.jpg', 'ALB/img_03202.jpg', 'ALB/img_05973.jpg', 'ALB/img_05962.jpg', 'ALB/img_02542.jpg', 'ALB/img_04164.jpg', 'ALB/img_06932.jpg', 'ALB/img_00824.jpg', 'ALB/img_06693.jpg', 'ALB/img_04904.jpg', 'ALB/img_00110.jpg', 'ALB/img_05318.jpg', 'ALB/img_07836.jpg', 'ALB/img_00188.jpg', 'ALB/img_07883.jpg', 'ALB/img_02068.jpg', 'ALB/img_03729.jpg', 'ALB/img_00208.jpg', 'ALB/img_01045.jpg', 'ALB/img_02418.jpg', 'ALB/img_05235.jpg', 'ALB/img_01238.jpg', 'ALB/img_05049.jpg', 'ALB/img_06627.jpg', 'ALB/img_03858.jpg', 'ALB/img_03861.jpg', 'ALB/img_01810.jpg', 'ALB/img_01838.jpg', 'ALB/img_05472.jpg', 'ALB/img_04517.jpg', 'ALB/img_06970.jpg', 'ALB/img_03374.jpg', 'ALB/img_01772.jpg', 'ALB/img_02996.jpg', 'ALB/img_06125.jpg', 'ALB/img_01144.jpg', 'ALB/img_06187.jpg', 'ALB/img_05057.jpg', 'ALB/img_06347.jpg', 'ALB/img_00714.jpg', 'ALB/img_04874.jpg', 'ALB/img_07479.jpg', 'ALB/img_04349.jpg', 'ALB/img_01129.jpg', 'ALB/img_05924.jpg', 'ALB/img_06247.jpg', 'ALB/img_00957.jpg', 'ALB/img_04092.jpg', 'ALB/img_02586.jpg', 'ALB/img_00705.jpg', 'ALB/img_01029.jpg', 'ALB/img_03352.jpg', 'ALB/img_07698.jpg', 'ALB/img_06583.jpg', 'ALB/img_05384.jpg', 'ALB/img_00384.jpg', 'ALB/img_05275.jpg', 'ALB/img_07171.jpg', 'ALB/img_06190.jpg', 'ALB/img_05453.jpg', 'ALB/img_02170.jpg', 'ALB/img_03089.jpg', 'ALB/img_07694.jpg', 'ALB/img_04955.jpg', 'ALB/img_06282.jpg', 'ALB/img_04965.jpg', 'ALB/img_04471.jpg', 'ALB/img_06989.jpg', 'ALB/img_07242.jpg', 'ALB/img_03877.jpg', 'ALB/img_02488.jpg', 'ALB/img_04907.jpg', 'ALB/img_00074.jpg', 'ALB/img_04666.jpg', 'ALB/img_04016.jpg', 'ALB/img_05823.jpg', 'ALB/img_02555.jpg', 'ALB/img_03348.jpg', 'ALB/img_03188.jpg', 'ALB/img_07807.jpg', 'ALB/img_01875.jpg', 'ALB/img_05510.jpg', 'ALB/img_04528.jpg', 'ALB/img_04489.jpg', 'ALB/img_04950.jpg', 'ALB/img_04342.jpg', 'ALB/img_00341.jpg', 'ALB/img_03363.jpg', 'ALB/img_03311.jpg', 'ALB/img_02362.jpg', 'ALB/img_06461.jpg', 'ALB/img_02393.jpg', 'ALB/img_02133.jpg', 'ALB/img_01001.jpg', 'ALB/img_00710.jpg', 'ALB/img_00317.jpg', 'ALB/img_00526.jpg', 'ALB/img_02883.jpg', 'ALB/img_03491.jpg', 'ALB/img_04205.jpg', 'ALB/img_03357.jpg', 'ALB/img_01402.jpg', 'ALB/img_01000.jpg', 'ALB/img_02408.jpg', 'ALB/img_00713.jpg', 'ALB/img_07262.jpg', 'ALB/img_07133.jpg', 'ALB/img_07459.jpg', 'ALB/img_07145.jpg', 'ALB/img_00701.jpg', 'ALB/img_07285.jpg', 'ALB/img_01482.jpg', 'ALB/img_03902.jpg', 'ALB/img_02938.jpg', 'ALB/img_04345.jpg', 'ALB/img_05213.jpg', 'ALB/img_03300.jpg', 'ALB/img_02777.jpg', 'ALB/img_02229.jpg', 'ALB/img_07214.jpg', 'ALB/img_06726.jpg', 'ALB/img_05663.jpg', 'ALB/img_00996.jpg', 'ALB/img_03458.jpg', 'ALB/img_01788.jpg', 'ALB/img_02392.jpg', 'ALB/img_01542.jpg', 'ALB/img_03262.jpg', 'ALB/img_04026.jpg', 'ALB/img_03233.jpg', 'ALB/img_06022.jpg', 'ALB/img_00684.jpg', 'ALB/img_01480.jpg', 'ALB/img_04361.jpg', 'ALB/img_00136.jpg', 'ALB/img_01314.jpg', 'ALB/img_05501.jpg', 'ALB/img_02090.jpg', 'ALB/img_02446.jpg', 'ALB/img_07404.jpg', 'ALB/img_06229.jpg', 'ALB/img_06135.jpg', 'ALB/img_06864.jpg', 'ALB/img_07298.jpg', 'ALB/img_02046.jpg', 'ALB/img_04612.jpg', 'ALB/img_04572.jpg', 'ALB/img_07057.jpg', 'ALB/img_03224.jpg', 'ALB/img_03263.jpg', 'ALB/img_02182.jpg', 'ALB/img_04368.jpg', 'ALB/img_04005.jpg', 'ALB/img_00745.jpg', 'ALB/img_05588.jpg', 'ALB/img_00211.jpg', 'ALB/img_05343.jpg', 'ALB/img_05713.jpg', 'ALB/img_01127.jpg', 'ALB/img_04633.jpg', 'ALB/img_00502.jpg', 'ALB/img_01620.jpg', 'ALB/img_05482.jpg', 'ALB/img_06622.jpg', 'ALB/img_00344.jpg', 'ALB/img_05083.jpg', 'ALB/img_04378.jpg', 'ALB/img_00843.jpg', 'ALB/img_00878.jpg', 'ALB/img_05332.jpg', 'ALB/img_01046.jpg', 'ALB/img_01682.jpg', 'ALB/img_06995.jpg', 'ALB/img_07127.jpg', 'ALB/img_07204.jpg', 'ALB/img_01009.jpg', 'ALB/img_01917.jpg', 'ALB/img_02338.jpg', 'ALB/img_01931.jpg', 'ALB/img_06987.jpg', 'ALB/img_03154.jpg', 'ALB/img_06960.jpg', 'ALB/img_07174.jpg', 'ALB/img_07587.jpg', 'ALB/img_01520.jpg', 'ALB/img_03209.jpg', 'ALB/img_07291.jpg', 'ALB/img_06340.jpg', 'ALB/img_02480.jpg', 'ALB/img_04598.jpg', 'ALB/img_04163.jpg', 'ALB/img_03842.jpg', 'ALB/img_07739.jpg', 'ALB/img_06594.jpg', 'ALB/img_05674.jpg', 'ALB/img_06561.jpg', 'ALB/img_05576.jpg', 'ALB/img_02765.jpg', 'ALB/img_02514.jpg', 'ALB/img_05878.jpg', 'ALB/img_00594.jpg', 'ALB/img_00496.jpg', 'ALB/img_01112.jpg', 'ALB/img_01197.jpg', 'ALB/img_01890.jpg', 'ALB/img_01655.jpg', 'ALB/img_04466.jpg', 'ALB/img_03341.jpg', 'ALB/img_01433.jpg', 'ALB/img_05980.jpg', 'ALB/img_05226.jpg', 'ALB/img_02591.jpg', 'ALB/img_01896.jpg', 'ALB/img_03713.jpg', 'ALB/img_02794.jpg', 'ALB/img_01445.jpg', 'ALB/img_02820.jpg', 'ALB/img_01768.jpg', 'ALB/img_06497.jpg', 'ALB/img_02643.jpg', 'ALB/img_05442.jpg', 'ALB/img_07789.jpg', 'ALB/img_02572.jpg', 'ALB/img_06458.jpg', 'ALB/img_05512.jpg', 'ALB/img_01816.jpg', 'ALB/img_06961.jpg', 'ALB/img_07608.jpg', 'ALB/img_07316.jpg', 'ALB/img_00624.jpg', 'ALB/img_07381.jpg', 'ALB/img_00754.jpg', 'ALB/img_07639.jpg', 'ALB/img_07511.jpg', 'ALB/img_02185.jpg', 'ALB/img_00291.jpg', 'ALB/img_06721.jpg', 'ALB/img_07745.jpg', 'ALB/img_05247.jpg', 'ALB/img_03905.jpg', 'ALB/img_00998.jpg', 'ALB/img_07767.jpg', 'ALB/img_04307.jpg', 'ALB/img_03146.jpg', 'ALB/img_03698.jpg', 'ALB/img_04883.jpg', 'ALB/img_06931.jpg', 'ALB/img_06711.jpg', 'ALB/img_07241.jpg', 'ALB/img_07418.jpg', 'ALB/img_06879.jpg', 'ALB/img_06393.jpg', 'ALB/img_06568.jpg', 'ALB/img_03487.jpg', 'ALB/img_01897.jpg', 'ALB/img_07009.jpg', 'ALB/img_01066.jpg', 'ALB/img_05067.jpg', 'ALB/img_03411.jpg', 'ALB/img_02421.jpg', 'ALB/img_00130.jpg', 'ALB/img_01652.jpg', 'ALB/img_01869.jpg', 'ALB/img_06057.jpg', 'ALB/img_06834.jpg', 'ALB/img_03037.jpg', 'ALB/img_00278.jpg', 'ALB/img_03251.jpg', 'ALB/img_01362.jpg', 'ALB/img_06254.jpg', 'ALB/img_07868.jpg', 'ALB/img_02545.jpg', 'ALB/img_06781.jpg', 'ALB/img_02201.jpg', 'ALB/img_01361.jpg', 'ALB/img_03714.jpg', 'ALB/img_02623.jpg', 'ALB/img_00227.jpg', 'ALB/img_01105.jpg', 'ALB/img_01603.jpg', 'ALB/img_05296.jpg', 'ALB/img_00482.jpg', 'ALB/img_03682.jpg', 'ALB/img_01796.jpg', 'ALB/img_02069.jpg', 'ALB/img_04303.jpg', 'ALB/img_06160.jpg', 'ALB/img_07076.jpg', 'ALB/img_02671.jpg', 'ALB/img_03509.jpg', 'ALB/img_05201.jpg', 'BET/img_03347.jpg', 'BET/img_05986.jpg', 'BET/img_05797.jpg', 'BET/img_00531.jpg', 'BET/img_04048.jpg', 'BET/img_04891.jpg', 'BET/img_03371.jpg', 'BET/img_02206.jpg', 'BET/img_00435.jpg', 'BET/img_06772.jpg', 'BET/img_03647.jpg', 'BET/img_04327.jpg', 'BET/img_04033.jpg', 'BET/img_06867.jpg', 'BET/img_07015.jpg', 'BET/img_04028.jpg', 'BET/img_05194.jpg', 'BET/img_05561.jpg', 'BET/img_04022.jpg', 'BET/img_04557.jpg', 'BET/img_01218.jpg', 'BET/img_00441.jpg', 'BET/img_06384.jpg', 'BET/img_00537.jpg', 'BET/img_03918.jpg', 'BET/img_06827.jpg', 'BET/img_07518.jpg', 'BET/img_00231.jpg', 'BET/img_04989.jpg', 'BET/img_01002.jpg', 'BET/img_02840.jpg', 'BET/img_07440.jpg', 'BET/img_02016.jpg', 'BET/img_03759.jpg', 'BET/img_04931.jpg', 'BET/img_05431.jpg', 'BET/img_04463.jpg', 'BET/img_06575.jpg', 'BET/img_01477.jpg', 'BET/img_03846.jpg', 'BET/img_07545.jpg', 'BET/img_05874.jpg', 'BET/img_01668.jpg', 'BET/img_04938.jpg', 'BET/img_05252.jpg', 'BET/img_01118.jpg', 'BET/img_05841.jpg', 'BET/img_00630.jpg', 'BET/img_06777.jpg', 'BET/img_03723.jpg', 'BET/img_04039.jpg', 'BET/img_01299.jpg', 'BET/img_07007.jpg', 'BET/img_05728.jpg', 'BET/img_07164.jpg', 'BET/img_04972.jpg', 'BET/img_03287.jpg', 'BET/img_01264.jpg', 'BET/img_07410.jpg', 'BET/img_00542.jpg', 'BET/img_02757.jpg', 'BET/img_05858.jpg', 'BET/img_05240.jpg', 'BET/img_05402.jpg', 'BET/img_04853.jpg', 'BET/img_02967.jpg', 'BET/img_02358.jpg', 'BET/img_06453.jpg', 'BET/img_04568.jpg', 'BET/img_04815.jpg', 'BET/img_05346.jpg', 'BET/img_02696.jpg', 'BET/img_02196.jpg', 'BET/img_00583.jpg', 'BET/img_06532.jpg', 'BET/img_02007.jpg', 'BET/img_04289.jpg', 'BET/img_00329.jpg', 'BET/img_06623.jpg', 'BET/img_07581.jpg', 'BET/img_02115.jpg', 'BET/img_07321.jpg', 'BET/img_06287.jpg', 'BET/img_00888.jpg', 'BET/img_01166.jpg', 'BET/img_04672.jpg', 'BET/img_07579.jpg', 'BET/img_02139.jpg', 'BET/img_01440.jpg', 'BET/img_01915.jpg', 'BET/img_06277.jpg', 'BET/img_00771.jpg', 'BET/img_02981.jpg', 'BET/img_04179.jpg', 'BET/img_07804.jpg', 'BET/img_00379.jpg', 'BET/img_01933.jpg', 'BET/img_07519.jpg', 'BET/img_01194.jpg', 'BET/img_06997.jpg', 'BET/img_06613.jpg', 'BET/img_05658.jpg', 'BET/img_03813.jpg', 'BET/img_04744.jpg', 'BET/img_07795.jpg', 'BET/img_04042.jpg', 'BET/img_00601.jpg', 'BET/img_05369.jpg', 'BET/img_02138.jpg', 'BET/img_05796.jpg', 'BET/img_04227.jpg', 'BET/img_07378.jpg', 'BET/img_02498.jpg', 'BET/img_01350.jpg', 'BET/img_02168.jpg', 'BET/img_05974.jpg', 'BET/img_01450.jpg', 'BET/img_02818.jpg', 'BET/img_02554.jpg', 'BET/img_04185.jpg', 'BET/img_05748.jpg', 'BET/img_05164.jpg', 'BET/img_05314.jpg', 'BET/img_03366.jpg', 'BET/img_01912.jpg', 'BET/img_04464.jpg', 'BET/img_01905.jpg', 'BET/img_04718.jpg', 'BET/img_00225.jpg', 'BET/img_06542.jpg', 'BET/img_00923.jpg', 'BET/img_01943.jpg', 'BET/img_00732.jpg', 'BET/img_06636.jpg', 'BET/img_02195.jpg', 'BET/img_06825.jpg', 'BET/img_05065.jpg', 'BET/img_05110.jpg', 'BET/img_00443.jpg', 'BET/img_05351.jpg', 'BET/img_03833.jpg', 'BET/img_05848.jpg', 'BET/img_07311.jpg', 'BET/img_07721.jpg', 'BET/img_02128.jpg', 'BET/img_01003.jpg', 'BET/img_01481.jpg', 'BET/img_01707.jpg', 'BET/img_00774.jpg', 'BET/img_04732.jpg', 'BET/img_04304.jpg', 'BET/img_01351.jpg', 'BET/img_04670.jpg', 'BET/img_01215.jpg', 'BET/img_01343.jpg', 'BET/img_05784.jpg', 'BET/img_05344.jpg', 'BET/img_02103.jpg', 'BET/img_05616.jpg', 'BET/img_02736.jpg', 'BET/img_02969.jpg', 'BET/img_02343.jpg', 'BET/img_00107.jpg', 'BET/img_00321.jpg', 'BET/img_03184.jpg', 'BET/img_05262.jpg', 'BET/img_05736.jpg', 'BET/img_04619.jpg', 'BET/img_05450.jpg', 'BET/img_02097.jpg', 'BET/img_00491.jpg', 'BET/img_02742.jpg', 'BET/img_01725.jpg', 'BET/img_05069.jpg', 'BET/img_07734.jpg', 'BET/img_04158.jpg', 'BET/img_07825.jpg', 'BET/img_06983.jpg', 'DOL/img_00325.jpg', 'DOL/img_07557.jpg', 'DOL/img_06297.jpg', 'DOL/img_01311.jpg', 'DOL/img_01776.jpg', 'DOL/img_04927.jpg', 'DOL/img_07728.jpg', 'DOL/img_05557.jpg', 'DOL/img_01850.jpg', 'DOL/img_00918.jpg', 'DOL/img_07643.jpg', 'DOL/img_04385.jpg', 'DOL/img_03689.jpg', 'DOL/img_04676.jpg', 'DOL/img_00983.jpg', 'DOL/img_06773.jpg', 'DOL/img_00348.jpg', 'DOL/img_02772.jpg', 'DOL/img_02210.jpg', 'DOL/img_03922.jpg', 'DOL/img_05635.jpg', 'DOL/img_05444.jpg', 'DOL/img_02474.jpg', 'DOL/img_00352.jpg', 'DOL/img_03727.jpg', 'DOL/img_01844.jpg', 'DOL/img_00951.jpg', 'DOL/img_05462.jpg', 'DOL/img_06768.jpg', 'DOL/img_05571.jpg', 'DOL/img_05521.jpg', 'DOL/img_05485.jpg', 'DOL/img_03409.jpg', 'DOL/img_06952.jpg', 'DOL/img_02752.jpg', 'DOL/img_03997.jpg', 'DOL/img_07265.jpg', 'DOL/img_01757.jpg', 'DOL/img_05165.jpg', 'DOL/img_06012.jpg', 'DOL/img_01055.jpg', 'DOL/img_02100.jpg', 'DOL/img_05782.jpg', 'DOL/img_02936.jpg', 'DOL/img_05894.jpg', 'DOL/img_04614.jpg', 'DOL/img_07898.jpg', 'DOL/img_04760.jpg', 'DOL/img_06117.jpg', 'DOL/img_02267.jpg', 'DOL/img_02529.jpg', 'DOL/img_05923.jpg', 'DOL/img_01232.jpg', 'DOL/img_03296.jpg', 'DOL/img_02910.jpg', 'DOL/img_01360.jpg', 'DOL/img_02654.jpg', 'DOL/img_06284.jpg', 'DOL/img_07302.jpg', 'DOL/img_06442.jpg', 'DOL/img_06244.jpg', 'DOL/img_01042.jpg', 'DOL/img_06644.jpg', 'DOL/img_00733.jpg', 'DOL/img_02599.jpg', 'DOL/img_00678.jpg', 'DOL/img_02432.jpg', 'DOL/img_00565.jpg', 'DOL/img_01812.jpg', 'DOL/img_01531.jpg', 'DOL/img_05420.jpg', 'DOL/img_01471.jpg', 'DOL/img_02378.jpg', 'DOL/img_02341.jpg', 'DOL/img_01615.jpg', 'DOL/img_00644.jpg', 'DOL/img_01596.jpg', 'DOL/img_02798.jpg', 'DOL/img_02440.jpg', 'DOL/img_05054.jpg', 'DOL/img_01185.jpg', 'DOL/img_01608.jpg', 'DOL/img_05934.jpg', 'DOL/img_01153.jpg', 'DOL/img_03546.jpg', 'DOL/img_02937.jpg', 'DOL/img_02333.jpg', 'DOL/img_04363.jpg', 'DOL/img_00734.jpg', 'DOL/img_00770.jpg', 'DOL/img_02953.jpg', 'DOL/img_00165.jpg', 'DOL/img_06299.jpg', 'DOL/img_07212.jpg', 'DOL/img_05367.jpg', 'DOL/img_03259.jpg', 'DOL/img_01628.jpg', 'DOL/img_02926.jpg', 'DOL/img_01470.jpg', 'DOL/img_06204.jpg', 'DOL/img_03843.jpg', 'DOL/img_01474.jpg', 'LAG/img_04297.jpg', 'LAG/img_02758.jpg', 'LAG/img_02186.jpg', 'LAG/img_01644.jpg', 'LAG/img_04352.jpg', 'LAG/img_02089.jpg', 'LAG/img_04711.jpg', 'LAG/img_02415.jpg', 'LAG/img_06223.jpg', 'LAG/img_06536.jpg', 'LAG/img_07830.jpg', 'LAG/img_01766.jpg', 'LAG/img_04279.jpg', 'LAG/img_07774.jpg', 'LAG/img_07087.jpg', 'LAG/img_07142.jpg', 'LAG/img_00091.jpg', 'LAG/img_02042.jpg', 'LAG/img_05939.jpg', 'LAG/img_02236.jpg', 'LAG/img_00784.jpg', 'LAG/img_06257.jpg', 'LAG/img_02349.jpg', 'LAG/img_05123.jpg', 'LAG/img_00176.jpg', 'LAG/img_01527.jpg', 'LAG/img_02694.jpg', 'LAG/img_03611.jpg', 'LAG/img_01952.jpg', 'LAG/img_03052.jpg', 'LAG/img_06129.jpg', 'LAG/img_04958.jpg', 'LAG/img_03940.jpg', 'LAG/img_02608.jpg', 'LAG/img_07817.jpg', 'LAG/img_02533.jpg', 'LAG/img_04199.jpg', 'LAG/img_07010.jpg', 'LAG/img_06224.jpg', 'LAG/img_04678.jpg', 'LAG/img_07919.jpg', 'LAG/img_07176.jpg', 'LAG/img_03774.jpg', 'LAG/img_04435.jpg', 'LAG/img_04734.jpg', 'LAG/img_03771.jpg', 'LAG/img_07269.jpg', 'LAG/img_05005.jpg', 'LAG/img_05966.jpg', 'LAG/img_01457.jpg', 'LAG/img_04481.jpg', 'LAG/img_04953.jpg', 'LAG/img_02728.jpg', 'LAG/img_05081.jpg', 'LAG/img_01512.jpg', 'LAG/img_01221.jpg', 'LAG/img_04741.jpg', 'NoF/img_07902.jpg', 'NoF/img_05865.jpg', 'NoF/img_00354.jpg', 'NoF/img_03002.jpg', 'NoF/img_02873.jpg', 'NoF/img_07058.jpg', 'NoF/img_04793.jpg', 'NoF/img_02997.jpg', 'NoF/img_01120.jpg', 'NoF/img_03542.jpg', 'NoF/img_00516.jpg', 'NoF/img_02524.jpg', 'NoF/img_07123.jpg', 'NoF/img_03783.jpg', 'NoF/img_03691.jpg', 'NoF/img_05073.jpg', 'NoF/img_03506.jpg', 'NoF/img_00553.jpg', 'NoF/img_01151.jpg', 'NoF/img_07102.jpg', 'NoF/img_00615.jpg', 'NoF/img_07679.jpg', 'NoF/img_07411.jpg', 'NoF/img_06628.jpg', 'NoF/img_05398.jpg', 'NoF/img_04971.jpg', 'NoF/img_03768.jpg', 'NoF/img_03271.jpg', 'NoF/img_03643.jpg', 'NoF/img_04544.jpg', 'NoF/img_01787.jpg', 'NoF/img_04383.jpg', 'NoF/img_00062.jpg', 'NoF/img_06750.jpg', 'NoF/img_00766.jpg', 'NoF/img_02621.jpg', 'NoF/img_03972.jpg', 'NoF/img_04847.jpg', 'NoF/img_03302.jpg', 'NoF/img_03240.jpg', 'NoF/img_07886.jpg', 'NoF/img_07812.jpg', 'NoF/img_04106.jpg', 'NoF/img_03048.jpg', 'NoF/img_00720.jpg', 'NoF/img_04596.jpg', 'NoF/img_03113.jpg', 'NoF/img_07121.jpg', 'NoF/img_01922.jpg', 'NoF/img_01588.jpg', 'NoF/img_00105.jpg', 'NoF/img_04842.jpg', 'NoF/img_00068.jpg', 'NoF/img_04462.jpg', 'NoF/img_03531.jpg', 'NoF/img_02164.jpg', 'NoF/img_02357.jpg', 'NoF/img_04486.jpg', 'NoF/img_00131.jpg', 'NoF/img_03955.jpg', 'NoF/img_00076.jpg', 'NoF/img_06007.jpg', 'NoF/img_05542.jpg', 'NoF/img_03221.jpg', 'NoF/img_06889.jpg', 'NoF/img_06366.jpg', 'NoF/img_06212.jpg', 'NoF/img_05666.jpg', 'NoF/img_01892.jpg', 'NoF/img_07673.jpg', 'NoF/img_00849.jpg', 'NoF/img_06478.jpg', 'NoF/img_00910.jpg', 'NoF/img_03678.jpg', 'NoF/img_05012.jpg', 'NoF/img_00387.jpg', 'NoF/img_01024.jpg', 'NoF/img_03528.jpg', 'NoF/img_03318.jpg', 'NoF/img_04828.jpg', 'NoF/img_04686.jpg', 'NoF/img_02394.jpg', 'NoF/img_01459.jpg', 'NoF/img_05636.jpg', 'NoF/img_00011.jpg', 'NoF/img_04941.jpg', 'NoF/img_00143.jpg', 'NoF/img_03029.jpg', 'NoF/img_06572.jpg', 'NoF/img_00529.jpg', 'NoF/img_05814.jpg', 'NoF/img_04151.jpg', 'NoF/img_03009.jpg', 'NoF/img_03000.jpg', 'NoF/img_06874.jpg', 'NoF/img_00428.jpg', 'NoF/img_00028.jpg', 'NoF/img_05456.jpg', 'NoF/img_04770.jpg', 'NoF/img_02822.jpg', 'NoF/img_00271.jpg', 'NoF/img_03206.jpg', 'NoF/img_04501.jpg', 'NoF/img_05880.jpg', 'NoF/img_02970.jpg', 'NoF/img_00008.jpg', 'NoF/img_01005.jpg', 'NoF/img_00456.jpg', 'NoF/img_03337.jpg', 'NoF/img_02786.jpg', 'NoF/img_00360.jpg', 'NoF/img_03489.jpg', 'NoF/img_04866.jpg', 'NoF/img_02302.jpg', 'NoF/img_07274.jpg', 'NoF/img_03257.jpg', 'NoF/img_02870.jpg', 'NoF/img_00616.jpg', 'NoF/img_07268.jpg', 'NoF/img_00413.jpg', 'NoF/img_02731.jpg', 'NoF/img_01297.jpg', 'NoF/img_02685.jpg', 'NoF/img_03536.jpg', 'NoF/img_03386.jpg', 'NoF/img_06451.jpg', 'NoF/img_00949.jpg', 'NoF/img_02843.jpg', 'NoF/img_06266.jpg', 'NoF/img_07918.jpg', 'NoF/img_07597.jpg', 'NoF/img_06256.jpg', 'NoF/img_07598.jpg', 'NoF/img_05503.jpg', 'NoF/img_04228.jpg', 'NoF/img_01303.jpg', 'NoF/img_02013.jpg', 'NoF/img_02323.jpg', 'NoF/img_04645.jpg', 'NoF/img_01052.jpg', 'NoF/img_07198.jpg', 'NoF/img_03789.jpg', 'NoF/img_06792.jpg', 'NoF/img_01775.jpg', 'NoF/img_02893.jpg', 'NoF/img_03330.jpg', 'NoF/img_01925.jpg', 'NoF/img_01013.jpg', 'NoF/img_01155.jpg', 'NoF/img_06329.jpg', 'NoF/img_02751.jpg', 'NoF/img_05998.jpg', 'NoF/img_03186.jpg', 'NoF/img_03336.jpg', 'NoF/img_04182.jpg', 'NoF/img_05360.jpg', 'NoF/img_05050.jpg', 'NoF/img_06402.jpg', 'NoF/img_00390.jpg', 'NoF/img_05466.jpg', 'NoF/img_03173.jpg', 'NoF/img_07379.jpg', 'NoF/img_01463.jpg', 'NoF/img_00419.jpg', 'NoF/img_01421.jpg', 'NoF/img_01579.jpg', 'NoF/img_01039.jpg', 'NoF/img_03640.jpg', 'NoF/img_04889.jpg', 'NoF/img_02435.jpg', 'NoF/img_01419.jpg', 'NoF/img_02930.jpg', 'NoF/img_03404.jpg', 'NoF/img_00146.jpg', 'NoF/img_04457.jpg', 'NoF/img_01305.jpg', 'NoF/img_05461.jpg', 'NoF/img_02272.jpg', 'NoF/img_06179.jpg', 'NoF/img_05455.jpg', 'NoF/img_02102.jpg', 'NoF/img_01475.jpg', 'NoF/img_04840.jpg', 'NoF/img_05928.jpg', 'NoF/img_01497.jpg', 'NoF/img_04197.jpg', 'NoF/img_04458.jpg', 'NoF/img_03434.jpg', 'NoF/img_03494.jpg', 'NoF/img_07100.jpg', 'NoF/img_01193.jpg', 'NoF/img_02329.jpg', 'NoF/img_06495.jpg', 'NoF/img_00494.jpg', 'NoF/img_01411.jpg', 'NoF/img_01906.jpg', 'NoF/img_07861.jpg', 'NoF/img_01714.jpg', 'NoF/img_04703.jpg', 'NoF/img_04162.jpg', 'NoF/img_06083.jpg', 'NoF/img_05535.jpg', 'NoF/img_00406.jpg', 'NoF/img_07687.jpg', 'NoF/img_07674.jpg', 'NoF/img_01499.jpg', 'NoF/img_06240.jpg', 'NoF/img_00251.jpg', 'NoF/img_03672.jpg', 'NoF/img_01667.jpg', 'NoF/img_00266.jpg', 'NoF/img_00586.jpg', 'NoF/img_06969.jpg', 'NoF/img_04395.jpg', 'NoF/img_03158.jpg', 'NoF/img_06051.jpg', 'NoF/img_00400.jpg', 'NoF/img_02345.jpg', 'NoF/img_01135.jpg', 'NoF/img_06130.jpg', 'NoF/img_06116.jpg', 'NoF/img_06803.jpg', 'NoF/img_02534.jpg', 'NoF/img_00339.jpg', 'NoF/img_02017.jpg', 'NoF/img_06494.jpg', 'NoF/img_04216.jpg', 'NoF/img_05594.jpg', 'NoF/img_01525.jpg', 'NoF/img_02460.jpg', 'NoF/img_00819.jpg', 'NoF/img_02325.jpg', 'NoF/img_06675.jpg', 'NoF/img_03806.jpg', 'NoF/img_00318.jpg', 'NoF/img_06222.jpg', 'NoF/img_06951.jpg', 'NoF/img_06178.jpg', 'NoF/img_02044.jpg', 'NoF/img_00122.jpg', 'NoF/img_07837.jpg', 'NoF/img_01989.jpg', 'NoF/img_00658.jpg', 'NoF/img_05957.jpg', 'NoF/img_04009.jpg', 'NoF/img_03916.jpg', 'NoF/img_02805.jpg', 'NoF/img_07339.jpg', 'NoF/img_03757.jpg', 'NoF/img_06375.jpg', 'NoF/img_05115.jpg', 'NoF/img_02316.jpg', 'NoF/img_04351.jpg', 'NoF/img_02908.jpg', 'NoF/img_07129.jpg', 'NoF/img_00681.jpg', 'NoF/img_02232.jpg', 'NoF/img_06476.jpg', 'NoF/img_04071.jpg', 'NoF/img_02650.jpg', 'NoF/img_00022.jpg', 'NoF/img_01071.jpg', 'NoF/img_07808.jpg', 'NoF/img_02439.jpg', 'NoF/img_01097.jpg', 'NoF/img_00887.jpg', 'NoF/img_06910.jpg', 'NoF/img_01020.jpg', 'NoF/img_04538.jpg', 'NoF/img_05254.jpg', 'NoF/img_01701.jpg', 'NoF/img_04045.jpg', 'NoF/img_00725.jpg', 'NoF/img_00094.jpg', 'NoF/img_06264.jpg', 'NoF/img_04621.jpg', 'NoF/img_06953.jpg', 'NoF/img_01626.jpg', 'NoF/img_02431.jpg', 'NoF/img_03059.jpg', 'NoF/img_07758.jpg', 'NoF/img_05319.jpg', 'NoF/img_03887.jpg', 'NoF/img_03187.jpg', 'NoF/img_03796.jpg', 'NoF/img_06248.jpg', 'NoF/img_05855.jpg', 'NoF/img_03826.jpg', 'NoF/img_03174.jpg', 'NoF/img_03332.jpg', 'NoF/img_02033.jpg', 'NoF/img_04475.jpg', 'NoF/img_06908.jpg', 'NoF/img_02564.jpg', 'NoF/img_04916.jpg', 'NoF/img_06499.jpg', 'NoF/img_05256.jpg', 'NoF/img_00243.jpg', 'NoF/img_02717.jpg', 'NoF/img_04188.jpg', 'NoF/img_04493.jpg', 'NoF/img_07724.jpg', 'NoF/img_07584.jpg', 'NoF/img_03849.jpg', 'NoF/img_01017.jpg', 'NoF/img_05130.jpg', 'NoF/img_06839.jpg', 'NoF/img_00377.jpg', 'NoF/img_03359.jpg', 'NoF/img_04200.jpg', 'NoF/img_00609.jpg', 'NoF/img_02548.jpg', 'NoF/img_00651.jpg', 'NoF/img_05534.jpg', 'NoF/img_00904.jpg', 'NoF/img_06081.jpg', 'NoF/img_07408.jpg', 'NoF/img_05716.jpg', 'NoF/img_00847.jpg', 'NoF/img_06871.jpg', 'NoF/img_00512.jpg', 'NoF/img_00178.jpg', 'NoF/img_06801.jpg', 'NoF/img_03519.jpg', 'NoF/img_04166.jpg', 'NoF/img_03933.jpg', 'NoF/img_05178.jpg', 'NoF/img_02105.jpg', 'NoF/img_07496.jpg', 'NoF/img_00981.jpg', 'NoF/img_00585.jpg', 'NoF/img_01040.jpg', 'NoF/img_00645.jpg', 'NoF/img_07351.jpg', 'NoF/img_07362.jpg', 'NoF/img_03583.jpg', 'NoF/img_04178.jpg', 'NoF/img_07660.jpg', 'NoF/img_01219.jpg', 'NoF/img_04906.jpg', 'NoF/img_01424.jpg', 'NoF/img_04605.jpg', 'NoF/img_03091.jpg', 'NoF/img_04616.jpg', 'NoF/img_01203.jpg', 'NoF/img_05733.jpg', 'NoF/img_01568.jpg', 'NoF/img_05891.jpg', 'NoF/img_00367.jpg', 'NoF/img_04623.jpg', 'NoF/img_04365.jpg', 'NoF/img_00326.jpg', 'NoF/img_05625.jpg', 'NoF/img_00826.jpg', 'NoF/img_06816.jpg', 'NoF/img_06031.jpg', 'NoF/img_04063.jpg', 'NoF/img_05875.jpg', 'NoF/img_03883.jpg', 'NoF/img_00504.jpg', 'NoF/img_03343.jpg', 'NoF/img_05474.jpg', 'NoF/img_03423.jpg', 'NoF/img_04430.jpg', 'NoF/img_07353.jpg', 'NoF/img_01094.jpg', 'NoF/img_01560.jpg', 'NoF/img_00084.jpg', 'NoF/img_04644.jpg', 'NoF/img_00315.jpg', 'NoF/img_00210.jpg', 'NoF/img_01165.jpg', 'NoF/img_01927.jpg', 'NoF/img_07641.jpg', 'NoF/img_02381.jpg', 'NoF/img_02366.jpg', 'NoF/img_06601.jpg', 'NoF/img_00099.jpg', 'NoF/img_03908.jpg', 'NoF/img_03555.jpg', 'NoF/img_06515.jpg', 'NoF/img_06322.jpg', 'NoF/img_04168.jpg', 'NoF/img_00303.jpg', 'NoF/img_05984.jpg', 'NoF/img_03765.jpg', 'NoF/img_06398.jpg', 'NoF/img_06309.jpg', 'NoF/img_05936.jpg', 'NoF/img_04139.jpg', 'NoF/img_07115.jpg', 'NoF/img_02158.jpg', 'NoF/img_03025.jpg', 'NoF/img_00135.jpg', 'NoF/img_02461.jpg', 'NoF/img_02829.jpg', 'NoF/img_01710.jpg', 'NoF/img_00481.jpg', 'NoF/img_05325.jpg', 'NoF/img_06940.jpg', 'NoF/img_00818.jpg', 'NoF/img_03752.jpg', 'NoF/img_04506.jpg', 'NoF/img_03020.jpg', 'NoF/img_03949.jpg', 'NoF/img_00926.jpg', 'NoF/img_03893.jpg', 'NoF/img_03331.jpg', 'NoF/img_01737.jpg', 'NoF/img_04886.jpg', 'OTHER/img_04064.jpg', 'OTHER/img_03917.jpg', 'OTHER/img_00908.jpg', 'OTHER/img_03298.jpg', 'OTHER/img_05155.jpg', 'OTHER/img_00691.jpg', 'OTHER/img_04685.jpg', 'OTHER/img_05287.jpg', 'OTHER/img_07536.jpg', 'OTHER/img_04060.jpg', 'OTHER/img_04851.jpg', 'OTHER/img_00848.jpg', 'OTHER/img_06382.jpg', 'OTHER/img_04494.jpg', 'OTHER/img_03049.jpg', 'OTHER/img_01807.jpg', 'OTHER/img_05490.jpg', 'OTHER/img_07305.jpg', 'OTHER/img_02528.jpg', 'OTHER/img_03841.jpg', 'OTHER/img_00183.jpg', 'OTHER/img_04448.jpg', 'OTHER/img_00862.jpg', 'OTHER/img_07743.jpg', 'OTHER/img_07839.jpg', 'OTHER/img_06984.jpg', 'OTHER/img_05133.jpg', 'OTHER/img_00127.jpg', 'OTHER/img_06199.jpg', 'OTHER/img_03070.jpg', 'OTHER/img_00261.jpg', 'OTHER/img_06419.jpg', 'OTHER/img_01639.jpg', 'OTHER/img_02691.jpg', 'OTHER/img_02099.jpg', 'OTHER/img_03022.jpg', 'OTHER/img_05112.jpg', 'OTHER/img_01648.jpg', 'OTHER/img_07770.jpg', 'OTHER/img_05860.jpg', 'OTHER/img_05111.jpg', 'OTHER/img_00698.jpg', 'OTHER/img_07019.jpg', 'OTHER/img_04371.jpg', 'OTHER/img_06699.jpg', 'OTHER/img_07729.jpg', 'OTHER/img_07840.jpg', 'OTHER/img_03133.jpg', 'OTHER/img_03066.jpg', 'OTHER/img_02331.jpg', 'OTHER/img_07399.jpg', 'OTHER/img_05425.jpg', 'OTHER/img_02541.jpg', 'OTHER/img_03246.jpg', 'OTHER/img_00126.jpg', 'OTHER/img_00821.jpg', 'OTHER/img_01044.jpg', 'OTHER/img_04988.jpg', 'OTHER/img_07451.jpg', 'OTHER/img_04396.jpg', 'OTHER/img_00305.jpg', 'OTHER/img_06087.jpg', 'OTHER/img_00226.jpg', 'OTHER/img_04928.jpg', 'OTHER/img_02543.jpg', 'OTHER/img_05092.jpg', 'OTHER/img_00472.jpg', 'OTHER/img_02198.jpg', 'OTHER/img_07279.jpg', 'OTHER/img_01522.jpg', 'OTHER/img_03265.jpg', 'OTHER/img_03807.jpg', 'OTHER/img_06111.jpg', 'OTHER/img_05114.jpg', 'OTHER/img_04948.jpg', 'OTHER/img_01349.jpg', 'OTHER/img_01993.jpg', 'OTHER/img_05502.jpg', 'OTHER/img_01664.jpg', 'OTHER/img_03979.jpg', 'OTHER/img_06863.jpg', 'OTHER/img_05216.jpg', 'OTHER/img_05756.jpg', 'OTHER/img_03365.jpg', 'OTHER/img_06044.jpg', 'OTHER/img_04238.jpg', 'OTHER/img_02407.jpg', 'OTHER/img_06463.jpg', 'OTHER/img_01400.jpg', 'OTHER/img_03772.jpg', 'OTHER/img_00485.jpg', 'OTHER/img_00589.jpg', 'OTHER/img_02360.jpg', 'OTHER/img_04880.jpg', 'OTHER/img_01483.jpg', 'OTHER/img_02680.jpg', 'OTHER/img_02413.jpg', 'OTHER/img_01697.jpg', 'OTHER/img_07546.jpg', 'OTHER/img_01559.jpg', 'OTHER/img_04253.jpg', 'OTHER/img_07627.jpg', 'OTHER/img_06708.jpg', 'OTHER/img_05753.jpg', 'OTHER/img_00262.jpg', 'OTHER/img_03267.jpg', 'OTHER/img_00434.jpg', 'OTHER/img_00639.jpg', 'OTHER/img_04391.jpg', 'OTHER/img_05751.jpg', 'OTHER/img_07042.jpg', 'OTHER/img_00332.jpg', 'OTHER/img_06878.jpg', 'OTHER/img_01428.jpg', 'OTHER/img_01327.jpg', 'OTHER/img_06651.jpg', 'OTHER/img_07227.jpg', 'OTHER/img_04548.jpg', 'OTHER/img_04873.jpg', 'OTHER/img_06766.jpg', 'OTHER/img_00574.jpg', 'OTHER/img_03163.jpg', 'OTHER/img_00670.jpg', 'OTHER/img_07806.jpg', 'OTHER/img_05070.jpg', 'OTHER/img_07415.jpg', 'OTHER/img_01080.jpg', 'OTHER/img_05546.jpg', 'OTHER/img_00721.jpg', 'OTHER/img_03191.jpg', 'OTHER/img_07405.jpg', 'OTHER/img_07503.jpg', 'OTHER/img_01656.jpg', 'OTHER/img_06093.jpg', 'OTHER/img_01957.jpg', 'OTHER/img_02395.jpg', 'OTHER/img_04826.jpg', 'OTHER/img_02773.jpg', 'OTHER/img_06063.jpg', 'OTHER/img_06700.jpg', 'OTHER/img_07923.jpg', 'OTHER/img_01879.jpg', 'OTHER/img_01692.jpg', 'OTHER/img_05009.jpg', 'OTHER/img_04967.jpg', 'OTHER/img_07266.jpg', 'OTHER/img_04434.jpg', 'OTHER/img_07570.jpg', 'OTHER/img_02955.jpg', 'OTHER/img_04693.jpg', 'OTHER/img_06877.jpg', 'OTHER/img_01423.jpg', 'OTHER/img_01019.jpg', 'OTHER/img_06740.jpg', 'OTHER/img_07073.jpg', 'OTHER/img_00412.jpg', 'OTHER/img_03308.jpg', 'OTHER/img_05607.jpg', 'OTHER/img_04769.jpg', 'OTHER/img_06785.jpg', 'OTHER/img_04680.jpg', 'OTHER/img_00453.jpg', 'OTHER/img_01814.jpg', 'OTHER/img_03951.jpg', 'OTHER/img_07359.jpg', 'OTHER/img_05239.jpg', 'OTHER/img_04565.jpg', 'OTHER/img_06005.jpg', 'OTHER/img_04150.jpg', 'OTHER/img_01425.jpg', 'OTHER/img_00814.jpg', 'OTHER/img_02760.jpg', 'OTHER/img_07457.jpg', 'OTHER/img_04636.jpg', 'OTHER/img_00631.jpg', 'OTHER/img_03646.jpg', 'OTHER/img_06133.jpg', 'OTHER/img_05912.jpg', 'OTHER/img_05274.jpg', 'OTHER/img_05834.jpg', 'OTHER/img_04652.jpg', 'OTHER/img_06239.jpg', 'OTHER/img_06584.jpg', 'OTHER/img_04495.jpg', 'OTHER/img_00267.jpg', 'OTHER/img_05345.jpg', 'OTHER/img_00263.jpg', 'OTHER/img_03834.jpg', 'OTHER/img_04484.jpg', 'OTHER/img_03383.jpg', 'OTHER/img_01175.jpg', 'OTHER/img_06719.jpg', 'OTHER/img_01452.jpg', 'OTHER/img_00851.jpg', 'OTHER/img_07779.jpg', 'OTHER/img_05689.jpg', 'OTHER/img_07547.jpg', 'OTHER/img_05141.jpg', 'OTHER/img_03742.jpg', 'OTHER/img_02011.jpg', 'OTHER/img_00359.jpg', 'OTHER/img_04992.jpg', 'OTHER/img_02202.jpg', 'OTHER/img_06149.jpg', 'OTHER/img_05895.jpg', 'OTHER/img_06028.jpg', 'OTHER/img_06578.jpg', 'OTHER/img_04751.jpg', 'OTHER/img_02511.jpg', 'OTHER/img_03975.jpg', 'OTHER/img_02353.jpg', 'OTHER/img_07916.jpg', 'OTHER/img_03243.jpg', 'OTHER/img_05310.jpg', 'OTHER/img_02802.jpg', 'OTHER/img_01982.jpg', 'OTHER/img_07139.jpg', 'OTHER/img_07483.jpg', 'OTHER/img_02595.jpg', 'OTHER/img_07864.jpg', 'OTHER/img_06105.jpg', 'OTHER/img_03389.jpg', 'OTHER/img_04717.jpg', 'OTHER/img_02942.jpg', 'OTHER/img_05645.jpg', 'OTHER/img_02177.jpg', 'OTHER/img_03873.jpg', 'OTHER/img_00886.jpg', 'OTHER/img_02792.jpg', 'OTHER/img_02874.jpg', 'OTHER/img_01356.jpg', 'OTHER/img_04057.jpg', 'OTHER/img_05715.jpg', 'OTHER/img_07077.jpg', 'OTHER/img_04779.jpg', 'OTHER/img_02715.jpg', 'OTHER/img_06706.jpg', 'OTHER/img_06363.jpg', 'OTHER/img_04530.jpg', 'OTHER/img_04617.jpg', 'OTHER/img_01678.jpg', 'OTHER/img_05943.jpg', 'OTHER/img_05954.jpg', 'OTHER/img_06818.jpg', 'OTHER/img_05711.jpg', 'OTHER/img_07220.jpg', 'OTHER/img_05704.jpg', 'OTHER/img_01418.jpg', 'OTHER/img_01534.jpg', 'OTHER/img_03076.jpg', 'OTHER/img_01451.jpg', 'OTHER/img_04966.jpg', 'OTHER/img_04820.jpg', 'OTHER/img_03572.jpg', 'OTHER/img_05997.jpg', 'OTHER/img_04702.jpg', 'OTHER/img_05082.jpg', 'OTHER/img_04012.jpg', 'OTHER/img_06155.jpg', 'OTHER/img_01866.jpg', 'OTHER/img_02745.jpg', 'SHARK/img_00245.jpg', 'SHARK/img_00736.jpg', 'SHARK/img_06786.jpg', 'SHARK/img_05300.jpg', 'SHARK/img_03983.jpg', 'SHARK/img_00703.jpg', 'SHARK/img_06474.jpg', 'SHARK/img_04161.jpg', 'SHARK/img_05532.jpg', 'SHARK/img_06124.jpg', 'SHARK/img_07857.jpg', 'SHARK/img_06013.jpg', 'SHARK/img_00510.jpg', 'SHARK/img_05231.jpg', 'SHARK/img_00247.jpg', 'SHARK/img_04177.jpg', 'SHARK/img_03131.jpg', 'SHARK/img_07221.jpg', 'SHARK/img_02744.jpg', 'SHARK/img_04710.jpg', 'SHARK/img_00560.jpg', 'SHARK/img_02114.jpg', 'SHARK/img_01916.jpg', 'SHARK/img_03507.jpg', 'SHARK/img_07392.jpg', 'SHARK/img_05126.jpg', 'SHARK/img_06303.jpg', 'SHARK/img_06956.jpg', 'SHARK/img_04650.jpg', 'SHARK/img_05900.jpg', 'SHARK/img_04857.jpg', 'SHARK/img_06847.jpg', 'SHARK/img_02790.jpg', 'SHARK/img_01298.jpg', 'SHARK/img_07282.jpg', 'SHARK/img_06163.jpg', 'SHARK/img_07484.jpg', 'SHARK/img_03241.jpg', 'SHARK/img_06881.jpg', 'SHARK/img_01342.jpg', 'SHARK/img_00235.jpg', 'SHARK/img_03521.jpg', 'SHARK/img_06590.jpg', 'SHARK/img_04110.jpg', 'SHARK/img_00072.jpg', 'SHARK/img_04535.jpg', 'SHARK/img_06410.jpg', 'SHARK/img_05504.jpg', 'SHARK/img_03976.jpg', 'SHARK/img_04050.jpg', 'SHARK/img_02557.jpg', 'SHARK/img_02094.jpg', 'SHARK/img_01546.jpg', 'SHARK/img_04910.jpg', 'SHARK/img_03712.jpg', 'SHARK/img_06493.jpg', 'SHARK/img_04170.jpg', 'SHARK/img_00365.jpg', 'SHARK/img_02478.jpg', 'SHARK/img_06523.jpg', 'SHARK/img_03057.jpg', 'SHARK/img_05019.jpg', 'SHARK/img_01432.jpg', 'SHARK/img_03525.jpg', 'SHARK/img_04819.jpg', 'SHARK/img_02987.jpg', 'SHARK/img_04855.jpg', 'SHARK/img_04854.jpg', 'SHARK/img_01324.jpg', 'SHARK/img_02348.jpg', 'SHARK/img_02259.jpg', 'SHARK/img_05249.jpg', 'SHARK/img_01881.jpg', 'SHARK/img_06595.jpg', 'SHARK/img_03791.jpg', 'SHARK/img_05391.jpg', 'SHARK/img_05579.jpg', 'SHARK/img_07860.jpg', 'SHARK/img_01182.jpg', 'SHARK/img_03770.jpg', 'SHARK/img_01307.jpg', 'SHARK/img_02087.jpg', 'SHARK/img_07022.jpg', 'SHARK/img_01986.jpg', 'SHARK/img_06000.jpg', 'SHARK/img_05399.jpg', 'SHARK/img_05257.jpg', 'SHARK/img_06006.jpg', 'SHARK/img_01524.jpg', 'SHARK/img_06913.jpg', 'SHARK/img_02224.jpg', 'SHARK/img_00096.jpg', 'SHARK/img_03168.jpg', 'SHARK/img_04837.jpg', 'SHARK/img_01406.jpg', 'SHARK/img_06537.jpg', 'SHARK/img_00265.jpg', 'SHARK/img_02732.jpg', 'SHARK/img_02088.jpg', 'SHARK/img_05887.jpg', 'SHARK/img_01061.jpg', 'SHARK/img_02624.jpg', 'SHARK/img_06467.jpg', 'SHARK/img_03385.jpg', 'SHARK/img_04359.jpg', 'SHARK/img_07533.jpg', 'SHARK/img_07056.jpg', 'SHARK/img_01795.jpg', 'SHARK/img_06677.jpg', 'SHARK/img_04245.jpg', 'SHARK/img_02271.jpg', 'SHARK/img_07080.jpg', 'SHARK/img_04131.jpg', 'SHARK/img_02867.jpg', 'SHARK/img_04618.jpg', 'SHARK/img_00391.jpg', 'SHARK/img_06686.jpg', 'SHARK/img_06220.jpg', 'SHARK/img_07473.jpg', 'SHARK/img_06448.jpg', 'SHARK/img_04682.jpg', 'SHARK/img_00033.jpg', 'SHARK/img_01161.jpg', 'SHARK/img_03305.jpg', 'SHARK/img_05327.jpg', 'SHARK/img_00903.jpg', 'SHARK/img_01780.jpg', 'SHARK/img_01572.jpg', 'SHARK/img_06118.jpg', 'SHARK/img_05685.jpg', 'SHARK/img_03117.jpg', 'SHARK/img_06821.jpg', 'SHARK/img_04343.jpg', 'SHARK/img_02080.jpg', 'SHARK/img_02718.jpg', 'SHARK/img_05942.jpg', 'SHARK/img_00600.jpg', 'SHARK/img_03971.jpg', 'SHARK/img_06903.jpg', 'SHARK/img_03148.jpg', 'SHARK/img_06082.jpg', 'SHARK/img_05762.jpg', 'SHARK/img_02288.jpg', 'SHARK/img_01759.jpg', 'SHARK/img_06444.jpg', 'SHARK/img_02176.jpg', 'SHARK/img_07556.jpg', 'SHARK/img_02944.jpg', 'SHARK/img_04235.jpg', 'SHARK/img_02169.jpg', 'SHARK/img_00478.jpg', 'YFT/img_06027.jpg', 'YFT/img_06897.jpg', 'YFT/img_03963.jpg', 'YFT/img_04224.jpg', 'YFT/img_05506.jpg', 'YFT/img_00116.jpg', 'YFT/img_06374.jpg', 'YFT/img_05628.jpg', 'YFT/img_07535.jpg', 'YFT/img_07368.jpg', 'YFT/img_04684.jpg', 'YFT/img_06364.jpg', 'YFT/img_04756.jpg', 'YFT/img_05574.jpg', 'YFT/img_02986.jpg', 'YFT/img_05765.jpg', 'YFT/img_07530.jpg', 'YFT/img_07072.jpg', 'YFT/img_04355.jpg', 'YFT/img_05414.jpg', 'YFT/img_05706.jpg', 'YFT/img_07472.jpg', 'YFT/img_03313.jpg', 'YFT/img_02463.jpg', 'YFT/img_06769.jpg', 'YFT/img_04367.jpg', 'YFT/img_02387.jpg', 'YFT/img_02863.jpg', 'YFT/img_03367.jpg', 'YFT/img_07119.jpg', 'YFT/img_04267.jpg', 'YFT/img_02014.jpg', 'YFT/img_03185.jpg', 'YFT/img_04668.jpg', 'YFT/img_04317.jpg', 'YFT/img_01270.jpg', 'YFT/img_03753.jpg', 'YFT/img_01143.jpg', 'YFT/img_01370.jpg', 'YFT/img_03063.jpg', 'YFT/img_03898.jpg', 'YFT/img_04077.jpg', 'YFT/img_03779.jpg', 'YFT/img_00696.jpg', 'YFT/img_03968.jpg', 'YFT/img_03649.jpg', 'YFT/img_00752.jpg', 'YFT/img_01854.jpg', 'YFT/img_04551.jpg', 'YFT/img_01767.jpg', 'YFT/img_04802.jpg', 'YFT/img_01972.jpg', 'YFT/img_06487.jpg', 'YFT/img_07130.jpg', 'YFT/img_04049.jpg', 'YFT/img_06146.jpg', 'YFT/img_05667.jpg', 'YFT/img_00221.jpg', 'YFT/img_01201.jpg', 'YFT/img_02633.jpg', 'YFT/img_07095.jpg', 'YFT/img_03558.jpg', 'YFT/img_00436.jpg', 'YFT/img_07633.jpg', 'YFT/img_06326.jpg', 'YFT/img_01372.jpg', 'YFT/img_02113.jpg', 'YFT/img_01007.jpg', 'YFT/img_06858.jpg', 'YFT/img_01973.jpg', 'YFT/img_02585.jpg', 'YFT/img_05333.jpg', 'YFT/img_04444.jpg', 'YFT/img_06434.jpg', 'YFT/img_05478.jpg', 'YFT/img_01876.jpg', 'YFT/img_04120.jpg', 'YFT/img_03604.jpg', 'YFT/img_01842.jpg', 'YFT/img_00214.jpg', 'YFT/img_03407.jpg', 'YFT/img_07712.jpg', 'YFT/img_06415.jpg', 'YFT/img_07854.jpg', 'YFT/img_03100.jpg', 'YFT/img_02958.jpg', 'YFT/img_05926.jpg', 'YFT/img_03950.jpg', 'YFT/img_06592.jpg', 'YFT/img_03160.jpg', 'YFT/img_06576.jpg', 'YFT/img_07341.jpg', 'YFT/img_00023.jpg', 'YFT/img_01516.jpg', 'YFT/img_07828.jpg', 'YFT/img_02919.jpg', 'YFT/img_00093.jpg', 'YFT/img_02449.jpg', 'YFT/img_06569.jpg', 'YFT/img_02727.jpg', 'YFT/img_01410.jpg', 'YFT/img_01189.jpg', 'YFT/img_03035.jpg', 'YFT/img_05097.jpg', 'YFT/img_02255.jpg', 'YFT/img_02438.jpg', 'YFT/img_05323.jpg', 'YFT/img_04413.jpg', 'YFT/img_05787.jpg', 'YFT/img_02976.jpg', 'YFT/img_07901.jpg', 'YFT/img_00222.jpg', 'YFT/img_02748.jpg', 'YFT/img_03999.jpg', 'YFT/img_05041.jpg', 'YFT/img_01380.jpg', 'YFT/img_05172.jpg', 'YFT/img_05174.jpg', 'YFT/img_03062.jpg', 'YFT/img_03007.jpg', 'YFT/img_01625.jpg', 'YFT/img_07541.jpg', 'YFT/img_06771.jpg', 'YFT/img_02934.jpg', 'YFT/img_02311.jpg', 'YFT/img_02411.jpg', 'YFT/img_03560.jpg', 'YFT/img_00312.jpg', 'YFT/img_07714.jpg', 'YFT/img_02592.jpg', 'YFT/img_06980.jpg', 'YFT/img_03921.jpg', 'YFT/img_01403.jpg', 'YFT/img_02457.jpg', 'YFT/img_04392.jpg', 'YFT/img_02730.jpg', 'YFT/img_04429.jpg', 'YFT/img_02500.jpg', 'YFT/img_07025.jpg', 'YFT/img_03543.jpg', 'YFT/img_01573.jpg', 'YFT/img_07853.jpg', 'YFT/img_05370.jpg', 'YFT/img_06072.jpg', 'YFT/img_06092.jpg', 'YFT/img_00118.jpg', 'YFT/img_07653.jpg', 'YFT/img_01938.jpg', 'YFT/img_04258.jpg', 'YFT/img_04942.jpg', 'YFT/img_01532.jpg', 'YFT/img_00298.jpg', 'YFT/img_02897.jpg', 'YFT/img_02179.jpg', 'YFT/img_01335.jpg', 'YFT/img_07116.jpg', 'YFT/img_05282.jpg', 'YFT/img_06586.jpg', 'YFT/img_07383.jpg', 'YFT/img_00958.jpg', 'YFT/img_05783.jpg', 'YFT/img_05088.jpg', 'YFT/img_06660.jpg', 'YFT/img_00370.jpg', 'YFT/img_00680.jpg', 'YFT/img_06925.jpg', 'YFT/img_04627.jpg', 'YFT/img_05669.jpg', 'YFT/img_02809.jpg', 'YFT/img_04628.jpg', 'YFT/img_06228.jpg', 'YFT/img_06724.jpg', 'YFT/img_03136.jpg', 'YFT/img_04817.jpg', 'YFT/img_06500.jpg', 'YFT/img_07765.jpg', 'YFT/img_03787.jpg', 'YFT/img_04467.jpg', 'YFT/img_05060.jpg', 'YFT/img_05245.jpg', 'YFT/img_04912.jpg', 'YFT/img_01700.jpg', 'YFT/img_01779.jpg', 'YFT/img_06234.jpg', 'YFT/img_03325.jpg', 'YFT/img_04021.jpg', 'YFT/img_04801.jpg', 'YFT/img_04516.jpg', 'YFT/img_03217.jpg', 'YFT/img_01634.jpg', 'YFT/img_05400.jpg', 'YFT/img_04698.jpg', 'YFT/img_04918.jpg', 'YFT/img_04280.jpg', 'YFT/img_07655.jpg', 'YFT/img_01848.jpg', 'YFT/img_06138.jpg', 'YFT/img_03196.jpg', 'YFT/img_00506.jpg', 'YFT/img_02966.jpg', 'YFT/img_07750.jpg', 'YFT/img_00573.jpg', 'YFT/img_07569.jpg', 'YFT/img_06085.jpg', 'YFT/img_03819.jpg', 'YFT/img_02055.jpg', 'YFT/img_02884.jpg', 'YFT/img_07431.jpg', 'YFT/img_04488.jpg', 'YFT/img_00014.jpg', 'YFT/img_05617.jpg', 'YFT/img_01721.jpg', 'YFT/img_02493.jpg', 'YFT/img_06395.jpg', 'YFT/img_01358.jpg', 'YFT/img_05676.jpg', 'YFT/img_04096.jpg', 'YFT/img_01784.jpg', 'YFT/img_01235.jpg', 'YFT/img_05116.jpg', 'YFT/img_07644.jpg', 'YFT/img_00536.jpg', 'YFT/img_01076.jpg', 'YFT/img_03396.jpg', 'YFT/img_03388.jpg', 'YFT/img_01769.jpg', 'YFT/img_04316.jpg', 'YFT/img_07911.jpg', 'YFT/img_01709.jpg', 'YFT/img_05774.jpg', 'YFT/img_01539.jpg', 'YFT/img_03911.jpg', 'YFT/img_02990.jpg', 'YFT/img_04281.jpg', 'YFT/img_04381.jpg', 'YFT/img_01340.jpg', 'YFT/img_06196.jpg', 'YFT/img_07761.jpg', 'YFT/img_06094.jpg', 'YFT/img_07571.jpg', 'YFT/img_06502.jpg', 'YFT/img_01898.jpg', 'YFT/img_05744.jpg', 'YFT/img_07024.jpg', 'YFT/img_05183.jpg', 'YFT/img_04230.jpg', 'YFT/img_03460.jpg', 'YFT/img_07388.jpg', 'YFT/img_00372.jpg', 'YFT/img_05407.jpg', 'YFT/img_05975.jpg', 'YFT/img_02785.jpg', 'YFT/img_02515.jpg', 'YFT/img_02597.jpg', 'YFT/img_03654.jpg', 'YFT/img_04936.jpg', 'YFT/img_01783.jpg', 'YFT/img_02038.jpg', 'YFT/img_00806.jpg', 'YFT/img_07602.jpg', 'YFT/img_00945.jpg', 'YFT/img_03947.jpg', 'YFT/img_02806.jpg', 'YFT/img_00194.jpg', 'YFT/img_01953.jpg', 'YFT/img_01292.jpg', 'YFT/img_03938.jpg', 'YFT/img_04292.jpg', 'YFT/img_02225.jpg', 'YFT/img_05380.jpg', 'YFT/img_07613.jpg', 'YFT/img_07395.jpg', 'YFT/img_06593.jpg', 'YFT/img_05108.jpg', 'YFT/img_03101.jpg', 'YFT/img_05965.jpg', 'YFT/img_05280.jpg', 'YFT/img_04373.jpg', 'YFT/img_00047.jpg', 'YFT/img_03253.jpg', 'YFT/img_00796.jpg', 'YFT/img_03276.jpg', 'YFT/img_02221.jpg', 'YFT/img_06053.jpg', 'YFT/img_02579.jpg', 'YFT/img_01817.jpg', 'YFT/img_04420.jpg', 'YFT/img_04360.jpg', 'YFT/img_01712.jpg', 'YFT/img_02150.jpg', 'YFT/img_00997.jpg', 'YFT/img_02219.jpg', 'YFT/img_07849.jpg', 'YFT/img_06226.jpg', 'YFT/img_01368.jpg', 'YFT/img_01861.jpg', 'YFT/img_01308.jpg', 'YFT/img_06854.jpg', 'YFT/img_06289.jpg', 'YFT/img_06262.jpg', 'YFT/img_01749.jpg', 'YFT/img_04947.jpg', 'YFT/img_00900.jpg', 'YFT/img_01174.jpg', 'YFT/img_07315.jpg', 'YFT/img_00572.jpg', 'YFT/img_06822.jpg', 'YFT/img_01087.jpg', 'YFT/img_04083.jpg', 'YFT/img_00279.jpg', 'YFT/img_00641.jpg', 'YFT/img_02905.jpg', 'YFT/img_05048.jpg', 'YFT/img_03675.jpg', 'YFT/img_01747.jpg', 'YFT/img_02917.jpg', 'YFT/img_05786.jpg', 'YFT/img_06824.jpg', 'YFT/img_06898.jpg', 'YFT/img_04208.jpg', 'YFT/img_04159.jpg', 'YFT/img_06819.jpg', 'YFT/img_07595.jpg', 'YFT/img_03464.jpg', 'YFT/img_04249.jpg', 'YFT/img_05395.jpg', 'YFT/img_03400.jpg', 'YFT/img_07038.jpg', 'YFT/img_05655.jpg', 'YFT/img_07061.jpg', 'YFT/img_03485.jpg', 'YFT/img_03541.jpg', 'YFT/img_05477.jpg', 'YFT/img_04394.jpg', 'YFT/img_01064.jpg', 'YFT/img_06765.jpg', 'YFT/img_06600.jpg', 'YFT/img_04632.jpg', 'YFT/img_01623.jpg', 'YFT/img_04473.jpg', 'YFT/img_01662.jpg', 'YFT/img_00378.jpg', 'YFT/img_00052.jpg', 'YFT/img_02258.jpg', 'YFT/img_02262.jpg', 'YFT/img_02295.jpg', 'YFT/img_06754.jpg', 'YFT/img_04738.jpg', 'YFT/img_06316.jpg', 'YFT/img_02364.jpg', 'YFT/img_00891.jpg', 'YFT/img_07166.jpg', 'YFT/img_03568.jpg', 'YFT/img_00501.jpg', 'YFT/img_07273.jpg', 'YFT/img_01156.jpg', 'YFT/img_03121.jpg', 'YFT/img_02165.jpg', 'YFT/img_06550.jpg', 'YFT/img_05170.jpg', 'YFT/img_04241.jpg', 'YFT/img_07369.jpg', 'YFT/img_07852.jpg', 'YFT/img_02218.jpg', 'YFT/img_00253.jpg', 'YFT/img_01113.jpg', 'YFT/img_03505.jpg', 'YFT/img_02104.jpg', 'YFT/img_06339.jpg', 'YFT/img_02652.jpg', 'YFT/img_06156.jpg', 'YFT/img_04825.jpg', 'YFT/img_02550.jpg', 'YFT/img_05166.jpg', 'YFT/img_03668.jpg', 'YFT/img_04730.jpg', 'YFT/img_03710.jpg', 'YFT/img_05695.jpg', 'YFT/img_03127.jpg', 'YFT/img_00284.jpg', 'YFT/img_01606.jpg', 'YFT/img_02626.jpg', 'YFT/img_03340.jpg', 'YFT/img_00783.jpg', 'YFT/img_02721.jpg', 'YFT/img_00217.jpg', 'YFT/img_04113.jpg', 'YFT/img_07226.jpg', 'YFT/img_07649.jpg', 'YFT/img_05769.jpg', 'YFT/img_01323.jpg', 'YFT/img_03540.jpg', 'YFT/img_07610.jpg', 'YFT/img_07747.jpg', 'YFT/img_07338.jpg', 'YFT/img_03622.jpg', 'YFT/img_07588.jpg', 'YFT/img_05347.jpg', 'YFT/img_04217.jpg', 'YFT/img_01840.jpg', 'YFT/img_00566.jpg', 'YFT/img_06418.jpg', 'YFT/img_06323.jpg', 'YFT/img_06404.jpg', 'YFT/img_03567.jpg', 'YFT/img_01727.jpg', 'YFT/img_05460.jpg', 'YFT/img_00871.jpg', 'YFT/img_03657.jpg', 'YFT/img_02858.jpg', 'YFT/img_01658.jpg', 'YFT/img_02355.jpg', 'YFT/img_07074.jpg', 'YFT/img_01241.jpg', 'YFT/img_03856.jpg', 'YFT/img_03266.jpg', 'YFT/img_02485.jpg', 'YFT/img_05624.jpg', 'YFT/img_01518.jpg', 'YFT/img_07742.jpg', 'YFT/img_03585.jpg', 'YFT/img_06336.jpg', 'YFT/img_04681.jpg', 'YFT/img_06417.jpg', 'YFT/img_00021.jpg', 'YFT/img_02968.jpg', 'YFT/img_04041.jpg', 'YFT/img_04046.jpg', 'YFT/img_03086.jpg', 'YFT/img_03437.jpg', 'YFT/img_02371.jpg', 'YFT/img_00333.jpg', 'YFT/img_07287.jpg', 'YFT/img_01329.jpg', 'YFT/img_03242.jpg', 'YFT/img_02308.jpg', 'YFT/img_03477.jpg', 'YFT/img_07517.jpg', 'YFT/img_00404.jpg', 'YFT/img_00969.jpg', 'YFT/img_07217.jpg', 'YFT/img_05024.jpg', 'YFT/img_03094.jpg', 'YFT/img_00677.jpg', 'YFT/img_00286.jpg', 'YFT/img_04977.jpg', 'YFT/img_00539.jpg', 'YFT/img_06079.jpg', 'YFT/img_03430.jpg', 'YFT/img_06835.jpg', 'YFT/img_06971.jpg', 'YFT/img_05321.jpg', 'YFT/img_07624.jpg', 'YFT/img_07340.jpg', 'YFT/img_03081.jpg', 'YFT/img_00694.jpg', 'YFT/img_06406.jpg', 'YFT/img_07775.jpg', 'YFT/img_02365.jpg', 'YFT/img_04759.jpg', 'YFT/img_04148.jpg', 'YFT/img_02712.jpg', 'YFT/img_05903.jpg', 'YFT/img_03096.jpg', 'YFT/img_05680.jpg', 'YFT/img_01199.jpg', 'YFT/img_06841.jpg', 'YFT/img_04933.jpg', 'YFT/img_01691.jpg', 'YFT/img_04952.jpg', 'YFT/img_06407.jpg', 'YFT/img_00968.jpg', 'YFT/img_01742.jpg', 'YFT/img_04273.jpg', 'YFT/img_06650.jpg', 'YFT/img_01675.jpg', 'YFT/img_00470.jpg', 'YFT/img_00276.jpg', 'YFT/img_00704.jpg', 'YFT/img_07017.jpg', 'YFT/img_06048.jpg', 'YFT/img_05102.jpg', 'YFT/img_03211.jpg', 'YFT/img_00535.jpg', 'YFT/img_05632.jpg', 'YFT/img_00439.jpg', 'YFT/img_03596.jpg', 'YFT/img_06763.jpg', 'YFT/img_00440.jpg', 'YFT/img_02505.jpg', 'YFT/img_00395.jpg', 'YFT/img_07555.jpg', 'YFT/img_03327.jpg', 'YFT/img_00739.jpg', 'YFT/img_03480.jpg', 'YFT/img_06132.jpg', 'YFT/img_07107.jpg', 'YFT/img_05307.jpg', 'YFT/img_05729.jpg', 'YFT/img_03782.jpg', 'YFT/img_04694.jpg', 'YFT/img_01718.jpg', 'YFT/img_02247.jpg', 'YFT/img_01233.jpg', 'YFT/img_07462.jpg', 'YFT/img_04082.jpg', 'YFT/img_06672.jpg', 'YFT/img_02199.jpg', 'YFT/img_05656.jpg', 'YFT/img_01385.jpg', 'YFT/img_07752.jpg', 'YFT/img_04859.jpg', 'YFT/img_03183.jpg', 'YFT/img_01610.jpg', 'YFT/img_02274.jpg', 'YFT/img_00890.jpg', 'YFT/img_06729.jpg', 'YFT/img_05171.jpg', 'YFT/img_05451.jpg', 'YFT/img_06271.jpg', 'YFT/img_07510.jpg', 'YFT/img_02450.jpg', 'YFT/img_07055.jpg', 'YFT/img_01492.jpg', 'YFT/img_00139.jpg', 'YFT/img_02053.jpg', 'YFT/img_06304.jpg', 'YFT/img_04469.jpg', 'YFT/img_02690.jpg', 'YFT/img_05592.jpg', 'YFT/img_01959.jpg', 'YFT/img_07665.jpg', 'YFT/img_07344.jpg', 'YFT/img_04765.jpg', 'YFT/img_06054.jpg', 'YFT/img_05633.jpg', 'YFT/img_00092.jpg', 'YFT/img_02787.jpg', 'YFT/img_03607.jpg', 'YFT/img_07109.jpg', 'YFT/img_00004.jpg', 'YFT/img_01346.jpg', 'YFT/img_04302.jpg', 'YFT/img_02845.jpg', 'YFT/img_06152.jpg', 'YFT/img_07276.jpg', 'YFT/img_01217.jpg', 'YFT/img_02149.jpg', 'YFT/img_00218.jpg', 'YFT/img_07286.jpg', 'YFT/img_01808.jpg', 'YFT/img_02918.jpg', 'YFT/img_01835.jpg', 'YFT/img_07759.jpg', 'YFT/img_01456.jpg', 'YFT/img_03372.jpg', 'YFT/img_04087.jpg', 'YFT/img_00437.jpg', 'YFT/img_03824.jpg', 'YFT/img_02278.jpg', 'YFT/img_07499.jpg', 'YFT/img_06464.jpg', 'YFT/img_01301.jpg', 'YFT/img_01190.jpg', 'YFT/img_01974.jpg', 'YFT/img_05737.jpg', 'YFT/img_06486.jpg', 'YFT/img_03651.jpg', 'YFT/img_04255.jpg', 'YFT/img_06920.jpg', 'YFT/img_04911.jpg', 'YFT/img_00647.jpg', 'YFT/img_00925.jpg', 'YFT/img_00362.jpg', 'YFT/img_00827.jpg', 'YFT/img_00778.jpg', 'YFT/img_01521.jpg', 'YFT/img_05816.jpg', 'YFT/img_07513.jpg', 'YFT/img_00522.jpg', 'YFT/img_03755.jpg', 'YFT/img_05662.jpg', 'YFT/img_00743.jpg', 'YFT/img_06666.jpg', 'YFT/img_02173.jpg', 'YFT/img_05152.jpg', 'YFT/img_02351.jpg', 'YFT/img_07208.jpg', 'YFT/img_06846.jpg', 'YFT/img_07403.jpg', 'YFT/img_04526.jpg', 'YFT/img_04594.jpg', 'YFT/img_06782.jpg', 'YFT/img_00807.jpg', 'YFT/img_01886.jpg', 'YFT/img_07275.jpg', 'YFT/img_05913.jpg', 'YFT/img_03046.jpg', 'YFT/img_05143.jpg', 'YFT/img_03590.jpg', 'YFT/img_00184.jpg', 'YFT/img_01375.jpg', 'YFT/img_07250.jpg', 'YFT/img_05644.jpg', 'YFT/img_00114.jpg', 'YFT/img_02846.jpg', 'YFT/img_05036.jpg', 'YFT/img_02427.jpg', 'YFT/img_07400.jpg', 'YFT/img_00250.jpg', 'YFT/img_01429.jpg', 'YFT/img_06452.jpg', 'YFT/img_04626.jpg', 'YFT/img_06599.jpg', 'YFT/img_02559.jpg', 'YFT/img_01472.jpg', 'YFT/img_04533.jpg', 'YFT/img_01008.jpg', 'YFT/img_06875.jpg', 'YFT/img_03756.jpg', 'YFT/img_07290.jpg', 'YFT/img_05837.jpg', 'YFT/img_05122.jpg', 'YFT/img_07609.jpg', 'YFT/img_02713.jpg', 'YFT/img_03939.jpg', 'YFT/img_07891.jpg', 'YFT/img_04591.jpg', 'YFT/img_00540.jpg', 'YFT/img_03278.jpg', 'YFT/img_03015.jpg', 'YFT/img_03301.jpg', 'YFT/img_02673.jpg', 'YFT/img_00872.jpg', 'YFT/img_05417.jpg', 'YFT/img_04364.jpg', 'YFT/img_04908.jpg', 'YFT/img_03948.jpg', 'YFT/img_00801.jpg', 'YFT/img_06481.jpg', 'YFT/img_02275.jpg', 'YFT/img_02853.jpg', 'YFT/img_07731.jpg', 'YFT/img_01254.jpg', 'YFT/img_05014.jpg', 'YFT/img_02111.jpg', 'YFT/img_06805.jpg', 'YFT/img_00738.jpg', 'YFT/img_00815.jpg', 'YFT/img_04768.jpg', 'YFT/img_06145.jpg', 'YFT/img_06535.jpg', 'YFT/img_00769.jpg', 'YFT/img_06635.jpg', 'YFT/img_03514.jpg', 'YFT/img_01469.jpg', 'YFT/img_00313.jpg', 'YFT/img_00803.jpg']\n",
      "['unknown/img_01781.jpg', 'unknown/img_05139.jpg', 'unknown/img_04130.jpg', 'unknown/img_05209.jpg', 'unknown/img_03069.jpg', 'unknown/img_00005.jpg', 'unknown/img_06663.jpg', 'unknown/img_00046.jpg', 'unknown/img_02734.jpg', 'unknown/img_03891.jpg', 'unknown/img_04675.jpg', 'unknown/img_05580.jpg', 'unknown/img_04991.jpg', 'unknown/img_02964.jpg', 'unknown/img_06673.jpg', 'unknown/img_02789.jpg', 'unknown/img_06065.jpg', 'unknown/img_05292.jpg', 'unknown/img_03715.jpg', 'unknown/img_07428.jpg', 'unknown/img_05896.jpg', 'unknown/img_00175.jpg', 'unknown/img_03283.jpg', 'unknown/img_05341.jpg', 'unknown/img_01995.jpg', 'unknown/img_01930.jpg', 'unknown/img_05657.jpg', 'unknown/img_03718.jpg', 'unknown/img_07304.jpg', 'unknown/img_00697.jpg', 'unknown/img_06521.jpg', 'unknown/img_03471.jpg', 'unknown/img_01102.jpg', 'unknown/img_07045.jpg', 'unknown/img_05960.jpg', 'unknown/img_05046.jpg', 'unknown/img_05074.jpg', 'unknown/img_06174.jpg', 'unknown/img_04624.jpg', 'unknown/img_03261.jpg', 'unknown/img_04990.jpg', 'unknown/img_01633.jpg', 'unknown/img_05489.jpg', 'unknown/img_01224.jpg', 'unknown/img_06851.jpg', 'unknown/img_07187.jpg', 'unknown/img_01571.jpg', 'unknown/img_01495.jpg', 'unknown/img_05724.jpg', 'unknown/img_05584.jpg', 'unknown/img_05731.jpg', 'unknown/img_03527.jpg', 'unknown/img_05434.jpg', 'unknown/img_07314.jpg', 'unknown/img_02422.jpg', 'unknown/img_05284.jpg', 'unknown/img_03361.jpg', 'unknown/img_03490.jpg', 'unknown/img_01413.jpg', 'unknown/img_05568.jpg', 'unknown/img_02911.jpg', 'unknown/img_02406.jpg', 'unknown/img_01640.jpg', 'unknown/img_05426.jpg', 'unknown/img_06646.jpg', 'unknown/img_05076.jpg', 'unknown/img_05349.jpg', 'unknown/img_00999.jpg', 'unknown/img_00857.jpg', 'unknown/img_07079.jpg', 'unknown/img_06812.jpg', 'unknown/img_00289.jpg', 'unknown/img_02602.jpg', 'unknown/img_05038.jpg', 'unknown/img_00311.jpg', 'unknown/img_05520.jpg', 'unknown/img_07409.jpg', 'unknown/img_05084.jpg', 'unknown/img_05463.jpg', 'unknown/img_01505.jpg', 'unknown/img_07023.jpg', 'unknown/img_04044.jpg', 'unknown/img_02305.jpg', 'unknown/img_02282.jpg', 'unknown/img_00125.jpg', 'unknown/img_06962.jpg', 'unknown/img_06630.jpg', 'unknown/img_00180.jpg', 'unknown/img_04453.jpg', 'unknown/img_01782.jpg', 'unknown/img_05790.jpg', 'unknown/img_06506.jpg', 'unknown/img_06547.jpg', 'unknown/img_06662.jpg', 'unknown/img_00959.jpg', 'unknown/img_05976.jpg', 'unknown/img_07146.jpg', 'unknown/img_00223.jpg', 'unknown/img_01543.jpg', 'unknown/img_02563.jpg', 'unknown/img_04369.jpg', 'unknown/img_07330.jpg', 'unknown/img_00772.jpg', 'unknown/img_03074.jpg', 'unknown/img_02180.jpg', 'unknown/img_07590.jpg', 'unknown/img_04661.jpg', 'unknown/img_01932.jpg', 'unknown/img_04949.jpg', 'unknown/img_05640.jpg', 'unknown/img_02830.jpg', 'unknown/img_05322.jpg', 'unknown/img_02146.jpg', 'unknown/img_04419.jpg', 'unknown/img_06321.jpg', 'unknown/img_04427.jpg', 'unknown/img_03181.jpg', 'unknown/img_04423.jpg', 'unknown/img_03043.jpg', 'unknown/img_03825.jpg', 'unknown/img_07278.jpg', 'unknown/img_04719.jpg', 'unknown/img_01562.jpg', 'unknown/img_03252.jpg', 'unknown/img_07578.jpg', 'unknown/img_00551.jpg', 'unknown/img_06798.jpg', 'unknown/img_00244.jpg', 'unknown/img_05882.jpg', 'unknown/img_01373.jpg', 'unknown/img_03943.jpg', 'unknown/img_04310.jpg', 'unknown/img_04247.jpg', 'unknown/img_05950.jpg', 'unknown/img_04405.jpg', 'unknown/img_04126.jpg', 'unknown/img_06832.jpg', 'unknown/img_04546.jpg', 'unknown/img_04879.jpg', 'unknown/img_05516.jpg', 'unknown/img_07068.jpg', 'unknown/img_00564.jpg', 'unknown/img_02699.jpg', 'unknown/img_06947.jpg', 'unknown/img_00543.jpg', 'unknown/img_03140.jpg', 'unknown/img_04975.jpg', 'unknown/img_05359.jpg', 'unknown/img_07628.jpg', 'unknown/img_04696.jpg', 'unknown/img_06042.jpg', 'unknown/img_05916.jpg', 'unknown/img_02749.jpg', 'unknown/img_07663.jpg', 'unknown/img_07574.jpg', 'unknown/img_07910.jpg', 'unknown/img_07818.jpg', 'unknown/img_00374.jpg', 'unknown/img_03749.jpg', 'unknown/img_05981.jpg', 'unknown/img_04962.jpg', 'unknown/img_01717.jpg', 'unknown/img_04341.jpg', 'unknown/img_00285.jpg', 'unknown/img_04324.jpg', 'unknown/img_04181.jpg', 'unknown/img_00487.jpg', 'unknown/img_01771.jpg', 'unknown/img_05653.jpg', 'unknown/img_02703.jpg', 'unknown/img_05922.jpg', 'unknown/img_04183.jpg', 'unknown/img_03260.jpg', 'unknown/img_06807.jpg', 'unknown/img_05824.jpg', 'unknown/img_00493.jpg', 'unknown/img_02356.jpg', 'unknown/img_07179.jpg', 'unknown/img_07505.jpg', 'unknown/img_05273.jpg', 'unknown/img_00432.jpg', 'unknown/img_00962.jpg', 'unknown/img_03452.jpg', 'unknown/img_00161.jpg', 'unknown/img_03270.jpg', 'unknown/img_02083.jpg', 'unknown/img_05958.jpg', 'unknown/img_03602.jpg', 'unknown/img_06189.jpg', 'unknown/img_00591.jpg', 'unknown/img_02865.jpg', 'unknown/img_05021.jpg', 'unknown/img_06637.jpg', 'unknown/img_07199.jpg', 'unknown/img_00667.jpg', 'unknown/img_01211.jpg', 'unknown/img_07426.jpg', 'unknown/img_00232.jpg', 'unknown/img_00550.jpg', 'unknown/img_04496.jpg', 'unknown/img_05864.jpg', 'unknown/img_06033.jpg', 'unknown/img_04422.jpg', 'unknown/img_06914.jpg', 'unknown/img_06585.jpg', 'unknown/img_06922.jpg', 'unknown/img_07348.jpg', 'unknown/img_00196.jpg', 'unknown/img_05879.jpg', 'unknown/img_00473.jpg', 'unknown/img_02656.jpg', 'unknown/img_06210.jpg', 'unknown/img_00760.jpg', 'unknown/img_05967.jpg', 'unknown/img_05068.jpg', 'unknown/img_04726.jpg', 'unknown/img_04375.jpg', 'unknown/img_05805.jpg', 'unknown/img_03199.jpg', 'unknown/img_05948.jpg', 'unknown/img_03223.jpg', 'unknown/img_01888.jpg', 'unknown/img_05963.jpg', 'unknown/img_06985.jpg', 'unknown/img_02159.jpg', 'unknown/img_00773.jpg', 'unknown/img_06067.jpg', 'unknown/img_05268.jpg', 'unknown/img_06616.jpg', 'unknown/img_06899.jpg', 'unknown/img_05156.jpg', 'unknown/img_04321.jpg', 'unknown/img_03135.jpg', 'unknown/img_06611.jpg', 'unknown/img_06614.jpg', 'unknown/img_01222.jpg', 'unknown/img_03942.jpg', 'unknown/img_07192.jpg', 'unknown/img_00943.jpg', 'unknown/img_06936.jpg', 'unknown/img_04642.jpg', 'unknown/img_05775.jpg', 'unknown/img_06510.jpg', 'unknown/img_06808.jpg', 'unknown/img_03440.jpg', 'unknown/img_06259.jpg', 'unknown/img_03116.jpg', 'unknown/img_00109.jpg', 'unknown/img_07005.jpg', 'unknown/img_03324.jpg', 'unknown/img_03239.jpg', 'unknown/img_06946.jpg', 'unknown/img_04507.jpg', 'unknown/img_01379.jpg', 'unknown/img_07084.jpg', 'unknown/img_03290.jpg', 'unknown/img_04001.jpg', 'unknown/img_05085.jpg', 'unknown/img_00654.jpg', 'unknown/img_00599.jpg', 'unknown/img_03087.jpg', 'unknown/img_01392.jpg', 'unknown/img_00914.jpg', 'unknown/img_03014.jpg', 'unknown/img_02307.jpg', 'unknown/img_07147.jpg', 'unknown/img_03297.jpg', 'unknown/img_02956.jpg', 'unknown/img_03082.jpg', 'unknown/img_02398.jpg', 'unknown/img_00948.jpg', 'unknown/img_02646.jpg', 'unknown/img_07417.jpg', 'unknown/img_02416.jpg', 'unknown/img_03128.jpg', 'unknown/img_04272.jpg', 'unknown/img_00518.jpg', 'unknown/img_00837.jpg', 'unknown/img_07553.jpg', 'unknown/img_03652.jpg', 'unknown/img_01853.jpg', 'unknown/img_01253.jpg', 'unknown/img_02842.jpg', 'unknown/img_02764.jpg', 'unknown/img_04240.jpg', 'unknown/img_00164.jpg', 'unknown/img_01673.jpg', 'unknown/img_03445.jpg', 'unknown/img_03488.jpg', 'unknown/img_03346.jpg', 'unknown/img_04870.jpg', 'unknown/img_06780.jpg', 'unknown/img_04282.jpg', 'unknown/img_02876.jpg', 'unknown/img_00982.jpg', 'unknown/img_03801.jpg', 'unknown/img_06332.jpg', 'unknown/img_04237.jpg', 'unknown/img_02270.jpg', 'unknown/img_01441.jpg', 'unknown/img_03581.jpg', 'unknown/img_06525.jpg', 'unknown/img_05508.jpg', 'unknown/img_03931.jpg', 'unknown/img_04136.jpg', 'unknown/img_05722.jpg', 'unknown/img_01684.jpg', 'unknown/img_06010.jpg', 'unknown/img_02318.jpg', 'unknown/img_06099.jpg', 'unknown/img_05838.jpg', 'unknown/img_01593.jpg', 'unknown/img_07044.jpg', 'unknown/img_03548.jpg', 'unknown/img_05654.jpg', 'unknown/img_03426.jpg', 'unknown/img_01627.jpg', 'unknown/img_02916.jpg', 'unknown/img_00765.jpg', 'unknown/img_01976.jpg', 'unknown/img_01405.jpg', 'unknown/img_07514.jpg', 'unknown/img_00533.jpg', 'unknown/img_07191.jpg', 'unknown/img_04285.jpg', 'unknown/img_00486.jpg', 'unknown/img_06440.jpg', 'unknown/img_01595.jpg', 'unknown/img_04959.jpg', 'unknown/img_03967.jpg', 'unknown/img_02636.jpg', 'unknown/img_01142.jpg', 'unknown/img_07859.jpg', 'unknown/img_02074.jpg', 'unknown/img_01384.jpg', 'unknown/img_00646.jpg', 'unknown/img_01552.jpg', 'unknown/img_07792.jpg', 'unknown/img_00230.jpg', 'unknown/img_03410.jpg', 'unknown/img_04076.jpg', 'unknown/img_05378.jpg', 'unknown/img_06059.jpg', 'unknown/img_01541.jpg', 'unknown/img_02479.jpg', 'unknown/img_03422.jpg', 'unknown/img_05792.jpg', 'unknown/img_01616.jpg', 'unknown/img_03853.jpg', 'unknown/img_02556.jpg', 'unknown/img_03064.jpg', 'unknown/img_01031.jpg', 'unknown/img_04138.jpg', 'unknown/img_04585.jpg', 'unknown/img_00927.jpg', 'unknown/img_04024.jpg', 'unknown/img_01058.jpg', 'unknown/img_03310.jpg', 'unknown/img_06037.jpg', 'unknown/img_06021.jpg', 'unknown/img_03764.jpg', 'unknown/img_02096.jpg', 'unknown/img_07120.jpg', 'unknown/img_06916.jpg', 'unknown/img_06137.jpg', 'unknown/img_07043.jpg', 'unknown/img_05908.jpg', 'unknown/img_00120.jpg', 'unknown/img_04382.jpg', 'unknown/img_03674.jpg', 'unknown/img_06845.jpg', 'unknown/img_07501.jpg', 'unknown/img_01538.jpg', 'unknown/img_04705.jpg', 'unknown/img_06349.jpg', 'unknown/img_02808.jpg', 'unknown/img_03454.jpg', 'unknown/img_06294.jpg', 'unknown/img_03055.jpg', 'unknown/img_00642.jpg', 'unknown/img_02641.jpg', 'unknown/img_00858.jpg', 'unknown/img_07173.jpg', 'unknown/img_04115.jpg', 'unknown/img_04860.jpg', 'unknown/img_02666.jpg', 'unknown/img_05595.jpg', 'unknown/img_04562.jpg', 'unknown/img_01918.jpg', 'unknown/img_06939.jpg', 'unknown/img_06238.jpg', 'unknown/img_03504.jpg', 'unknown/img_05119.jpg', 'unknown/img_00358.jpg', 'unknown/img_01431.jpg', 'unknown/img_06261.jpg', 'unknown/img_06685.jpg', 'unknown/img_00484.jpg', 'unknown/img_06268.jpg', 'unknown/img_00855.jpg', 'unknown/img_03869.jpg', 'unknown/img_06658.jpg', 'unknown/img_04750.jpg', 'unknown/img_00119.jpg', 'unknown/img_04003.jpg', 'unknown/img_02974.jpg', 'unknown/img_01802.jpg', 'unknown/img_07528.jpg', 'unknown/img_07448.jpg', 'unknown/img_04004.jpg', 'unknown/img_04921.jpg', 'unknown/img_05612.jpg', 'unknown/img_04640.jpg', 'unknown/img_05015.jpg', 'unknown/img_05137.jpg', 'unknown/img_00648.jpg', 'unknown/img_01831.jpg', 'unknown/img_06165.jpg', 'unknown/img_07908.jpg', 'unknown/img_07469.jpg', 'unknown/img_07054.jpg', 'unknown/img_05479.jpg', 'unknown/img_00027.jpg', 'unknown/img_03677.jpg', 'unknown/img_01426.jpg', 'unknown/img_02372.jpg', 'unknown/img_01716.jpg', 'unknown/img_02076.jpg', 'unknown/img_05186.jpg', 'unknown/img_06412.jpg', 'unknown/img_00889.jpg', 'unknown/img_01834.jpg', 'unknown/img_04386.jpg', 'unknown/img_03627.jpg', 'unknown/img_01198.jpg', 'unknown/img_02565.jpg', 'unknown/img_05673.jpg', 'unknown/img_06921.jpg', 'unknown/img_00375.jpg', 'unknown/img_06426.jpg', 'unknown/img_01803.jpg', 'unknown/img_06909.jpg', 'unknown/img_01983.jpg', 'unknown/img_02231.jpg', 'unknown/img_02540.jpg', 'unknown/img_06285.jpg', 'unknown/img_07757.jpg', 'unknown/img_00894.jpg', 'unknown/img_00383.jpg', 'unknown/img_00724.jpg', 'unknown/img_01966.jpg', 'unknown/img_03169.jpg', 'unknown/img_02135.jpg', 'unknown/img_07237.jpg', 'unknown/img_05743.jpg', 'unknown/img_04888.jpg', 'unknown/img_01177.jpg', 'unknown/img_06986.jpg', 'unknown/img_07231.jpg', 'unknown/img_02281.jpg', 'unknown/img_05817.jpg', 'unknown/img_02702.jpg', 'unknown/img_00292.jpg', 'unknown/img_05095.jpg', 'unknown/img_00584.jpg', 'unknown/img_02412.jpg', 'unknown/img_02889.jpg', 'unknown/img_00729.jpg', 'unknown/img_02486.jpg', 'unknown/img_06237.jpg', 'unknown/img_01561.jpg', 'unknown/img_01862.jpg', 'unknown/img_07893.jpg', 'unknown/img_04511.jpg', 'unknown/img_00816.jpg', 'unknown/img_02285.jpg', 'unknown/img_07717.jpg', 'unknown/img_05692.jpg', 'unknown/img_04037.jpg', 'unknown/img_01955.jpg', 'unknown/img_00575.jpg', 'unknown/img_03222.jpg', 'unknown/img_03355.jpg', 'unknown/img_02124.jpg', 'unknown/img_07149.jpg', 'unknown/img_03929.jpg', 'unknown/img_07526.jpg', 'unknown/img_05835.jpg', 'unknown/img_02188.jpg', 'unknown/img_06783.jpg', 'unknown/img_03923.jpg', 'unknown/img_01286.jpg', 'unknown/img_00320.jpg', 'unknown/img_05059.jpg', 'unknown/img_03945.jpg', 'unknown/img_02309.jpg', 'unknown/img_00129.jpg', 'unknown/img_05336.jpg', 'unknown/img_04559.jpg', 'unknown/img_07434.jpg', 'unknown/img_01103.jpg', 'unknown/img_06272.jpg', 'unknown/img_05185.jpg', 'unknown/img_02546.jpg', 'unknown/img_07270.jpg', 'unknown/img_00152.jpg', 'unknown/img_07563.jpg', 'unknown/img_01022.jpg', 'unknown/img_04740.jpg', 'unknown/img_04408.jpg', 'unknown/img_06698.jpg', 'unknown/img_02766.jpg', 'unknown/img_02834.jpg', 'unknown/img_00717.jpg', 'unknown/img_00102.jpg', 'unknown/img_00272.jpg', 'unknown/img_06346.jpg', 'unknown/img_02252.jpg', 'unknown/img_05087.jpg', 'unknown/img_03896.jpg', 'unknown/img_06959.jpg', 'unknown/img_02904.jpg', 'unknown/img_00833.jpg', 'unknown/img_04766.jpg', 'unknown/img_04266.jpg', 'unknown/img_07580.jpg', 'unknown/img_01090.jpg', 'unknown/img_00071.jpg', 'unknown/img_00170.jpg', 'unknown/img_02384.jpg', 'unknown/img_00726.jpg', 'unknown/img_04370.jpg', 'unknown/img_03554.jpg', 'unknown/img_06559.jpg', 'unknown/img_01519.jpg', 'unknown/img_02771.jpg', 'unknown/img_05721.jpg', 'unknown/img_06003.jpg', 'unknown/img_06475.jpg', 'unknown/img_02648.jpg', 'unknown/img_05147.jpg', 'unknown/img_05293.jpg', 'unknown/img_02949.jpg', 'unknown/img_05475.jpg', 'unknown/img_05572.jpg', 'unknown/img_07460.jpg', 'unknown/img_03588.jpg', 'unknown/img_05328.jpg', 'unknown/img_03563.jpg', 'unknown/img_02119.jpg', 'unknown/img_05539.jpg', 'unknown/img_00282.jpg', 'unknown/img_05445.jpg', 'unknown/img_04425.jpg', 'unknown/img_04013.jpg', 'unknown/img_00018.jpg', 'unknown/img_02573.jpg', 'unknown/img_00708.jpg', 'unknown/img_02507.jpg', 'unknown/img_06732.jpg', 'unknown/img_02899.jpg', 'unknown/img_05055.jpg', 'unknown/img_01618.jpg', 'unknown/img_03974.jpg', 'unknown/img_03547.jpg', 'unknown/img_07746.jpg', 'unknown/img_01325.jpg', 'unknown/img_02487.jpg', 'unknown/img_02954.jpg', 'unknown/img_05393.jpg', 'unknown/img_05211.jpg', 'unknown/img_02679.jpg', 'unknown/img_06207.jpg', 'unknown/img_05454.jpg', 'unknown/img_02890.jpg', 'unknown/img_02209.jpg', 'unknown/img_03760.jpg', 'unknown/img_06831.jpg', 'unknown/img_06424.jpg', 'unknown/img_05488.jpg', 'unknown/img_01669.jpg', 'unknown/img_04221.jpg', 'unknown/img_02574.jpg', 'unknown/img_06211.jpg', 'unknown/img_02560.jpg', 'unknown/img_01328.jpg', 'unknown/img_04795.jpg', 'unknown/img_07921.jpg', 'unknown/img_06870.jpg', 'unknown/img_07051.jpg', 'unknown/img_06975.jpg', 'unknown/img_05196.jpg', 'unknown/img_01530.jpg', 'unknown/img_04073.jpg', 'unknown/img_06892.jpg', 'unknown/img_02622.jpg', 'unknown/img_05244.jpg', 'unknown/img_01213.jpg', 'unknown/img_06849.jpg', 'unknown/img_04306.jpg', 'unknown/img_05623.jpg', 'unknown/img_04856.jpg', 'unknown/img_04830.jpg', 'unknown/img_06966.jpg', 'unknown/img_00921.jpg', 'unknown/img_00376.jpg', 'unknown/img_01249.jpg', 'unknown/img_04410.jpg', 'unknown/img_07156.jpg', 'unknown/img_07354.jpg', 'unknown/img_06642.jpg', 'unknown/img_05439.jpg', 'unknown/img_05719.jpg', 'unknown/img_05269.jpg', 'unknown/img_04127.jpg', 'unknown/img_00212.jpg', 'unknown/img_04757.jpg', 'unknown/img_03776.jpg', 'unknown/img_06477.jpg', 'unknown/img_04563.jpg', 'unknown/img_01647.jpg', 'unknown/img_04603.jpg', 'unknown/img_06455.jpg', 'unknown/img_05016.jpg', 'unknown/img_03847.jpg', 'unknown/img_03457.jpg', 'unknown/img_05940.jpg', 'unknown/img_01773.jpg', 'unknown/img_00040.jpg', 'unknown/img_02522.jpg', 'unknown/img_00380.jpg', 'unknown/img_01688.jpg', 'unknown/img_06541.jpg', 'unknown/img_05766.jpg', 'unknown/img_03370.jpg', 'unknown/img_04478.jpg', 'unknown/img_03444.jpg', 'unknown/img_07895.jpg', 'unknown/img_06800.jpg', 'unknown/img_04586.jpg', 'unknown/img_00075.jpg', 'unknown/img_04118.jpg', 'unknown/img_03809.jpg', 'unknown/img_01649.jpg', 'unknown/img_01035.jpg', 'unknown/img_07062.jpg', 'unknown/img_00171.jpg', 'unknown/img_07143.jpg', 'unknown/img_00612.jpg', 'unknown/img_07086.jpg', 'unknown/img_06469.jpg', 'unknown/img_06147.jpg', 'unknown/img_04271.jpg', 'unknown/img_06302.jpg', 'unknown/img_03584.jpg', 'unknown/img_06608.jpg', 'unknown/img_03952.jpg', 'unknown/img_00103.jpg', 'unknown/img_00964.jpg', 'unknown/img_05603.jpg', 'unknown/img_07103.jpg', 'unknown/img_05492.jpg', 'unknown/img_06734.jpg', 'unknown/img_00664.jpg', 'unknown/img_05768.jpg', 'unknown/img_03670.jpg', 'unknown/img_02347.jpg', 'unknown/img_07474.jpg', 'unknown/img_03871.jpg', 'unknown/img_03628.jpg', 'unknown/img_03220.jpg', 'unknown/img_07094.jpg', 'unknown/img_03520.jpg', 'unknown/img_02379.jpg', 'unknown/img_01847.jpg', 'unknown/img_00950.jpg', 'unknown/img_06690.jpg', 'unknown/img_00469.jpg', 'unknown/img_02871.jpg', 'unknown/img_00974.jpg', 'unknown/img_01657.jpg', 'unknown/img_00582.jpg', 'unknown/img_05438.jpg', 'unknown/img_01404.jpg', 'unknown/img_04671.jpg', 'unknown/img_03456.jpg', 'unknown/img_07508.jpg', 'unknown/img_04129.jpg', 'unknown/img_05471.jpg', 'unknown/img_00138.jpg', 'unknown/img_00650.jpg', 'unknown/img_01366.jpg', 'unknown/img_06203.jpg', 'unknown/img_06001.jpg', 'unknown/img_02367.jpg', 'unknown/img_00172.jpg', 'unknown/img_02799.jpg', 'unknown/img_00483.jpg', 'unknown/img_02739.jpg', 'unknown/img_02687.jpg', 'unknown/img_05989.jpg', 'unknown/img_00902.jpg', 'unknown/img_02078.jpg', 'unknown/img_07616.jpg', 'unknown/img_00598.jpg', 'unknown/img_04257.jpg', 'unknown/img_00865.jpg', 'unknown/img_04261.jpg', 'unknown/img_05857.jpg', 'unknown/img_07137.jpg', 'unknown/img_07318.jpg', 'unknown/img_02625.jpg', 'unknown/img_03726.jpg', 'unknown/img_02943.jpg', 'unknown/img_03711.jpg', 'unknown/img_04811.jpg', 'unknown/img_01511.jpg', 'unknown/img_00764.jpg', 'unknown/img_00777.jpg', 'unknown/img_04814.jpg', 'unknown/img_00780.jpg', 'unknown/img_07352.jpg', 'unknown/img_07689.jpg', 'unknown/img_01043.jpg', 'unknown/img_00587.jpg', 'unknown/img_05192.jpg', 'unknown/img_01984.jpg', 'unknown/img_02651.jpg', 'unknown/img_06522.jpg', 'unknown/img_05979.jpg', 'unknown/img_03231.jpg', 'unknown/img_00133.jpg', 'unknown/img_01237.jpg', 'unknown/img_06555.jpg', 'unknown/img_04415.jpg', 'unknown/img_03195.jpg', 'unknown/img_03228.jpg', 'unknown/img_05755.jpg', 'unknown/img_04015.jpg', 'unknown/img_01490.jpg', 'unknown/img_00442.jpg', 'unknown/img_07050.jpg', 'unknown/img_04233.jpg', 'unknown/img_00407.jpg', 'unknown/img_07561.jpg', 'unknown/img_05525.jpg', 'unknown/img_07188.jpg', 'unknown/img_02299.jpg', 'unknown/img_05210.jpg', 'unknown/img_01963.jpg', 'unknown/img_03831.jpg', 'unknown/img_01824.jpg', 'unknown/img_07319.jpg', 'unknown/img_00618.jpg', 'unknown/img_03342.jpg', 'unknown/img_04657.jpg', 'unknown/img_04554.jpg', 'unknown/img_03995.jpg', 'unknown/img_07110.jpg', 'unknown/img_01388.jpg', 'unknown/img_00676.jpg', 'unknown/img_03739.jpg', 'unknown/img_03254.jpg', 'unknown/img_06748.jpg', 'unknown/img_07157.jpg', 'unknown/img_03439.jpg', 'unknown/img_07659.jpg', 'unknown/img_01537.jpg', 'unknown/img_03996.jpg', 'unknown/img_06318.jpg', 'unknown/img_07213.jpg', 'unknown/img_07583.jpg', 'unknown/img_01116.jpg', 'unknown/img_06324.jpg', 'unknown/img_05251.jpg', 'unknown/img_06345.jpg', 'unknown/img_06369.jpg', 'unknown/img_01134.jpg', 'unknown/img_06103.jpg', 'unknown/img_02291.jpg', 'unknown/img_04503.jpg', 'unknown/img_05672.jpg', 'unknown/img_07122.jpg', 'unknown/img_05718.jpg', 'unknown/img_06806.jpg', 'unknown/img_06144.jpg', 'unknown/img_07467.jpg', 'unknown/img_05264.jpg', 'unknown/img_03475.jpg', 'unknown/img_07375.jpg', 'unknown/img_04390.jpg', 'unknown/img_05613.jpg', 'unknown/img_06101.jpg', 'unknown/img_00730.jpg', 'unknown/img_05410.jpg', 'unknown/img_01444.jpg', 'unknown/img_02001.jpg', 'unknown/img_05587.jpg', 'unknown/img_03238.jpg', 'unknown/img_02838.jpg', 'unknown/img_05459.jpg', 'unknown/img_05794.jpg', 'unknown/img_05953.jpg', 'unknown/img_01208.jpg', 'unknown/img_03805.jpg', 'unknown/img_06681.jpg', 'unknown/img_05927.jpg', 'unknown/img_06859.jpg', 'unknown/img_01874.jpg', 'unknown/img_01856.jpg', 'unknown/img_03867.jpg', 'unknown/img_06311.jpg', 'unknown/img_01377.jpg', 'unknown/img_03837.jpg', 'unknown/img_03333.jpg', 'unknown/img_03587.jpg', 'unknown/img_03210.jpg', 'unknown/img_04156.jpg', 'unknown/img_00007.jpg', 'unknown/img_04532.jpg', 'unknown/img_05276.jpg', 'unknown/img_07251.jpg', 'unknown/img_00009.jpg', 'unknown/img_04482.jpg', 'unknown/img_01681.jpg', 'unknown/img_03312.jpg', 'unknown/img_03078.jpg', 'unknown/img_02837.jpg', 'unknown/img_06401.jpg', 'unknown/img_04723.jpg', 'unknown/img_02216.jpg', 'unknown/img_05064.jpg', 'unknown/img_04647.jpg', 'unknown/img_02759.jpg', 'unknown/img_02993.jpg', 'unknown/img_07060.jpg', 'unknown/img_03866.jpg', 'unknown/img_07872.jpg', 'unknown/img_06549.jpg', 'unknown/img_04872.jpg', 'unknown/img_02607.jpg', 'unknown/img_00876.jpg', 'unknown/img_07905.jpg', 'unknown/img_02235.jpg', 'unknown/img_06508.jpg', 'unknown/img_07799.jpg', 'unknown/img_05828.jpg', 'unknown/img_06371.jpg', 'unknown/img_04128.jpg', 'unknown/img_07538.jpg', 'unknown/img_06756.jpg', 'unknown/img_00417.jpg', 'unknown/img_02638.jpg', 'unknown/img_00716.jpg', 'unknown/img_07371.jpg', 'unknown/img_02268.jpg', 'unknown/img_07623.jpg', 'unknown/img_01548.jpg', 'unknown/img_05563.jpg', 'unknown/img_00128.jpg', 'unknown/img_02066.jpg', 'unknown/img_01399.jpg', 'unknown/img_00763.jpg', 'unknown/img_02082.jpg', 'unknown/img_02006.jpg', 'unknown/img_05253.jpg', 'unknown/img_01204.jpg', 'unknown/img_01996.jpg', 'unknown/img_03166.jpg', 'unknown/img_02977.jpg', 'unknown/img_02857.jpg', 'unknown/img_00302.jpg', 'unknown/img_03399.jpg', 'unknown/img_03446.jpg', 'unknown/img_00966.jpg', 'unknown/img_03080.jpg', 'unknown/img_06860.jpg', 'unknown/img_00030.jpg', 'unknown/img_05236.jpg', 'unknown/img_05548.jpg', 'unknown/img_07065.jpg', 'unknown/img_05813.jpg', 'unknown/img_07420.jpg', 'unknown/img_04752.jpg', 'unknown/img_03935.jpg', 'unknown/img_07700.jpg', 'unknown/img_06273.jpg', 'unknown/img_04250.jpg', 'unknown/img_04629.jpg', 'unknown/img_07183.jpg', 'unknown/img_00141.jpg', 'unknown/img_06186.jpg', 'unknown/img_07594.jpg', 'unknown/img_02194.jpg', 'unknown/img_01168.jpg', 'unknown/img_01171.jpg', 'unknown/img_01724.jpg', 'unknown/img_00757.jpg', 'unknown/img_05682.jpg', 'unknown/img_07436.jpg', 'unknown/img_04885.jpg', 'unknown/img_04432.jpg', 'unknown/img_01371.jpg', 'unknown/img_06893.jpg', 'unknown/img_04101.jpg', 'unknown/img_01860.jpg', 'unknown/img_02769.jpg', 'unknown/img_05260.jpg', 'unknown/img_04036.jpg', 'unknown/img_03502.jpg', 'unknown/img_04479.jpg', 'unknown/img_03229.jpg', 'unknown/img_01059.jpg', 'unknown/img_03924.jpg', 'unknown/img_04061.jpg', 'unknown/img_03946.jpg', 'unknown/img_07543.jpg', 'unknown/img_00446.jpg', 'unknown/img_01188.jpg', 'unknown/img_05915.jpg', 'unknown/img_05030.jpg', 'unknown/img_03941.jpg', 'unknown/img_00723.jpg', 'unknown/img_01825.jpg', 'unknown/img_03992.jpg', 'unknown/img_05735.jpg', 'unknown/img_01685.jpg', 'unknown/img_07621.jpg', 'unknown/img_06076.jpg', 'unknown/img_07906.jpg', 'unknown/img_02709.jpg', 'unknown/img_03886.jpg', 'unknown/img_04069.jpg', 'unknown/img_01289.jpg', 'unknown/img_04263.jpg', 'unknown/img_00398.jpg', 'unknown/img_05222.jpg', 'unknown/img_00979.jpg', 'unknown/img_06496.jpg', 'unknown/img_05078.jpg', 'unknown/img_07224.jpg', 'unknown/img_02172.jpg', 'unknown/img_02400.jpg', 'unknown/img_00590.jpg', 'unknown/img_04204.jpg', 'unknown/img_06097.jpg', 'unknown/img_05026.jpg', 'unknown/img_01687.jpg', 'unknown/img_02733.jpg', 'unknown/img_02920.jpg', 'unknown/img_00798.jpg', 'unknown/img_00053.jpg', 'unknown/img_00620.jpg', 'unknown/img_04461.jpg', 'unknown/img_04268.jpg', 'unknown/img_00280.jpg', 'unknown/img_01745.jpg', 'unknown/img_07419.jpg', 'unknown/img_06368.jpg', 'unknown/img_05433.jpg', 'unknown/img_06571.jpg', 'unknown/img_04323.jpg', 'unknown/img_01646.jpg', 'unknown/img_05615.jpg', 'unknown/img_00718.jpg', 'unknown/img_01632.jpg', 'unknown/img_00828.jpg', 'unknown/img_01689.jpg', 'unknown/img_04520.jpg', 'unknown/img_06564.jpg', 'unknown/img_06955.jpg', 'unknown/img_04145.jpg', 'unknown/img_02726.jpg', 'unknown/img_06373.jpg', 'unknown/img_04002.jpg', 'unknown/img_03750.jpg', 'unknown/img_05558.jpg', 'unknown/img_02077.jpg', 'unknown/img_06489.jpg', 'unknown/img_05740.jpg', 'unknown/img_06684.jpg', 'unknown/img_03892.jpg', 'unknown/img_00808.jpg', 'unknown/img_03928.jpg', 'unknown/img_06902.jpg', 'unknown/img_01179.jpg', 'unknown/img_05241.jpg', 'unknown/img_04712.jpg', 'unknown/img_02811.jpg', 'unknown/img_06038.jpg', 'unknown/img_05440.jpg', 'unknown/img_07678.jpg', 'unknown/img_00985.jpg', 'unknown/img_07833.jpg', 'unknown/img_07160.jpg', 'unknown/img_04476.jpg', 'unknown/img_00331.jpg', 'unknown/img_00538.jpg', 'unknown/img_04835.jpg', 'unknown/img_05754.jpg']\n"
     ]
    }
   ],
   "source": [
    "print(val_filenames)\n",
    "print(train_filenames)\n",
    "print(test_filenames)"
   ]
  },
  {
   "cell_type": "code",
   "execution_count": 6,
   "metadata": {
    "ExecuteTime": {
     "end_time": "2017-07-25T10:20:28.774156Z",
     "start_time": "2017-07-25T10:20:28.764906Z"
    },
    "collapsed": true
   },
   "outputs": [],
   "source": [
    "# removing path\n",
    "remove_path = lambda y: [x.split('/')[-1] for x in y]\n",
    "raw_train_filenames = remove_path(train_filenames)\n",
    "raw_val_filenames = remove_path(val_filenames)\n",
    "raw_test_filenames = remove_path(test_filenames)"
   ]
  },
  {
   "cell_type": "code",
   "execution_count": 7,
   "metadata": {
    "ExecuteTime": {
     "end_time": "2017-07-25T10:24:54.729242Z",
     "start_time": "2017-07-25T10:20:28.776205Z"
    },
    "collapsed": false
   },
   "outputs": [
    {
     "name": "stdout",
     "output_type": "stream",
     "text": [
      "Found 3277 images belonging to 8 classes.\n",
      "Found 500 images belonging to 8 classes.\n",
      "Found 1000 images belonging to 1 classes.\n"
     ]
    }
   ],
   "source": [
    "train_data = get_data('data/fish/train', (360, 640))\n",
    "val_data   = get_data('data/fish/valid', (360, 640))\n",
    "test_data  = get_data('data/fish/test', (360, 640))"
   ]
  },
  {
   "cell_type": "code",
   "execution_count": 8,
   "metadata": {
    "ExecuteTime": {
     "end_time": "2017-07-25T10:24:55.127500Z",
     "start_time": "2017-07-25T10:24:54.731085Z"
    },
    "collapsed": false
   },
   "outputs": [],
   "source": [
    "from vgg16bn import Vgg16BN\n",
    "model = Vgg16BN((360, 640)).model\n",
    "model.pop()"
   ]
  },
  {
   "cell_type": "code",
   "execution_count": 9,
   "metadata": {
    "ExecuteTime": {
     "end_time": "2017-07-25T10:24:55.136648Z",
     "start_time": "2017-07-25T10:24:55.129621Z"
    },
    "collapsed": false
   },
   "outputs": [
    {
     "data": {
      "text/plain": [
       "(None, 3, 360, 640)"
      ]
     },
     "execution_count": 9,
     "metadata": {},
     "output_type": "execute_result"
    }
   ],
   "source": [
    "model.input_shape"
   ]
  },
  {
   "cell_type": "code",
   "execution_count": 10,
   "metadata": {
    "ExecuteTime": {
     "end_time": "2017-07-25T10:24:55.143778Z",
     "start_time": "2017-07-25T10:24:55.138837Z"
    },
    "collapsed": false
   },
   "outputs": [
    {
     "data": {
      "text/plain": [
       "(None, 512, 22, 40)"
      ]
     },
     "execution_count": 10,
     "metadata": {},
     "output_type": "execute_result"
    }
   ],
   "source": [
    "model.output_shape"
   ]
  },
  {
   "cell_type": "code",
   "execution_count": 11,
   "metadata": {
    "ExecuteTime": {
     "end_time": "2017-07-25T10:24:57.150146Z",
     "start_time": "2017-07-25T10:24:55.145375Z"
    },
    "collapsed": false
   },
   "outputs": [
    {
     "name": "stdout",
     "output_type": "stream",
     "text": [
      "____________________________________________________________________________________________________\n",
      "Layer (type)                     Output Shape          Param #     Connected to                     \n",
      "====================================================================================================\n",
      "lambda_1 (Lambda)                (None, 3, 360, 640)   0           lambda_input_1[0][0]             \n",
      "____________________________________________________________________________________________________\n",
      "zeropadding2d_1 (ZeroPadding2D)  (None, 3, 362, 642)   0           lambda_1[0][0]                   \n",
      "____________________________________________________________________________________________________\n",
      "convolution2d_1 (Convolution2D)  (None, 64, 360, 640)  1792        zeropadding2d_1[0][0]            \n",
      "____________________________________________________________________________________________________\n",
      "zeropadding2d_2 (ZeroPadding2D)  (None, 64, 362, 642)  0           convolution2d_1[0][0]            \n",
      "____________________________________________________________________________________________________\n",
      "convolution2d_2 (Convolution2D)  (None, 64, 360, 640)  36928       zeropadding2d_2[0][0]            \n",
      "____________________________________________________________________________________________________\n",
      "maxpooling2d_1 (MaxPooling2D)    (None, 64, 180, 320)  0           convolution2d_2[0][0]            \n",
      "____________________________________________________________________________________________________\n",
      "zeropadding2d_3 (ZeroPadding2D)  (None, 64, 182, 322)  0           maxpooling2d_1[0][0]             \n",
      "____________________________________________________________________________________________________\n",
      "convolution2d_3 (Convolution2D)  (None, 128, 180, 320) 73856       zeropadding2d_3[0][0]            \n",
      "____________________________________________________________________________________________________\n",
      "zeropadding2d_4 (ZeroPadding2D)  (None, 128, 182, 322) 0           convolution2d_3[0][0]            \n",
      "____________________________________________________________________________________________________\n",
      "convolution2d_4 (Convolution2D)  (None, 128, 180, 320) 147584      zeropadding2d_4[0][0]            \n",
      "____________________________________________________________________________________________________\n",
      "maxpooling2d_2 (MaxPooling2D)    (None, 128, 90, 160)  0           convolution2d_4[0][0]            \n",
      "____________________________________________________________________________________________________\n",
      "zeropadding2d_5 (ZeroPadding2D)  (None, 128, 92, 162)  0           maxpooling2d_2[0][0]             \n",
      "____________________________________________________________________________________________________\n",
      "convolution2d_5 (Convolution2D)  (None, 256, 90, 160)  295168      zeropadding2d_5[0][0]            \n",
      "____________________________________________________________________________________________________\n",
      "zeropadding2d_6 (ZeroPadding2D)  (None, 256, 92, 162)  0           convolution2d_5[0][0]            \n",
      "____________________________________________________________________________________________________\n",
      "convolution2d_6 (Convolution2D)  (None, 256, 90, 160)  590080      zeropadding2d_6[0][0]            \n",
      "____________________________________________________________________________________________________\n",
      "zeropadding2d_7 (ZeroPadding2D)  (None, 256, 92, 162)  0           convolution2d_6[0][0]            \n",
      "____________________________________________________________________________________________________\n",
      "convolution2d_7 (Convolution2D)  (None, 256, 90, 160)  590080      zeropadding2d_7[0][0]            \n",
      "____________________________________________________________________________________________________\n",
      "maxpooling2d_3 (MaxPooling2D)    (None, 256, 45, 80)   0           convolution2d_7[0][0]            \n",
      "____________________________________________________________________________________________________\n",
      "zeropadding2d_8 (ZeroPadding2D)  (None, 256, 47, 82)   0           maxpooling2d_3[0][0]             \n",
      "____________________________________________________________________________________________________\n",
      "convolution2d_8 (Convolution2D)  (None, 512, 45, 80)   1180160     zeropadding2d_8[0][0]            \n",
      "____________________________________________________________________________________________________\n",
      "zeropadding2d_9 (ZeroPadding2D)  (None, 512, 47, 82)   0           convolution2d_8[0][0]            \n",
      "____________________________________________________________________________________________________\n",
      "convolution2d_9 (Convolution2D)  (None, 512, 45, 80)   2359808     zeropadding2d_9[0][0]            \n",
      "____________________________________________________________________________________________________\n",
      "zeropadding2d_10 (ZeroPadding2D) (None, 512, 47, 82)   0           convolution2d_9[0][0]            \n",
      "____________________________________________________________________________________________________\n",
      "convolution2d_10 (Convolution2D) (None, 512, 45, 80)   2359808     zeropadding2d_10[0][0]           \n",
      "____________________________________________________________________________________________________\n",
      "maxpooling2d_4 (MaxPooling2D)    (None, 512, 22, 40)   0           convolution2d_10[0][0]           \n",
      "____________________________________________________________________________________________________\n",
      "zeropadding2d_11 (ZeroPadding2D) (None, 512, 24, 42)   0           maxpooling2d_4[0][0]             \n",
      "____________________________________________________________________________________________________\n",
      "convolution2d_11 (Convolution2D) (None, 512, 22, 40)   2359808     zeropadding2d_11[0][0]           \n",
      "____________________________________________________________________________________________________\n",
      "zeropadding2d_12 (ZeroPadding2D) (None, 512, 24, 42)   0           convolution2d_11[0][0]           \n",
      "____________________________________________________________________________________________________\n",
      "convolution2d_12 (Convolution2D) (None, 512, 22, 40)   2359808     zeropadding2d_12[0][0]           \n",
      "____________________________________________________________________________________________________\n",
      "zeropadding2d_13 (ZeroPadding2D) (None, 512, 24, 42)   0           convolution2d_12[0][0]           \n",
      "____________________________________________________________________________________________________\n",
      "convolution2d_13 (Convolution2D) (None, 512, 22, 40)   2359808     zeropadding2d_13[0][0]           \n",
      "====================================================================================================\n",
      "Total params: 14,714,688\n",
      "Trainable params: 14,714,688\n",
      "Non-trainable params: 0\n",
      "____________________________________________________________________________________________________\n"
     ]
    }
   ],
   "source": [
    "model.summary()"
   ]
  },
  {
   "cell_type": "markdown",
   "metadata": {},
   "source": [
    "# Precompute convolutional output"
   ]
  },
  {
   "cell_type": "code",
   "execution_count": 13,
   "metadata": {
    "ExecuteTime": {
     "end_time": "2017-07-25T10:25:06.759080Z",
     "start_time": "2017-07-25T10:25:06.742955Z"
    },
    "collapsed": true
   },
   "outputs": [],
   "source": [
    "model.compile(optimizer=Adam(),\n",
    "              loss='categorical_crossentropy',\n",
    "              metrics=['accuracy'])"
   ]
  },
  {
   "cell_type": "code",
   "execution_count": 14,
   "metadata": {
    "ExecuteTime": {
     "end_time": "2017-07-25T10:35:29.418666Z",
     "start_time": "2017-07-25T10:25:18.092332Z"
    },
    "collapsed": true
   },
   "outputs": [],
   "source": [
    "conv_train_features = model.predict(train_data)\n",
    "conv_test_features  = model.predict(test_data)\n",
    "conv_val_features   = model.predict(val_data)"
   ]
  },
  {
   "cell_type": "markdown",
   "metadata": {},
   "source": [
    "# Fully convolutional net (FCN)"
   ]
  },
  {
   "cell_type": "markdown",
   "metadata": {},
   "source": [
    "Since we're using a larger input, the output of the final convolutional layer is also larger. So, we probably don't want to put a dense layer in there - that would be a lot of parameters! Instead, let's use a fully convolutional net (FCN); this also has the benefit that they tend to generalize well, and also seems like a good fit for our problem (since the fish are a small part of the image)"
   ]
  },
  {
   "cell_type": "code",
   "execution_count": 16,
   "metadata": {
    "ExecuteTime": {
     "end_time": "2017-07-25T10:35:54.973472Z",
     "start_time": "2017-07-25T10:35:54.908275Z"
    },
    "collapsed": false
   },
   "outputs": [],
   "source": [
    "lrg_model = Sequential([\n",
    "    BatchNormalization(axis=1, input_shape=model.output_shape[1:]),\n",
    "    Convolution2D(128, 3, 3, activation='relu', border_mode='same'),\n",
    "    BatchNormalization(axis=1),\n",
    "    MaxPooling2D(),\n",
    "    Convolution2D(128, 3, 3, activation='relu', border_mode='same'),\n",
    "    BatchNormalization(axis=1),\n",
    "    MaxPooling2D(),\n",
    "    Convolution2D(128, 3, 3, activation='relu', border_mode='same'),\n",
    "    BatchNormalization(axis=1),\n",
    "    MaxPooling2D((1,2)),\n",
    "    Convolution2D(8, 3, 3, border_mode='same'),\n",
    "    Dropout(0.),\n",
    "    GlobalAveragePooling2D(),\n",
    "    Activation('softmax')\n",
    "])"
   ]
  },
  {
   "cell_type": "code",
   "execution_count": 17,
   "metadata": {
    "ExecuteTime": {
     "end_time": "2017-07-25T10:36:08.070139Z",
     "start_time": "2017-07-25T10:36:06.827991Z"
    },
    "collapsed": false
   },
   "outputs": [
    {
     "name": "stdout",
     "output_type": "stream",
     "text": [
      "____________________________________________________________________________________________________\n",
      "Layer (type)                     Output Shape          Param #     Connected to                     \n",
      "====================================================================================================\n",
      "batchnormalization_1 (BatchNorma (None, 512, 22, 40)   2048        batchnormalization_input_1[0][0] \n",
      "____________________________________________________________________________________________________\n",
      "convolution2d_14 (Convolution2D) (None, 128, 22, 40)   589952      batchnormalization_1[0][0]       \n",
      "____________________________________________________________________________________________________\n",
      "batchnormalization_2 (BatchNorma (None, 128, 22, 40)   512         convolution2d_14[0][0]           \n",
      "____________________________________________________________________________________________________\n",
      "maxpooling2d_6 (MaxPooling2D)    (None, 128, 11, 20)   0           batchnormalization_2[0][0]       \n",
      "____________________________________________________________________________________________________\n",
      "convolution2d_15 (Convolution2D) (None, 128, 11, 20)   147584      maxpooling2d_6[0][0]             \n",
      "____________________________________________________________________________________________________\n",
      "batchnormalization_3 (BatchNorma (None, 128, 11, 20)   512         convolution2d_15[0][0]           \n",
      "____________________________________________________________________________________________________\n",
      "maxpooling2d_7 (MaxPooling2D)    (None, 128, 5, 10)    0           batchnormalization_3[0][0]       \n",
      "____________________________________________________________________________________________________\n",
      "convolution2d_16 (Convolution2D) (None, 128, 5, 10)    147584      maxpooling2d_7[0][0]             \n",
      "____________________________________________________________________________________________________\n",
      "batchnormalization_4 (BatchNorma (None, 128, 5, 10)    512         convolution2d_16[0][0]           \n",
      "____________________________________________________________________________________________________\n",
      "maxpooling2d_8 (MaxPooling2D)    (None, 128, 5, 5)     0           batchnormalization_4[0][0]       \n",
      "____________________________________________________________________________________________________\n",
      "convolution2d_17 (Convolution2D) (None, 8, 5, 5)       9224        maxpooling2d_8[0][0]             \n",
      "____________________________________________________________________________________________________\n",
      "dropout_1 (Dropout)              (None, 8, 5, 5)       0           convolution2d_17[0][0]           \n",
      "____________________________________________________________________________________________________\n",
      "globalaveragepooling2d_1 (Global (None, 8)             0           dropout_1[0][0]                  \n",
      "____________________________________________________________________________________________________\n",
      "activation_1 (Activation)        (None, 8)             0           globalaveragepooling2d_1[0][0]   \n",
      "====================================================================================================\n",
      "Total params: 897,928\n",
      "Trainable params: 896,136\n",
      "Non-trainable params: 1,792\n",
      "____________________________________________________________________________________________________\n"
     ]
    }
   ],
   "source": [
    "lrg_model.summary()"
   ]
  },
  {
   "cell_type": "code",
   "execution_count": 18,
   "metadata": {
    "ExecuteTime": {
     "end_time": "2017-07-25T10:36:22.177753Z",
     "start_time": "2017-07-25T10:36:22.162449Z"
    },
    "collapsed": true
   },
   "outputs": [],
   "source": [
    "lrg_model.compile(optimizer=Adam(lr=0.001),\n",
    "                loss='categorical_crossentropy',\n",
    "                metrics=['accuracy'])"
   ]
  },
  {
   "cell_type": "code",
   "execution_count": 19,
   "metadata": {
    "ExecuteTime": {
     "end_time": "2017-07-25T10:37:53.338388Z",
     "start_time": "2017-07-25T10:36:35.389307Z"
    },
    "collapsed": false
   },
   "outputs": [
    {
     "name": "stdout",
     "output_type": "stream",
     "text": [
      "Train on 3277 samples, validate on 500 samples\n",
      "Epoch 1/2\n",
      "12s - loss: 0.6398 - acc: 0.7995 - val_loss: 1.0175 - val_acc: 0.7160\n",
      "Epoch 2/2\n",
      "12s - loss: 0.1045 - acc: 0.9741 - val_loss: 0.3921 - val_acc: 0.8880\n"
     ]
    },
    {
     "data": {
      "text/plain": [
       "<keras.callbacks.History at 0x7f1afe221c90>"
      ]
     },
     "execution_count": 19,
     "metadata": {},
     "output_type": "execute_result"
    }
   ],
   "source": [
    "lrg_model.fit(conv_train_features, train_labels,\n",
    "            batch_size=64,\n",
    "            nb_epoch=2,\n",
    "            validation_data=(conv_val_features, val_labels),\n",
    "            verbose=2)"
   ]
  },
  {
   "cell_type": "code",
   "execution_count": 21,
   "metadata": {
    "ExecuteTime": {
     "end_time": "2017-07-25T10:38:15.431189Z",
     "start_time": "2017-07-25T10:38:15.427965Z"
    },
    "collapsed": true
   },
   "outputs": [],
   "source": [
    "lrg_model.optimizer.lr=1e-5"
   ]
  },
  {
   "cell_type": "code",
   "execution_count": 23,
   "metadata": {
    "ExecuteTime": {
     "end_time": "2017-07-25T10:39:36.202624Z",
     "start_time": "2017-07-25T10:38:19.286761Z"
    },
    "collapsed": false
   },
   "outputs": [
    {
     "name": "stdout",
     "output_type": "stream",
     "text": [
      "Train on 3277 samples, validate on 500 samples\n",
      "Epoch 1/6\n",
      "12s - loss: 0.0395 - acc: 0.9918 - val_loss: 0.3559 - val_acc: 0.9160\n",
      "Epoch 2/6\n",
      "12s - loss: 0.0138 - acc: 0.9973 - val_loss: 0.2941 - val_acc: 0.9300\n",
      "Epoch 3/6\n",
      "12s - loss: 0.0075 - acc: 0.9985 - val_loss: 0.2244 - val_acc: 0.9500\n",
      "Epoch 4/6\n",
      "12s - loss: 0.0016 - acc: 1.0000 - val_loss: 0.2323 - val_acc: 0.9560\n",
      "Epoch 5/6\n",
      "12s - loss: 0.0069 - acc: 0.9988 - val_loss: 0.2560 - val_acc: 0.9440\n",
      "Epoch 6/6\n",
      "12s - loss: 0.0045 - acc: 0.9991 - val_loss: 0.2376 - val_acc: 0.9460\n"
     ]
    },
    {
     "data": {
      "text/plain": [
       "<keras.callbacks.History at 0x7f1af5f5a4d0>"
      ]
     },
     "execution_count": 23,
     "metadata": {},
     "output_type": "execute_result"
    }
   ],
   "source": [
    "lrg_model.fit(conv_train_features, train_labels,\n",
    "            batch_size=64,\n",
    "            nb_epoch=6,\n",
    "            validation_data=(conv_val_features, val_labels),\n",
    "            verbose=2)"
   ]
  },
  {
   "cell_type": "markdown",
   "metadata": {},
   "source": [
    "# Bounding boxes and Multi-Output"
   ]
  },
  {
   "cell_type": "code",
   "execution_count": 29,
   "metadata": {
    "ExecuteTime": {
     "end_time": "2017-07-25T09:08:35.877139Z",
     "start_time": "2017-07-25T09:08:35.826384Z"
    },
    "collapsed": false
   },
   "outputs": [],
   "source": [
    "import ujson as json\n",
    "anno_classes = ['alb', 'bet', 'dol', 'lag', 'other', 'shark', 'yft']\n",
    "bb_json = {}\n",
    "for c in anno_classes:\n",
    "    j = json.load(open('{}annos/{}_labels.json'.format('data/fish/', c), 'r'))\n",
    "    for l in j:\n",
    "        if 'annotations' in l.keys() and len(l['annotations'])>0:\n",
    "            bb_json[l['filename'].split('/')[-1]] = sorted(\n",
    "                l['annotations'], key=lambda x: x['height']*x['width'])[-1]"
   ]
  },
  {
   "cell_type": "code",
   "execution_count": 31,
   "metadata": {
    "ExecuteTime": {
     "end_time": "2017-07-25T09:08:58.286190Z",
     "start_time": "2017-07-25T09:08:58.281066Z"
    },
    "collapsed": false
   },
   "outputs": [
    {
     "data": {
      "text/plain": [
       "{u'class': u'rect',\n",
       " u'height': 246.75000000000074,\n",
       " u'width': 432.8700000000013,\n",
       " u'x': 465.3000000000014,\n",
       " u'y': 496.32000000000147}"
      ]
     },
     "execution_count": 31,
     "metadata": {},
     "output_type": "execute_result"
    }
   ],
   "source": [
    "bb_json['img_04908.jpg']"
   ]
  },
  {
   "cell_type": "code",
   "execution_count": 32,
   "metadata": {
    "ExecuteTime": {
     "end_time": "2017-07-25T09:47:38.114654Z",
     "start_time": "2017-07-25T09:47:38.109689Z"
    },
    "collapsed": true
   },
   "outputs": [],
   "source": [
    "train_file2idx = {o:i for i,o in enumerate(raw_train_filenames)}\n",
    "val_file2idx   = {o:i for i,o in enumerate(raw_val_filenames)}"
   ]
  },
  {
   "cell_type": "code",
   "execution_count": 33,
   "metadata": {
    "ExecuteTime": {
     "end_time": "2017-07-25T09:47:43.515180Z",
     "start_time": "2017-07-25T09:47:43.468028Z"
    },
    "collapsed": false
   },
   "outputs": [
    {
     "data": {
      "text/plain": [
       "{'img_04866.jpg': 1909,\n",
       " 'img_04908.jpg': 3255,\n",
       " 'img_07566.jpg': 581,\n",
       " 'img_07687.jpg': 2000,\n",
       " 'img_00485.jpg': 2297,\n",
       " 'img_04433.jpg': 221,\n",
       " 'img_03905.jpg': 1408,\n",
       " 'img_05153.jpg': 295,\n",
       " 'img_05166.jpg': 2992,\n",
       " 'img_02785.jpg': 2870,\n",
       " 'img_03525.jpg': 2531,\n",
       " 'img_04941.jpg': 1882,\n",
       " 'img_00041.jpg': 1099,\n",
       " 'img_07102.jpg': 1816,\n",
       " 'img_02856.jpg': 196,\n",
       " 'img_00970.jpg': 739,\n",
       " 'img_04179.jpg': 1553,\n",
       " 'img_00910.jpg': 1869,\n",
       " 'img_02557.jpg': 2518,\n",
       " 'img_01186.jpg': 337,\n",
       " 'img_05057.jpg': 1206,\n",
       " 'img_02089.jpg': 1745,\n",
       " 'img_07558.jpg': 243,\n",
       " 'img_02460.jpg': 2026,\n",
       " 'img_02169.jpg': 2617,\n",
       " 'img_04354.jpg': 838,\n",
       " 'img_01470.jpg': 1736,\n",
       " 'img_06156.jpg': 2989,\n",
       " 'img_01342.jpg': 2507,\n",
       " 'img_07773.jpg': 484,\n",
       " 'img_00482.jpg': 1450,\n",
       " 'img_07742.jpg': 3038,\n",
       " 'img_05510.jpg': 1250,\n",
       " 'img_04060.jpg': 2216,\n",
       " 'img_02742.jpg': 1631,\n",
       " 'img_02721.jpg': 3003,\n",
       " 'img_04206.jpg': 515,\n",
       " 'img_02102.jpg': 1977,\n",
       " 'img_05575.jpg': 227,\n",
       " 'img_03213.jpg': 608,\n",
       " 'img_06825.jpg': 1595,\n",
       " 'img_00370.jpg': 2782,\n",
       " 'img_01448.jpg': 264,\n",
       " 'img_04303.jpg': 1454,\n",
       " 'img_07424.jpg': 199,\n",
       " 'img_04361.jpg': 1302,\n",
       " 'img_01482.jpg': 1280,\n",
       " 'img_07014.jpg': 952,\n",
       " 'img_00607.jpg': 561,\n",
       " 'img_03482.jpg': 285,\n",
       " 'img_00353.jpg': 1036,\n",
       " 'img_06854.jpg': 2916,\n",
       " 'img_01265.jpg': 852,\n",
       " 'img_02195.jpg': 1594,\n",
       " 'img_06053.jpg': 2902,\n",
       " 'img_05637.jpg': 730,\n",
       " 'img_07221.jpg': 2485,\n",
       " 'img_02658.jpg': 559,\n",
       " 'img_02329.jpg': 1988,\n",
       " 'img_01201.jpg': 2677,\n",
       " 'img_02316.jpg': 2048,\n",
       " 'img_02480.jpg': 1357,\n",
       " 'img_06694.jpg': 389,\n",
       " 'img_04621.jpg': 2072,\n",
       " 'img_07042.jpg': 2317,\n",
       " 'img_01693.jpg': 537,\n",
       " 'img_06502.jpg': 2859,\n",
       " 'img_03789.jpg': 1938,\n",
       " 'img_04692.jpg': 1076,\n",
       " 'img_06094.jpg': 2857,\n",
       " 'img_01163.jpg': 186,\n",
       " 'img_00512.jpg': 2117,\n",
       " 'img_05806.jpg': 252,\n",
       " 'img_05832.jpg': 712,\n",
       " 'img_05973.jpg': 1171,\n",
       " 'img_05607.jpg': 2364,\n",
       " 'img_00177.jpg': 577,\n",
       " 'img_05561.jpg': 1477,\n",
       " 'img_02724.jpg': 1168,\n",
       " 'img_01806.jpg': 219,\n",
       " 'img_05067.jpg': 1426,\n",
       " 'img_07734.jpg': 1634,\n",
       " 'img_05957.jpg': 2040,\n",
       " 'img_07174.jpg': 1351,\n",
       " 'img_01749.jpg': 2919,\n",
       " 'img_02011.jpg': 2406,\n",
       " 'img_05194.jpg': 1476,\n",
       " 'img_03345.jpg': 590,\n",
       " 'img_06383.jpg': 463,\n",
       " 'img_07442.jpg': 290,\n",
       " 'img_06773.jpg': 1653,\n",
       " 'img_02918.jpg': 3170,\n",
       " 'img_02798.jpg': 1715,\n",
       " 'img_02825.jpg': 554,\n",
       " 'img_00516.jpg': 1807,\n",
       " 'img_02543.jpg': 2271,\n",
       " 'img_03713.jpg': 1382,\n",
       " 'img_00305.jpg': 2267,\n",
       " 'img_03979.jpg': 2286,\n",
       " 'img_03325.jpg': 2803,\n",
       " 'img_06224.jpg': 1778,\n",
       " 'img_03233.jpg': 1298,\n",
       " 'img_02801.jpg': 31,\n",
       " 'img_01464.jpg': 597,\n",
       " 'img_02103.jpg': 1617,\n",
       " 'img_06623.jpg': 1538,\n",
       " 'img_03607.jpg': 3157,\n",
       " 'img_05206.jpg': 790,\n",
       " 'img_06176.jpg': 607,\n",
       " 'img_07709.jpg': 37,\n",
       " 'img_05658.jpg': 1561,\n",
       " 'img_04882.jpg': 263,\n",
       " 'img_01153.jpg': 1721,\n",
       " 'img_06229.jpg': 1309,\n",
       " 'img_03411.jpg': 1427,\n",
       " 'img_01588.jpg': 1846,\n",
       " 'img_00721.jpg': 2335,\n",
       " 'img_00715.jpg': 982,\n",
       " 'img_03748.jpg': 984,\n",
       " 'img_06445.jpg': 706,\n",
       " 'img_07765.jpg': 2794,\n",
       " 'img_04950.jpg': 1253,\n",
       " 'img_00660.jpg': 575,\n",
       " 'img_05310.jpg': 2420,\n",
       " 'img_01787.jpg': 1827,\n",
       " 'img_01919.jpg': 123,\n",
       " 'img_01855.jpg': 567,\n",
       " 'img_01452.jpg': 2399,\n",
       " 'img_03101.jpg': 2893,\n",
       " 'img_03568.jpg': 2971,\n",
       " 'img_07265.jpg': 1674,\n",
       " 'img_07903.jpg': 665,\n",
       " 'img_01572.jpg': 2595,\n",
       " 'img_05848.jpg': 1601,\n",
       " 'img_05834.jpg': 2386,\n",
       " 'img_03081.jpg': 3073,\n",
       " 'img_07559.jpg': 1031,\n",
       " 'img_06194.jpg': 724,\n",
       " 'img_00269.jpg': 1079,\n",
       " 'img_05715.jpg': 2439,\n",
       " 'img_06239.jpg': 2388,\n",
       " 'img_01143.jpg': 2656,\n",
       " 'img_06407.jpg': 3089,\n",
       " 'img_04854.jpg': 2535,\n",
       " 'img_05094.jpg': 281,\n",
       " 'img_04008.jpg': 1046,\n",
       " 'img_05880.jpg': 1900,\n",
       " 'img_06336.jpg': 3040,\n",
       " 'img_04703.jpg': 1995,\n",
       " 'img_07472.jpg': 2640,\n",
       " 'img_07770.jpg': 2245,\n",
       " 'img_07279.jpg': 2275,\n",
       " 'img_03747.jpg': 784,\n",
       " 'img_01931.jpg': 1347,\n",
       " 'img_04371.jpg': 2250,\n",
       " 'img_06298.jpg': 104,\n",
       " 'img_01835.jpg': 3171,\n",
       " 'img_02366.jpg': 2172,\n",
       " 'img_00110.jpg': 1179,\n",
       " 'img_00090.jpg': 1155,\n",
       " 'img_03022.jpg': 2242,\n",
       " 'img_00847.jpg': 2115,\n",
       " 'img_02456.jpg': 371,\n",
       " 'img_01766.jpg': 1751,\n",
       " 'img_00745.jpg': 1322,\n",
       " 'img_04159.jpg': 2939,\n",
       " 'img_06060.jpg': 592,\n",
       " 'img_02623.jpg': 1445,\n",
       " 'img_01055.jpg': 1678,\n",
       " 'img_04355.jpg': 2637,\n",
       " 'img_03555.jpg': 2176,\n",
       " 'img_01623.jpg': 2957,\n",
       " 'img_07556.jpg': 2614,\n",
       " 'img_01232.jpg': 1690,\n",
       " 'img_03136.jpg': 2791,\n",
       " 'img_06569.jpg': 2717,\n",
       " 'img_06451.jpg': 1922,\n",
       " 'img_07674.jpg': 2001,\n",
       " 'img_04139.jpg': 2186,\n",
       " 'img_04666.jpg': 1242,\n",
       " 'img_01079.jpg': 355,\n",
       " 'img_04826.jpg': 2343,\n",
       " 'img_06999.jpg': 910,\n",
       " 'img_01471.jpg': 1709,\n",
       " 'img_07380.jpg': 475,\n",
       " 'img_03737.jpg': 390,\n",
       " 'img_01917.jpg': 1345,\n",
       " 'img_05885.jpg': 122,\n",
       " 'img_06960.jpg': 1350,\n",
       " 'img_04327.jpg': 1471,\n",
       " 'img_05360.jpg': 1952,\n",
       " 'img_03902.jpg': 1281,\n",
       " 'img_01539.jpg': 2849,\n",
       " 'img_04033.jpg': 1472,\n",
       " 'img_06536.jpg': 1749,\n",
       " 'img_04987.jpg': 545,\n",
       " 'img_07608.jpg': 1396,\n",
       " 'img_06503.jpg': 729,\n",
       " 'img_01000.jpg': 1271,\n",
       " 'img_06976.jpg': 544,\n",
       " 'img_05077.jpg': 1121,\n",
       " 'img_06478.jpg': 1868,\n",
       " 'img_01507.jpg': 230,\n",
       " 'img_03657.jpg': 3027,\n",
       " 'img_00539.jpg': 3065,\n",
       " 'img_01683.jpg': 380,\n",
       " 'img_03267.jpg': 2312,\n",
       " 'img_03385.jpg': 2571,\n",
       " 'img_03578.jpg': 654,\n",
       " 'img_04693.jpg': 2356,\n",
       " 'img_07136.jpg': 236,\n",
       " 'img_04057.jpg': 2438,\n",
       " 'img_03038.jpg': 703,\n",
       " 'img_03787.jpg': 2795,\n",
       " 'img_05675.jpg': 14,\n",
       " 'img_06647.jpg': 385,\n",
       " 'img_05753.jpg': 2310,\n",
       " 'img_05455.jpg': 1976,\n",
       " 'img_05852.jpg': 928,\n",
       " 'img_00647.jpg': 3190,\n",
       " 'img_00680.jpg': 2783,\n",
       " 'img_06179.jpg': 1975,\n",
       " 'img_02275.jpg': 3259,\n",
       " 'img_01699.jpg': 773,\n",
       " 'img_05159.jpg': 1001,\n",
       " 'img_03119.jpg': 1007,\n",
       " 'img_01921.jpg': 425,\n",
       " 'img_04473.jpg': 2958,\n",
       " 'img_04827.jpg': 216,\n",
       " 'img_00796.jpg': 2899,\n",
       " 'img_02928.jpg': 250,\n",
       " 'img_02463.jpg': 2642,\n",
       " 'img_07240.jpg': 766,\n",
       " 'img_07636.jpg': 1131,\n",
       " 'img_01558.jpg': 713,\n",
       " 'img_06593.jpg': 2891,\n",
       " 'img_00509.jpg': 930,\n",
       " 'img_06853.jpg': 867,\n",
       " 'img_00404.jpg': 3057,\n",
       " 'img_06223.jpg': 1748,\n",
       " 'img_07465.jpg': 109,\n",
       " 'img_01599.jpg': 403,\n",
       " 'img_05141.jpg': 2404,\n",
       " 'img_03005.jpg': 462,\n",
       " 'img_07883.jpg': 1183,\n",
       " 'img_03025.jpg': 2189,\n",
       " 'img_00428.jpg': 1892,\n",
       " 'img_05787.jpg': 2727,\n",
       " 'img_04565.jpg': 2373,\n",
       " 'img_07840.jpg': 2253,\n",
       " 'img_02715.jpg': 2442,\n",
       " 'img_00616.jpg': 1914,\n",
       " 'img_01271.jpg': 771,\n",
       " 'img_03965.jpg': 331,\n",
       " 'img_07619.jpg': 1020,\n",
       " 'img_00130.jpg': 1429,\n",
       " 'img_00900.jpg': 2921,\n",
       " 'img_00899.jpg': 12,\n",
       " 'img_04886.jpg': 2206,\n",
       " 'img_01890.jpg': 1373,\n",
       " 'img_06384.jpg': 1482,\n",
       " 'img_06143.jpg': 933,\n",
       " 'img_02478.jpg': 2526,\n",
       " 'img_01701.jpg': 2067,\n",
       " 'img_06116.jpg': 2017,\n",
       " 'img_00247.jpg': 2482,\n",
       " 'img_02996.jpg': 1202,\n",
       " 'img_06092.jpg': 2763,\n",
       " 'img_00193.jpg': 586,\n",
       " 'img_01139.jpg': 516,\n",
       " 'img_03827.jpg': 238,\n",
       " 'img_03048.jpg': 1840,\n",
       " 'img_06629.jpg': 1063,\n",
       " 'img_07747.jpg': 3012,\n",
       " 'img_05041.jpg': 2733,\n",
       " 'img_07698.jpg': 1221,\n",
       " 'img_01926.jpg': 34,\n",
       " 'img_00276.jpg': 3096,\n",
       " 'img_03779.jpg': 2661,\n",
       " 'img_07392.jpg': 2492,\n",
       " 'img_03746.jpg': 508,\n",
       " 'img_04768.jpg': 3268,\n",
       " 'img_01993.jpg': 2283,\n",
       " 'img_05325.jpg': 2195,\n",
       " 'img_06307.jpg': 361,\n",
       " 'img_06063.jpg': 2345,\n",
       " 'img_04229.jpg': 1163,\n",
       " 'img_05939.jpg': 1758,\n",
       " 'img_07581.jpg': 1539,\n",
       " 'img_01759.jpg': 2611,\n",
       " 'img_02790.jpg': 2500,\n",
       " 'img_05744.jpg': 2861,\n",
       " 'img_01675.jpg': 3094,\n",
       " 'img_00264.jpg': 666,\n",
       " 'img_02343.jpg': 1621,\n",
       " 'img_00678.jpg': 1703,\n",
       " 'img_05384.jpg': 1223,\n",
       " 'img_05756.jpg': 2289,\n",
       " 'img_03287.jpg': 1516,\n",
       " 'img_01458.jpg': 843,\n",
       " 'img_04939.jpg': 372,\n",
       " 'img_03507.jpg': 2491,\n",
       " 'img_01524.jpg': 2556,\n",
       " 'img_02485.jpg': 3035,\n",
       " 'img_05161.jpg': 79,\n",
       " 'img_02765.jpg': 1366,\n",
       " 'img_05713.jpg': 1326,\n",
       " 'img_02134.jpg': 870,\n",
       " 'img_06271.jpg': 3138,\n",
       " 'img_00562.jpg': 1133,\n",
       " 'img_00457.jpg': 57,\n",
       " 'img_03756.jpg': 3238,\n",
       " 'img_07878.jpg': 828,\n",
       " 'img_03318.jpg': 1875,\n",
       " 'img_07669.jpg': 1109,\n",
       " 'img_01734.jpg': 1142,\n",
       " 'img_02870.jpg': 1913,\n",
       " 'img_07863.jpg': 169,\n",
       " 'img_00344.jpg': 1333,\n",
       " 'img_07074.jpg': 3031,\n",
       " 'img_07789.jpg': 1390,\n",
       " 'img_03727.jpg': 1662,\n",
       " 'img_01763.jpg': 1042,\n",
       " 'img_05327.jpg': 2592,\n",
       " 'img_01314.jpg': 1304,\n",
       " 'img_00744.jpg': 720,\n",
       " 'img_07287.jpg': 3051,\n",
       " 'img_05521.jpg': 1668,\n",
       " 'img_06877.jpg': 2357,\n",
       " 'img_02058.jpg': 323,\n",
       " 'img_00281.jpg': 488,\n",
       " 'img_05490.jpg': 2223,\n",
       " 'img_07513.jpg': 3197,\n",
       " 'img_02415.jpg': 1747,\n",
       " 'img_02779.jpg': 1080,\n",
       " 'img_03604.jpg': 2696,\n",
       " 'img_02555.jpg': 1245,\n",
       " 'img_00329.jpg': 1537,\n",
       " 'img_04055.jpg': 958,\n",
       " 'img_06889.jpg': 1861,\n",
       " 'img_05274.jpg': 2385,\n",
       " 'img_02357.jpg': 1853,\n",
       " 'img_01144.jpg': 1204,\n",
       " 'img_04436.jpg': 916,\n",
       " 'img_04980.jpg': 429,\n",
       " 'img_05865.jpg': 1798,\n",
       " 'img_04462.jpg': 1850,\n",
       " 'img_03524.jpg': 125,\n",
       " 'img_03017.jpg': 96,\n",
       " 'img_05239.jpg': 2372,\n",
       " 'img_01838.jpg': 1196,\n",
       " 'img_06279.jpg': 136,\n",
       " 'img_00738.jpg': 3266,\n",
       " 'img_00313.jpg': 3275,\n",
       " 'img_04342.jpg': 1254,\n",
       " 'img_04828.jpg': 1876,\n",
       " 'img_07437.jpg': 558,\n",
       " 'img_06146.jpg': 2674,\n",
       " 'img_05759.jpg': 761,\n",
       " 'img_06913.jpg': 2557,\n",
       " 'img_03860.jpg': 343,\n",
       " 'img_07724.jpg': 2098,\n",
       " 'img_06215.jpg': 946,\n",
       " 'img_04645.jpg': 1935,\n",
       " 'img_05154.jpg': 795,\n",
       " 'img_06527.jpg': 797,\n",
       " 'img_02346.jpg': 274,\n",
       " 'img_03975.jpg': 2416,\n",
       " 'img_02586.jpg': 1217,\n",
       " 'img_01218.jpg': 1480,\n",
       " 'img_04087.jpg': 3175,\n",
       " 'img_07321.jpg': 1541,\n",
       " 'img_00372.jpg': 2867,\n",
       " 'img_05103.jpg': 912,\n",
       " 'img_03384.jpg': 574,\n",
       " 'img_03544.jpg': 807,\n",
       " 'img_02624.jpg': 2569,\n",
       " 'img_04032.jpg': 194,\n",
       " 'img_05796.jpg': 1569,\n",
       " 'img_01478.jpg': 517,\n",
       " 'img_05111.jpg': 2247,\n",
       " 'img_04500.jpg': 357,\n",
       " 'img_00502.jpg': 1329,\n",
       " 'img_04659.jpg': 687,\n",
       " 'img_06124.jpg': 2477,\n",
       " 'img_03276.jpg': 2900,\n",
       " 'img_03094.jpg': 3061,\n",
       " 'img_07116.jpg': 2774,\n",
       " 'img_07305.jpg': 2224,\n",
       " 'img_02295.jpg': 2964,\n",
       " 'img_01784.jpg': 2836,\n",
       " 'img_06847.jpg': 2499,\n",
       " 'img_02578.jpg': 519,\n",
       " 'img_01682.jpg': 1340,\n",
       " 'img_02981.jpg': 1552,\n",
       " 'img_07133.jpg': 1275,\n",
       " 'img_01972.jpg': 2670,\n",
       " 'img_05494.jpg': 382,\n",
       " 'img_03046.jpg': 3216,\n",
       " 'img_00139.jpg': 3143,\n",
       " 'img_05786.jpg': 2935,\n",
       " 'img_00722.jpg': 827,\n",
       " 'img_02431.jpg': 2075,\n",
       " 'img_04078.jpg': 934,\n",
       " 'img_02748.jpg': 2731,\n",
       " 'img_07328.jpg': 915,\n",
       " 'img_03243.jpg': 2419,\n",
       " 'img_00325.jpg': 1638,\n",
       " 'img_05815.jpg': 1044,\n",
       " 'img_05801.jpg': 346,\n",
       " 'img_03257.jpg': 1912,\n",
       " 'img_06376.jpg': 746,\n",
       " 'img_03253.jpg': 2898,\n",
       " 'img_02737.jpg': 823,\n",
       " 'img_02224.jpg': 2558,\n",
       " 'img_03396.jpg': 2842,\n",
       " 'img_01161.jpg': 2590,\n",
       " 'img_03983.jpg': 2472,\n",
       " 'img_07761.jpg': 2856,\n",
       " 'img_04890.jpg': 94,\n",
       " 'img_05858.jpg': 1521,\n",
       " 'img_01727.jpg': 3024,\n",
       " 'img_05924.jpg': 1213,\n",
       " 'img_03076.jpg': 2456,\n",
       " 'img_04281.jpg': 2852,\n",
       " 'img_04493.jpg': 2097,\n",
       " 'img_07291.jpg': 1355,\n",
       " 'img_03951.jpg': 2370,\n",
       " 'img_05296.jpg': 1449,\n",
       " 'img_03369.jpg': 527,\n",
       " 'img_07311.jpg': 1602,\n",
       " 'img_00940.jpg': 882,\n",
       " 'img_04686.jpg': 1877,\n",
       " 'img_02376.jpg': 1033,\n",
       " 'img_04857.jpg': 2498,\n",
       " 'img_03791.jpg': 2542,\n",
       " 'img_05891.jpg': 2144,\n",
       " 'img_05214.jpg': 340,\n",
       " 'img_02621.jpg': 1832,\n",
       " 'img_00925.jpg': 3191,\n",
       " 'img_00361.jpg': 792,\n",
       " 'img_03154.jpg': 1349,\n",
       " 'img_05482.jpg': 1331,\n",
       " 'img_04873.jpg': 2325,\n",
       " 'img_01083.jpg': 793,\n",
       " 'img_07651.jpg': 127,\n",
       " 'img_06072.jpg': 2762,\n",
       " 'img_04352.jpg': 1744,\n",
       " 'img_06367.jpg': 956,\n",
       " 'img_05231.jpg': 2481,\n",
       " 'img_00679.jpg': 1083,\n",
       " 'img_01620.jpg': 1330,\n",
       " 'img_06839.jpg': 2103,\n",
       " 'img_03360.jpg': 392,\n",
       " 'img_07228.jpg': 966,\n",
       " 'img_01480.jpg': 1301,\n",
       " 'img_06550.jpg': 2977,\n",
       " 'img_02407.jpg': 2293,\n",
       " 'img_00712.jpg': 848,\n",
       " 'img_00890.jpg': 3134,\n",
       " 'img_07535.jpg': 2627,\n",
       " 'img_03066.jpg': 2255,\n",
       " 'img_00807.jpg': 3212,\n",
       " 'img_00994.jpg': 376,\n",
       " 'img_04431.jpg': 817,\n",
       " 'img_02201.jpg': 1442,\n",
       " 'img_04121.jpg': 736,\n",
       " 'img_04938.jpg': 1503,\n",
       " 'img_03793.jpg': 599,\n",
       " 'img_02967.jpg': 1525,\n",
       " 'img_00589.jpg': 2298,\n",
       " 'img_04093.jpg': 349,\n",
       " 'img_06574.jpg': 8,\n",
       " 'img_04178.jpg': 2133,\n",
       " 'img_01655.jpg': 1374,\n",
       " 'img_07403.jpg': 3208,\n",
       " 'img_04994.jpg': 789,\n",
       " 'img_06135.jpg': 1310,\n",
       " 'img_02968.jpg': 3044,\n",
       " 'img_05998.jpg': 1948,\n",
       " 'img_02853.jpg': 3260,\n",
       " 'img_01276.jpg': 947,\n",
       " 'img_00447.jpg': 1122,\n",
       " 'img_03687.jpg': 435,\n",
       " 'img_03286.jpg': 417,\n",
       " 'img_05878.jpg': 1368,\n",
       " 'img_01361.jpg': 1443,\n",
       " 'img_06329.jpg': 1946,\n",
       " 'img_06129.jpg': 1770,\n",
       " 'img_06599.jpg': 3232,\n",
       " 'img_02210.jpg': 1656,\n",
       " 'img_01247.jpg': 379,\n",
       " 'img_04200.jpg': 2106,\n",
       " 'img_07255.jpg': 108,\n",
       " 'img_07212.jpg': 1731,\n",
       " 'img_07492.jpg': 945,\n",
       " 'img_04672.jpg': 1545,\n",
       " 'img_06867.jpg': 1473,\n",
       " 'img_00456.jpg': 1904,\n",
       " 'img_02585.jpg': 2689,\n",
       " 'img_03921.jpg': 2750,\n",
       " 'img_06594.jpg': 1362,\n",
       " 'img_01790.jpg': 188,\n",
       " 'img_07197.jpg': 93,\n",
       " 'img_06007.jpg': 1858,\n",
       " 'img_02170.jpg': 1229,\n",
       " 'img_06879.jpg': 1419,\n",
       " 'img_04054.jpg': 639,\n",
       " 'img_01450.jpg': 1576,\n",
       " 'img_02917.jpg': 2934,\n",
       " 'img_05343.jpg': 1325,\n",
       " 'img_04579.jpg': 1045,\n",
       " 'img_03546.jpg': 1722,\n",
       " 'img_07545.jpg': 1500,\n",
       " 'img_00271.jpg': 1897,\n",
       " 'img_07176.jpg': 1781,\n",
       " 'img_07092.jpg': 13,\n",
       " 'img_07415.jpg': 2332,\n",
       " 'img_03125.jpg': 428,\n",
       " 'img_07316.jpg': 1397,\n",
       " 'img_01814.jpg': 2369,\n",
       " 'img_03480.jpg': 3113,\n",
       " 'img_06152.jpg': 3163,\n",
       " 'img_03549.jpg': 858,\n",
       " 'img_03770.jpg': 2547,\n",
       " 'img_03343.jpg': 2157,\n",
       " 'img_05588.jpg': 1323,\n",
       " 'img_04227.jpg': 1570,\n",
       " 'img_03651.jpg': 3186,\n",
       " 'img_01112.jpg': 1371,\n",
       " 'img_03645.jpg': 610,\n",
       " 'img_00784.jpg': 1760,\n",
       " 'img_07001.jpg': 143,\n",
       " 'img_02773.jpg': 2344,\n",
       " 'img_06051.jpg': 2012,\n",
       " 'img_05635.jpg': 1658,\n",
       " 'img_00600.jpg': 2604,\n",
       " 'img_07801.jpg': 917,\n",
       " 'img_04243.jpg': 810,\n",
       " 'img_02052.jpg': 775,\n",
       " 'img_06323.jpg': 3021,\n",
       " 'img_01095.jpg': 662,\n",
       " 'img_07811.jpg': 509,\n",
       " 'img_01424.jpg': 2137,\n",
       " 'img_01812.jpg': 1706,\n",
       " 'img_07439.jpg': 613,\n",
       " 'img_01311.jpg': 1641,\n",
       " 'img_07864.jpg': 2426,\n",
       " 'img_05102.jpg': 3100,\n",
       " 'img_01668.jpg': 1502,\n",
       " 'img_07040.jpg': 1145,\n",
       " 'img_02361.jpg': 258,\n",
       " 'img_07344.jpg': 3151,\n",
       " 'img_02348.jpg': 2537,\n",
       " 'img_04798.jpg': 990,\n",
       " 'img_04874.jpg': 1209,\n",
       " 'img_04297.jpg': 1740,\n",
       " 'img_05571.jpg': 1667,\n",
       " 'img_07721.jpg': 1603,\n",
       " 'img_00638.jpg': 486,\n",
       " 'img_01045.jpg': 1187,\n",
       " 'img_00595.jpg': 840,\n",
       " 'img_04769.jpg': 2365,\n",
       " 'img_02645.jpg': 530,\n",
       " 'img_05592.jpg': 3148,\n",
       " 'img_02392.jpg': 1294,\n",
       " 'img_03567.jpg': 3023,\n",
       " 'img_00055.jpg': 433,\n",
       " 'img_03976.jpg': 2516,\n",
       " 'img_07121.jpg': 1844,\n",
       " 'img_05332.jpg': 1338,\n",
       " 'img_05256.jpg': 2093,\n",
       " 'img_04490.jpg': 691,\n",
       " 'img_00705.jpg': 1218,\n",
       " 'img_03680.jpg': 430,\n",
       " 'img_00221.jpg': 2676,\n",
       " 'img_03357.jpg': 1269,\n",
       " 'img_06907.jpg': 929,\n",
       " 'img_05420.jpg': 1708,\n",
       " 'img_04594.jpg': 3210,\n",
       " 'img_06381.jpg': 193,\n",
       " 'img_00184.jpg': 3219,\n",
       " 'img_05396.jpg': 1089,\n",
       " 'img_04988.jpg': 2264,\n",
       " 'img_02736.jpg': 1619,\n",
       " 'img_01417.jpg': 466,\n",
       " 'img_02382.jpg': 942,\n",
       " 'img_03939.jpg': 3244,\n",
       " 'img_07022.jpg': 2550,\n",
       " 'img_01934.jpg': 962,\n",
       " 'img_06196.jpg': 2855,\n",
       " 'img_04362.jpg': 469,\n",
       " 'img_04847.jpg': 1834,\n",
       " 'img_04280.jpg': 2812,\n",
       " 'img_07837.jpg': 2037,\n",
       " 'img_04732.jpg': 1609,\n",
       " 'img_04623.jpg': 2146,\n",
       " 'img_04710.jpg': 2487,\n",
       " 'img_06031.jpg': 2152,\n",
       " 'img_05204.jpg': 1125,\n",
       " 'img_06104.jpg': 985,\n",
       " 'img_05297.jpg': 242,\n",
       " 'img_03049.jpg': 2221,\n",
       " 'img_04823.jpg': 522,\n",
       " 'img_05163.jpg': 726,\n",
       " 'img_00510.jpg': 2480,\n",
       " 'img_06499.jpg': 2092,\n",
       " 'img_04217.jpg': 3017,\n",
       " 'img_06364.jpg': 2630,\n",
       " 'img_07684.jpg': 957,\n",
       " 'img_00390.jpg': 1955,\n",
       " 'img_02007.jpg': 1535,\n",
       " 'img_04616.jpg': 2140,\n",
       " 'img_03622.jpg': 3014,\n",
       " 'img_03558.jpg': 2680,\n",
       " 'img_04589.jpg': 232,\n",
       " 'img_06878.jpg': 2319,\n",
       " 'img_02158.jpg': 2188,\n",
       " 'img_02694.jpg': 1766,\n",
       " 'img_07207.jpg': 434,\n",
       " 'img_01421.jpg': 1961,\n",
       " 'img_06805.jpg': 3265,\n",
       " 'img_00793.jpg': 499,\n",
       " 'img_00993.jpg': 1005,\n",
       " 'img_01560.jpg': 2163,\n",
       " 'img_06726.jpg': 1289,\n",
       " 'img_07113.jpg': 292,\n",
       " 'img_02173.jpg': 3203,\n",
       " 'img_02438.jpg': 2724,\n",
       " 'img_07171.jpg': 1226,\n",
       " 'img_03432.jpg': 55,\n",
       " 'img_04528.jpg': 1251,\n",
       " 'img_03423.jpg': 2159,\n",
       " 'img_02717.jpg': 2095,\n",
       " 'img_01485.jpg': 550,\n",
       " 'img_02355.jpg': 3030,\n",
       " 'img_02859.jpg': 288,\n",
       " 'img_06388.jpg': 129,\n",
       " 'img_01540.jpg': 702,\n",
       " 'img_05778.jpg': 327,\n",
       " 'img_01869.jpg': 1431,\n",
       " 'img_07772.jpg': 672,\n",
       " 'img_05729.jpg': 3117,\n",
       " 'img_04330.jpg': 76,\n",
       " 'img_02994.jpg': 142,\n",
       " 'img_06090.jpg': 168,\n",
       " 'img_04340.jpg': 386,\n",
       " 'img_07296.jpg': 818,\n",
       " 'img_03367.jpg': 2647,\n",
       " 'img_00949.jpg': 1923,\n",
       " 'img_02584.jpg': 423,\n",
       " 'img_00967.jpg': 330,\n",
       " 'img_01042.jpg': 1699,\n",
       " 'img_06415.jpg': 2701,\n",
       " 'img_06953.jpg': 2073,\n",
       " 'img_06700.jpg': 2346,\n",
       " 'img_03922.jpg': 1657,\n",
       " 'img_05121.jpg': 868,\n",
       " 'img_04760.jpg': 1685,\n",
       " 'img_05070.jpg': 2331,\n",
       " 'img_07341.jpg': 2710,\n",
       " 'img_07408.jpg': 2113,\n",
       " 'img_02822.jpg': 1896,\n",
       " 'img_01445.jpg': 1384,\n",
       " 'img_05985.jpg': 19,\n",
       " 'img_03668.jpg': 2993,\n",
       " 'img_06123.jpg': 783,\n",
       " 'img_04302.jpg': 3161,\n",
       " 'img_03494.jpg': 1985,\n",
       " 'img_04516.jpg': 2806,\n",
       " 'img_02323.jpg': 1934,\n",
       " 'img_07306.jpg': 645,\n",
       " 'img_00565.jpg': 1705,\n",
       " 'img_02055.jpg': 2824,\n",
       " 'img_02262.jpg': 2963,\n",
       " 'img_07569.jpg': 2821,\n",
       " 'img_01915.jpg': 1549,\n",
       " 'img_07299.jpg': 36,\n",
       " 'img_00961.jpg': 2,\n",
       " 'img_03918.jpg': 1484,\n",
       " 'img_06481.jpg': 3258,\n",
       " 'img_06044.jpg': 2291,\n",
       " 'img_02863.jpg': 2646,\n",
       " 'img_05887.jpg': 2567,\n",
       " 'img_07015.jpg': 1474,\n",
       " 'img_01756.jpg': 119,\n",
       " 'img_03771.jpg': 1785,\n",
       " 'img_00127.jpg': 2234,\n",
       " 'img_07178.jpg': 393,\n",
       " 'img_02206.jpg': 1467,\n",
       " 'img_05534.jpg': 2110,\n",
       " 'img_06864.jpg': 1311,\n",
       " 'img_01206.jpg': 350,\n",
       " 'img_05690.jpg': 87,\n",
       " 'img_02311.jpg': 2743,\n",
       " 'img_01817.jpg': 2904,\n",
       " 'img_06969.jpg': 2009,\n",
       " 'img_00733.jpg': 1701,\n",
       " 'img_07000.jpg': 641,\n",
       " 'img_06570.jpg': 758,\n",
       " 'img_00413.jpg': 1916,\n",
       " 'img_00332.jpg': 2318,\n",
       " 'img_02728.jpg': 1792,\n",
       " 'img_07533.jpg': 2573,\n",
       " 'img_01481.jpg': 1606,\n",
       " 'img_03947.jpg': 2880,\n",
       " 'img_03265.jpg': 2277,\n",
       " 'img_01028.jpg': 1123,\n",
       " 'img_02461.jpg': 2191,\n",
       " 'img_04910.jpg': 2521,\n",
       " 'img_00057.jpg': 207,\n",
       " 'img_06054.jpg': 3153,\n",
       " 'img_06833.jpg': 964,\n",
       " 'img_00356.jpg': 609,\n",
       " 'img_00601.jpg': 1566,\n",
       " 'img_04367.jpg': 2644,\n",
       " 'img_03873.jpg': 2433,\n",
       " 'img_07739.jpg': 1361,\n",
       " 'img_01330.jpg': 562,\n",
       " 'img_04685.jpg': 2213,\n",
       " 'img_03757.jpg': 2045,\n",
       " 'img_04730.jpg': 2994,\n",
       " 'img_04916.jpg': 2091,\n",
       " 'img_05821.jpg': 844,\n",
       " 'img_01596.jpg': 1714,\n",
       " 'img_04025.jpg': 825,\n",
       " 'img_04163.jpg': 1359,\n",
       " 'img_03183.jpg': 3131,\n",
       " 'img_04989.jpg': 1488,\n",
       " 'img_04364.jpg': 3254,\n",
       " 'img_03263.jpg': 1318,\n",
       " 'img_00762.jpg': 570,\n",
       " 'img_02626.jpg': 3000,\n",
       " 'img_05500.jpg': 154,\n",
       " 'img_04289.jpg': 1536,\n",
       " 'img_02203.jpg': 692,\n",
       " 'img_01678.jpg': 2447,\n",
       " 'img_04893.jpg': 667,\n",
       " 'img_01636.jpg': 424,\n",
       " 'img_00295.jpg': 150,\n",
       " 'img_07166.jpg': 2970,\n",
       " 'img_07349.jpg': 532,\n",
       " 'img_07272.jpg': 569,\n",
       " 'img_03356.jpg': 410,\n",
       " 'img_07250.jpg': 3221,\n",
       " 'img_07463.jpg': 268,\n",
       " 'img_04113.jpg': 3005,\n",
       " 'img_00911.jpg': 689,\n",
       " 'img_07919.jpg': 1780,\n",
       " 'img_06816.jpg': 2151,\n",
       " 'img_07071.jpg': 1013,\n",
       " 'img_04216.jpg': 2023,\n",
       " 'img_04567.jpg': 833,\n",
       " 'img_07598.jpg': 1929,\n",
       " 'img_05313.jpg': 370,\n",
       " 'img_07390.jpg': 214,\n",
       " 'img_00684.jpg': 1300,\n",
       " 'img_01390.jpg': 646,\n",
       " 'img_06199.jpg': 2235,\n",
       " 'img_07447.jpg': 375,\n",
       " 'img_04578.jpg': 965,\n",
       " 'img_03281.jpg': 453,\n",
       " 'img_04883.jpg': 1414,\n",
       " 'img_01546.jpg': 2520,\n",
       " 'img_05845.jpg': 407,\n",
       " 'img_02139.jpg': 1547,\n",
       " 'img_03096.jpg': 3082,\n",
       " 'img_06339.jpg': 2987,\n",
       " 'img_01233.jpg': 3122,\n",
       " 'img_00736.jpg': 2469,\n",
       " 'img_04971.jpg': 1822,\n",
       " 'img_05523.jpg': 1077,\n",
       " 'img_05060.jpg': 2797,\n",
       " 'img_04965.jpg': 1234,\n",
       " 'img_02547.jpg': 265,\n",
       " 'img_00615.jpg': 1817,\n",
       " 'img_06650.jpg': 3093,\n",
       " 'img_05303.jpg': 596,\n",
       " 'img_05043.jpg': 408,\n",
       " 'img_04561.jpg': 1016,\n",
       " 'img_06600.jpg': 2955,\n",
       " 'img_06660.jpg': 2781,\n",
       " 'img_03785.jpg': 576,\n",
       " 'img_00872.jpg': 3252,\n",
       " 'img_02439.jpg': 2060,\n",
       " 'img_01660.jpg': 25,\n",
       " 'img_00183.jpg': 2227,\n",
       " 'img_03521.jpg': 2509,\n",
       " 'img_06061.jpg': 1149,\n",
       " 'img_06018.jpg': 880,\n",
       " 'img_07740.jpg': 647,\n",
       " 'img_02436.jpg': 636,\n",
       " 'img_03407.jpg': 2699,\n",
       " 'img_02934.jpg': 2742,\n",
       " 'img_05174.jpg': 2736,\n",
       " 'img_03798.jpg': 282,\n",
       " 'img_01973.jpg': 2688,\n",
       " 'img_05728.jpg': 1513,\n",
       " 'img_03301.jpg': 3250,\n",
       " 'img_01400.jpg': 2295,\n",
       " 'img_00210.jpg': 2167,\n",
       " 'img_02255.jpg': 2723,\n",
       " 'img_02427.jpg': 3226,\n",
       " 'img_07200.jpg': 582,\n",
       " 'img_05333.jpg': 2690,\n",
       " 'img_05216.jpg': 2288,\n",
       " 'img_06266.jpg': 1925,\n",
       " 'img_01291.jpg': 876,\n",
       " 'img_01097.jpg': 2061,\n",
       " 'img_00351.jpg': 173,\n",
       " 'img_00820.jpg': 138,\n",
       " 'img_04065.jpg': 275,\n",
       " 'img_03606.jpg': 970,\n",
       " 'img_06112.jpg': 73,\n",
       " 'img_07660.jpg': 2134,\n",
       " 'img_02500.jpg': 2756,\n",
       " 'img_01128.jpg': 358,\n",
       " 'img_01423.jpg': 2358,\n",
       " 'img_03277.jpg': 800,\n",
       " 'img_04345.jpg': 1283,\n",
       " 'img_06382.jpg': 2219,\n",
       " 'img_04231.jpg': 212,\n",
       " 'img_05312.jpg': 535,\n",
       " 'img_00756.jpg': 630,\n",
       " 'img_03389.jpg': 2428,\n",
       " 'img_04548.jpg': 2324,\n",
       " 'img_03611.jpg': 1767,\n",
       " 'img_07298.jpg': 1312,\n",
       " 'img_04048.jpg': 1464,\n",
       " 'img_05040.jpg': 387,\n",
       " 'img_06518.jpg': 1067,\n",
       " 'img_00665.jpg': 77,\n",
       " 'img_01038.jpg': 1134,\n",
       " 'img_02036.jpg': 345,\n",
       " 'img_01757.jpg': 1675,\n",
       " 'img_05237.jpg': 686,\n",
       " 'img_01152.jpg': 1084,\n",
       " 'img_01522.jpg': 2276,\n",
       " 'img_04022.jpg': 1478,\n",
       " 'img_02542.jpg': 1173,\n",
       " 'img_07381.jpg': 1399,\n",
       " 'img_02862.jpg': 1078,\n",
       " 'img_04627.jpg': 2785,\n",
       " 'img_06950.jpg': 99,\n",
       " 'img_07670.jpg': 1117,\n",
       " 'img_04308.jpg': 1051,\n",
       " 'img_01323.jpg': 3009,\n",
       " 'img_03649.jpg': 2664,\n",
       " 'img_05380.jpg': 2888,\n",
       " 'img_01737.jpg': 2205,\n",
       " 'img_00186.jpg': 192,\n",
       " 'img_07673.jpg': 1866,\n",
       " 'img_05583.jpg': 491,\n",
       " 'img_01355.jpg': 198,\n",
       " 'img_04071.jpg': 2055,\n",
       " 'img_06865.jpg': 920,\n",
       " 'img_01816.jpg': 1394,\n",
       " 'img_01680.jpg': 774,\n",
       " 'img_06443.jpg': 1059,\n",
       " 'img_02099.jpg': 2241,\n",
       " 'img_06613.jpg': 1560,\n",
       " 'img_01819.jpg': 49,\n",
       " 'img_01418.jpg': 2454,\n",
       " 'img_07440.jpg': 1491,\n",
       " 'img_02219.jpg': 2910,\n",
       " 'img_06644.jpg': 1700,\n",
       " 'img_04756.jpg': 2631,\n",
       " 'img_03755.jpg': 3199,\n",
       " 'img_00333.jpg': 3050,\n",
       " 'img_02440.jpg': 1716,\n",
       " 'img_07172.jpg': 1153,\n",
       " 'img_07483.jpg': 2424,\n",
       " 'img_07273.jpg': 2973,\n",
       " 'img_03266.jpg': 3034,\n",
       " 'img_02671.jpg': 1457,\n",
       " 'img_07227.jpg': 2323,\n",
       " 'img_05158.jpg': 755,\n",
       " 'img_02874.jpg': 2436,\n",
       " 'img_01433.jpg': 1377,\n",
       " 'img_02840.jpg': 1490,\n",
       " 'img_03673.jpg': 777,\n",
       " 'img_01767.jpg': 2668,\n",
       " 'img_00114.jpg': 3223,\n",
       " 'img_07877.jpg': 741,\n",
       " 'img_02178.jpg': 682,\n",
       " 'img_02926.jpg': 1735,\n",
       " 'img_01709.jpg': 2847,\n",
       " 'img_05600.jpg': 988,\n",
       " 'img_04954.jpg': 759,\n",
       " 'img_01974.jpg': 3183,\n",
       " 'img_07665.jpg': 3150,\n",
       " 'img_06523.jpg': 2527,\n",
       " 'img_03999.jpg': 2732,\n",
       " 'img_02017.jpg': 2021,\n",
       " 'img_04009.jpg': 2041,\n",
       " 'img_01800.jpg': 1152,\n",
       " 'img_07510.jpg': 3139,\n",
       " 'img_06234.jpg': 2802,\n",
       " 'img_03898.jpg': 2659,\n",
       " 'img_07159.jpg': 913,\n",
       " 'img_01313.jpg': 178,\n",
       " 'img_05745.jpg': 601,\n",
       " 'img_03700.jpg': 1028,\n",
       " 'img_03171.jpg': 44,\n",
       " 'img_02650.jpg': 2056,\n",
       " 'img_06374.jpg': 2625,\n",
       " 'img_05716.jpg': 2114,\n",
       " 'img_03015.jpg': 3249,\n",
       " 'img_06248.jpg': 2082,\n",
       " 'img_01628.jpg': 1734,\n",
       " 'img_01776.jpg': 1642,\n",
       " 'img_00585.jpg': 2127,\n",
       " 'img_04279.jpg': 1752,\n",
       " 'img_06263.jpg': 297,\n",
       " 'img_07473.jpg': 2586,\n",
       " 'img_02202.jpg': 2409,\n",
       " 'img_02046.jpg': 1313,\n",
       " 'img_03262.jpg': 1296,\n",
       " 'img_01047.jpg': 240,\n",
       " 'img_02140.jpg': 118,\n",
       " 'img_07105.jpg': 961,\n",
       " 'img_03009.jpg': 1889,\n",
       " 'img_01922.jpg': 1845,\n",
       " 'img_07009.jpg': 1424,\n",
       " 'img_04420.jpg': 2905,\n",
       " 'img_03002.jpg': 1800,\n",
       " 'img_03057.jpg': 2528,\n",
       " 'img_01329.jpg': 3052,\n",
       " 'img_06422.jpg': 980,\n",
       " 'img_02053.jpg': 3144,\n",
       " 'img_06163.jpg': 2503,\n",
       " 'img_05884.jpg': 864,\n",
       " 'img_07038.jpg': 2946,\n",
       " 'img_06645.jpg': 106,\n",
       " 'img_00421.jpg': 347,\n",
       " 'img_03826.jpg': 2084,\n",
       " 'img_00379.jpg': 1555,\n",
       " 'img_01658.jpg': 3029,\n",
       " 'img_05685.jpg': 2597,\n",
       " 'img_05097.jpg': 2722,\n",
       " 'img_04350.jpg': 548,\n",
       " 'img_07021.jpg': 819,\n",
       " 'img_01307.jpg': 2548,\n",
       " 'img_01898.jpg': 2860,\n",
       " 'img_01074.jpg': 715,\n",
       " 'img_01061.jpg': 2568,\n",
       " 'img_00131.jpg': 1855,\n",
       " 'img_04779.jpg': 2441,\n",
       " 'img_01574.jpg': 298,\n",
       " 'img_03834.jpg': 2394,\n",
       " 'img_04177.jpg': 2483,\n",
       " 'img_02583.jpg': 182,\n",
       " 'img_03400.jpg': 2945,\n",
       " 'img_06157.jpg': 776,\n",
       " 'img_00377.jpg': 2104,\n",
       " 'img_06075.jpg': 206,\n",
       " 'img_01125.jpg': 732,\n",
       " 'img_03451.jpg': 1055,\n",
       " 'img_07109.jpg': 3158,\n",
       " 'img_03879.jpg': 269,\n",
       " 'img_00010.jpg': 937,\n",
       " 'img_06293.jpg': 670,\n",
       " 'img_07914.jpg': 17,\n",
       " 'img_07081.jpg': 727,\n",
       " 'img_01527.jpg': 1765,\n",
       " 'img_07180.jpg': 211,\n",
       " 'img_05966.jpg': 1788,\n",
       " 'img_05762.jpg': 2609,\n",
       " 'img_05419.jpg': 1143,\n",
       " 'img_07644.jpg': 2839,\n",
       " 'img_05546.jpg': 2334,\n",
       " 'img_05542.jpg': 1859,\n",
       " 'img_02915.jpg': 642,\n",
       " 'img_00437.jpg': 3176,\n",
       " 'img_03944.jpg': 1090,\n",
       " 'img_03409.jpg': 1670,\n",
       " 'img_01304.jpg': 324,\n",
       " 'img_06823.jpg': 421,\n",
       " 'img_07741.jpg': 1081,\n",
       " 'img_02094.jpg': 2519,\n",
       " 'img_03304.jpg': 1072,\n",
       " 'img_04825.jpg': 2990,\n",
       " 'img_01363.jpg': 222,\n",
       " 'img_03050.jpg': 969,\n",
       " 'img_04098.jpg': 812,\n",
       " 'img_03509.jpg': 1458,\n",
       " 'img_07262.jpg': 1274,\n",
       " 'img_05818.jpg': 70,\n",
       " 'img_07400.jpg': 3227,\n",
       " 'img_02633.jpg': 2678,\n",
       " 'img_06763.jpg': 3106,\n",
       " 'img_06458.jpg': 1392,\n",
       " 'img_00545.jpg': 33,\n",
       " 'img_01525.jpg': 2025,\n",
       " 'img_02163.jpg': 925,\n",
       " 'img_05574.jpg': 2632,\n",
       " 'img_01568.jpg': 2143,\n",
       " 'img_03531.jpg': 1851,\n",
       " 'img_02597.jpg': 2872,\n",
       " 'img_00508.jpg': 175,\n",
       " ...}"
      ]
     },
     "execution_count": 33,
     "metadata": {},
     "output_type": "execute_result"
    }
   ],
   "source": [
    "train_file2idx"
   ]
  },
  {
   "cell_type": "code",
   "execution_count": 34,
   "metadata": {
    "ExecuteTime": {
     "end_time": "2017-07-25T09:49:21.623574Z",
     "start_time": "2017-07-25T09:49:21.620031Z"
    },
    "collapsed": true
   },
   "outputs": [],
   "source": [
    "# for any images that have no annotations, we'll create an empty bounding box\n",
    "empty_bbox = {'height': 0., 'width': 0., 'x':0., 'y': 0.}"
   ]
  },
  {
   "cell_type": "code",
   "execution_count": 35,
   "metadata": {
    "ExecuteTime": {
     "end_time": "2017-07-25T09:50:37.990070Z",
     "start_time": "2017-07-25T09:50:36.422417Z"
    },
    "collapsed": true
   },
   "outputs": [],
   "source": [
    "for x in raw_train_filenames:\n",
    "    if not x in bb_json.keys(): bb_json[x] = empty_bbox\n",
    "for x in raw_val_filenames:\n",
    "    if not x in bb_json.keys(): bb_json[x] = empty_bbox"
   ]
  },
  {
   "cell_type": "code",
   "execution_count": 37,
   "metadata": {
    "ExecuteTime": {
     "end_time": "2017-07-25T09:53:14.882427Z",
     "start_time": "2017-07-25T09:53:14.874997Z"
    },
    "collapsed": true
   },
   "outputs": [],
   "source": [
    "# convert the coordinates to our resized 224x224 images\n",
    "def convert_bb(bb, size):\n",
    "    bb = [bb[p] for p in ['height', 'width', 'x', 'y']]\n",
    "    conv_x = (224. / size[0])\n",
    "    conv_y = (224. / size[1])\n",
    "    bb[0]  = bb[0]*conv_y\n",
    "    bb[1]  = bb[1]*conv_x\n",
    "    bb[2] = max(bb[2]*conv_x, 0)\n",
    "    bb[3] = max(bb[3]*conv_y, 0)\n",
    "    return bb"
   ]
  },
  {
   "cell_type": "code",
   "execution_count": 41,
   "metadata": {
    "ExecuteTime": {
     "end_time": "2017-07-25T09:57:30.386072Z",
     "start_time": "2017-07-25T09:57:30.116718Z"
    },
    "collapsed": false
   },
   "outputs": [],
   "source": [
    "raw_train_sizes = [PIL.Image.open('data/fish/train/' + x).size for x in train_filenames]\n",
    "raw_val_sizes   = [PIL.Image.open('data/fish/valid/' + x).size for x in val_filenames]"
   ]
  },
  {
   "cell_type": "code",
   "execution_count": 42,
   "metadata": {
    "ExecuteTime": {
     "end_time": "2017-07-25T09:58:12.913731Z",
     "start_time": "2017-07-25T09:58:12.878777Z"
    },
    "collapsed": true
   },
   "outputs": [],
   "source": [
    "train_bbox = np.stack([convert_bb(bb_json[f], s) for f,s in zip(raw_train_filenames, raw_train_sizes)])\n",
    "val_bbox   = np.stack([convert_bb(bb_json[f], s) for f,s in zip(raw_val_filenames, raw_val_sizes)])"
   ]
  },
  {
   "cell_type": "code",
   "execution_count": 48,
   "metadata": {
    "ExecuteTime": {
     "end_time": "2017-07-25T10:00:22.707188Z",
     "start_time": "2017-07-25T10:00:22.701310Z"
    },
    "collapsed": true
   },
   "outputs": [],
   "source": [
    "def plot_bb(i):\n",
    "    bb = val_bbox[i]\n",
    "    plot(val_data[i])\n",
    "    plt.gca().add_patch(\n",
    "        plt.Rectangle((bb[2], bb[3]), bb[1], bb[0], color='red', fill=False, lw=3)\n",
    "    )"
   ]
  },
  {
   "cell_type": "code",
   "execution_count": 50,
   "metadata": {
    "ExecuteTime": {
     "end_time": "2017-07-25T10:00:34.013153Z",
     "start_time": "2017-07-25T10:00:33.773204Z"
    },
    "collapsed": false
   },
   "outputs": [
    {
     "data": {
      "image/png": "[encoded data removed]",
      "text/plain": [
       "<matplotlib.figure.Figure at 0x7fac28290310>"
      ]
     },
     "metadata": {},
     "output_type": "display_data"
    }
   ],
   "source": [
    "%matplotlib inline\n",
    "plot_bb(0)"
   ]
  },
  {
   "cell_type": "code",
   "execution_count": 51,
   "metadata": {
    "ExecuteTime": {
     "end_time": "2017-07-25T10:04:08.094926Z",
     "start_time": "2017-07-25T10:04:07.688860Z"
    },
    "collapsed": true
   },
   "outputs": [],
   "source": [
    "# functional api\n",
    "inp = Input(conv_layers[-1].output_shape[1:])\n",
    "x   = MaxPooling2D()(inp)\n",
    "x   = BatchNormalization(axis=1)(x)\n",
    "x   = Dropout(0.6/4)(x)\n",
    "x   = Flatten()(x)\n",
    "x   = Dense(512, activation='relu')(x)\n",
    "x   = BatchNormalization()(x)\n",
    "x   = Dropout(0.6)(x)\n",
    "x   = Dense(512, activation='relu')(x)\n",
    "x   = BatchNormalization()(x)\n",
    "x   = Dropout(0.6/2)(x)\n",
    "y_bb= Dense(4, name='bb')(x)\n",
    "y_c = Dense(8, activation='softmax', name='class')(x)"
   ]
  },
  {
   "cell_type": "code",
   "execution_count": 53,
   "metadata": {
    "ExecuteTime": {
     "end_time": "2017-07-25T10:05:42.367262Z",
     "start_time": "2017-07-25T10:05:42.347306Z"
    },
    "collapsed": false
   },
   "outputs": [],
   "source": [
    "# multi-output\n",
    "model = Model([inp], [y_bb, y_c])\n",
    "model.compile(optimizer=Adam(lr=0.001),\n",
    "             loss=['mse', 'categorical_crossentropy'],\n",
    "             metrics=['accuracy'],\n",
    "             loss_weights=[0.001, 1.])"
   ]
  },
  {
   "cell_type": "code",
   "execution_count": 55,
   "metadata": {
    "ExecuteTime": {
     "end_time": "2017-07-25T10:07:20.280279Z",
     "start_time": "2017-07-25T10:06:52.879365Z"
    },
    "collapsed": false
   },
   "outputs": [
    {
     "name": "stdout",
     "output_type": "stream",
     "text": [
      "Train on 3277 samples, validate on 500 samples\n",
      "Epoch 1/3\n",
      "2s - loss: 6.1254 - bb_loss: 5011.8386 - class_loss: 1.1135 - bb_acc: 0.4269 - class_acc: 0.6802 - val_loss: 5.0604 - val_bb_loss: 4126.9438 - val_class_loss: 0.9335 - val_bb_acc: 0.6240 - val_class_acc: 0.8540\n",
      "Epoch 2/3\n",
      "2s - loss: 5.0594 - bb_loss: 4715.9312 - class_loss: 0.3435 - bb_acc: 0.5035 - class_acc: 0.8969 - val_loss: 4.2419 - val_bb_loss: 3948.8752 - val_class_loss: 0.2930 - val_bb_acc: 0.6120 - val_class_acc: 0.9280\n",
      "Epoch 3/3\n",
      "2s - loss: 4.3860 - bb_loss: 4225.5337 - class_loss: 0.1604 - bb_acc: 0.5407 - class_acc: 0.9551 - val_loss: 3.7398 - val_bb_loss: 3525.3611 - val_class_loss: 0.2144 - val_bb_acc: 0.5980 - val_class_acc: 0.9500\n"
     ]
    },
    {
     "data": {
      "text/plain": [
       "<keras.callbacks.History at 0x7fac268ef410>"
      ]
     },
     "execution_count": 55,
     "metadata": {},
     "output_type": "execute_result"
    }
   ],
   "source": [
    "model.fit(conv_train_features,\n",
    "         [train_bbox, train_labels],\n",
    "         batch_size=64,\n",
    "         nb_epoch=3,\n",
    "         validation_data=(conv_val_features, [val_bbox, val_labels]),\n",
    "         verbose=2)"
   ]
  },
  {
   "cell_type": "code",
   "execution_count": 56,
   "metadata": {
    "ExecuteTime": {
     "end_time": "2017-07-25T10:07:30.377308Z",
     "start_time": "2017-07-25T10:07:30.373727Z"
    },
    "collapsed": true
   },
   "outputs": [],
   "source": [
    "model.optimizer.lr = 1e-5"
   ]
  },
  {
   "cell_type": "code",
   "execution_count": 57,
   "metadata": {
    "ExecuteTime": {
     "end_time": "2017-07-25T10:08:05.210987Z",
     "start_time": "2017-07-25T10:07:41.378103Z"
    },
    "collapsed": false
   },
   "outputs": [
    {
     "name": "stdout",
     "output_type": "stream",
     "text": [
      "Train on 3277 samples, validate on 500 samples\n",
      "Epoch 1/10\n",
      "2s - loss: 3.6836 - bb_loss: 3576.5528 - class_loss: 0.1070 - bb_acc: 0.5713 - class_acc: 0.9744 - val_loss: 3.1965 - val_bb_loss: 3018.1244 - val_class_loss: 0.1784 - val_bb_acc: 0.6200 - val_class_acc: 0.9580\n",
      "Epoch 2/10\n",
      "2s - loss: 2.8978 - bb_loss: 2833.9687 - class_loss: 0.0638 - bb_acc: 0.6125 - class_acc: 0.9808 - val_loss: 2.5159 - val_bb_loss: 2326.3000 - val_class_loss: 0.1896 - val_bb_acc: 0.6300 - val_class_acc: 0.9580\n",
      "Epoch 3/10\n",
      "2s - loss: 2.0807 - bb_loss: 2021.9270 - class_loss: 0.0587 - bb_acc: 0.6555 - class_acc: 0.9860 - val_loss: 1.7954 - val_bb_loss: 1633.4680 - val_class_loss: 0.1619 - val_bb_acc: 0.6800 - val_class_acc: 0.9640\n",
      "Epoch 4/10\n",
      "2s - loss: 1.3105 - bb_loss: 1257.8471 - class_loss: 0.0526 - bb_acc: 0.6820 - class_acc: 0.9847 - val_loss: 1.1698 - val_bb_loss: 1004.9433 - val_class_loss: 0.1649 - val_bb_acc: 0.7400 - val_class_acc: 0.9660\n",
      "Epoch 5/10\n",
      "2s - loss: 0.7551 - bb_loss: 714.5281 - class_loss: 0.0406 - bb_acc: 0.7293 - class_acc: 0.9887 - val_loss: 0.8049 - val_bb_loss: 616.7377 - val_class_loss: 0.1882 - val_bb_acc: 0.7700 - val_class_acc: 0.9620\n",
      "Epoch 6/10\n",
      "2s - loss: 0.4815 - bb_loss: 451.3000 - class_loss: 0.0302 - bb_acc: 0.7644 - class_acc: 0.9927 - val_loss: 0.6497 - val_bb_loss: 448.6869 - val_class_loss: 0.2010 - val_bb_acc: 0.8100 - val_class_acc: 0.9640\n",
      "Epoch 7/10\n",
      "2s - loss: 0.3562 - bb_loss: 324.0724 - class_loss: 0.0321 - bb_acc: 0.7861 - class_acc: 0.9893 - val_loss: 0.5782 - val_bb_loss: 364.2015 - val_class_loss: 0.2140 - val_bb_acc: 0.8300 - val_class_acc: 0.9580\n",
      "Epoch 8/10\n",
      "2s - loss: 0.3170 - bb_loss: 279.8198 - class_loss: 0.0372 - bb_acc: 0.7885 - class_acc: 0.9896 - val_loss: 0.5034 - val_bb_loss: 322.5204 - val_class_loss: 0.1809 - val_bb_acc: 0.8420 - val_class_acc: 0.9560\n",
      "Epoch 9/10\n",
      "2s - loss: 0.2928 - bb_loss: 258.6411 - class_loss: 0.0342 - bb_acc: 0.7913 - class_acc: 0.9893 - val_loss: 0.5594 - val_bb_loss: 311.6683 - val_class_loss: 0.2478 - val_bb_acc: 0.8400 - val_class_acc: 0.9580\n",
      "Epoch 10/10\n",
      "2s - loss: 0.2668 - bb_loss: 238.0042 - class_loss: 0.0288 - bb_acc: 0.7861 - class_acc: 0.9905 - val_loss: 0.5220 - val_bb_loss: 296.2229 - val_class_loss: 0.2258 - val_bb_acc: 0.8300 - val_class_acc: 0.9660\n"
     ]
    },
    {
     "data": {
      "text/plain": [
       "<keras.callbacks.History at 0x7fac28146d10>"
      ]
     },
     "execution_count": 57,
     "metadata": {},
     "output_type": "execute_result"
    }
   ],
   "source": [
    "model.fit(conv_train_features,\n",
    "         [train_bbox, train_labels],\n",
    "         batch_size=64,\n",
    "         nb_epoch=10,\n",
    "         validation_data=(conv_val_features, [val_bbox, val_labels]),\n",
    "         verbose=2)"
   ]
  },
  {
   "cell_type": "code",
   "execution_count": null,
   "metadata": {
    "collapsed": true
   },
   "outputs": [],
   "source": []
  }
 ],
 "metadata": {
  "kernelspec": {
   "display_name": "Python [default]",
   "language": "python",
   "name": "python2"
  },
  "language_info": {
   "codemirror_mode": {
    "name": "ipython",
    "version": 2
   },
   "file_extension": ".py",
   "mimetype": "text/x-python",
   "name": "python",
   "nbconvert_exporter": "python",
   "pygments_lexer": "ipython2",
   "version": "2.7.13"
  },
  "toc": {
   "colors": {
    "hover_highlight": "#DAA520",
    "navigate_num": "#000000",
    "navigate_text": "#333333",
    "running_highlight": "#FF0000",
    "selected_highlight": "#FFD700",
    "sidebar_border": "#EEEEEE",
    "wrapper_background": "#FFFFFF"
   },
   "moveMenuLeft": true,
   "nav_menu": {
    "height": "84px",
    "width": "252px"
   },
   "navigate_menu": true,
   "number_sections": true,
   "sideBar": true,
   "threshold": 4,
   "toc_cell": false,
   "toc_section_display": "block",
   "toc_window_display": false,
   "widenNotebook": false
  },
  "varInspector": {
   "cols": {
    "lenName": 16,
    "lenType": 16,
    "lenVar": 40
   },
   "kernels_config": {
    "python": {
     "delete_cmd_postfix": "",
     "delete_cmd_prefix": "del ",
     "library": "var_list.py",
     "varRefreshCmd": "print(var_dic_list())"
    },
    "r": {
     "delete_cmd_postfix": ") ",
     "delete_cmd_prefix": "rm(",
     "library": "var_list.r",
     "varRefreshCmd": "cat(var_dic_list()) "
    }
   },
   "types_to_exclude": [
    "module",
    "function",
    "builtin_function_or_method",
    "instance",
    "_Feature"
   ],
   "window_display": false
  }
 },
 "nbformat": 4,
 "nbformat_minor": 2
}
